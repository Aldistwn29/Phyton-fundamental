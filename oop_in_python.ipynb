{
  "nbformat": 4,
  "nbformat_minor": 0,
  "metadata": {
    "colab": {
      "provenance": [],
      "authorship_tag": "ABX9TyNxwb0pYZUz6odr7LYjIGi6",
      "include_colab_link": true
    },
    "kernelspec": {
      "name": "python3",
      "display_name": "Python 3"
    },
    "language_info": {
      "name": "python"
    }
  },
  "cells": [
    {
      "cell_type": "markdown",
      "metadata": {
        "id": "view-in-github",
        "colab_type": "text"
      },
      "source": [
        "<a href=\"https://colab.research.google.com/github/Aldistwn29/Phyton-fundamental/blob/main/oop_in_python.ipynb\" target=\"_parent\"><img src=\"https://colab.research.google.com/assets/colab-badge.svg\" alt=\"Open In Colab\"/></a>"
      ]
    },
    {
      "cell_type": "markdown",
      "source": [
        "# Class"
      ],
      "metadata": {
        "id": "3MydYaKvg5Bp"
      }
    },
    {
      "cell_type": "markdown",
      "source": [
        "\n",
        "\n",
        "*   Class dibuat dengan kyword class\n",
        "*   Atribut adalah variabel yg dimiliki\n",
        "oleh sebuah kelas\n",
        "*   Atribut selalu bersifat publik dan dapat diakses menggunkan oprator titik(.) Mis: Myclass, Myattribut\n",
        "\n",
        "\n",
        "\n"
      ],
      "metadata": {
        "id": "fn6w8rspg8rb"
      }
    },
    {
      "cell_type": "code",
      "execution_count": null,
      "metadata": {
        "id": "ZGqhmmkPgvN2"
      },
      "outputs": [],
      "source": [
        "class Classname:\n",
        "  #Statement-1\n",
        "\n",
        "  #Statement-N"
      ]
    },
    {
      "cell_type": "code",
      "source": [
        "# pendefinisian class\n",
        "class Dog:\n",
        "  pass"
      ],
      "metadata": {
        "id": "5txtMCXLifVb"
      },
      "execution_count": 1,
      "outputs": []
    },
    {
      "cell_type": "markdown",
      "source": [
        "# Object"
      ],
      "metadata": {
        "id": "OWYasrmxipGM"
      }
    },
    {
      "cell_type": "code",
      "source": [
        "obj = Dog()"
      ],
      "metadata": {
        "id": "KRNCC8rKitJ5"
      },
      "execution_count": 2,
      "outputs": []
    }
  ]
}