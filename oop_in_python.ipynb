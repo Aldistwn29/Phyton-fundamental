{
  "nbformat": 4,
  "nbformat_minor": 0,
  "metadata": {
    "colab": {
      "provenance": [],
      "authorship_tag": "ABX9TyPu8TckHVdpd1bDqq/F0vKx",
      "include_colab_link": true
    },
    "kernelspec": {
      "name": "python3",
      "display_name": "Python 3"
    },
    "language_info": {
      "name": "python"
    }
  },
  "cells": [
    {
      "cell_type": "markdown",
      "metadata": {
        "id": "view-in-github",
        "colab_type": "text"
      },
      "source": [
        "<a href=\"https://colab.research.google.com/github/Aldistwn29/Phyton-fundamental/blob/main/oop_in_python.ipynb\" target=\"_parent\"><img src=\"https://colab.research.google.com/assets/colab-badge.svg\" alt=\"Open In Colab\"/></a>"
      ]
    },
    {
      "cell_type": "markdown",
      "source": [
        "# Class"
      ],
      "metadata": {
        "id": "3MydYaKvg5Bp"
      }
    },
    {
      "cell_type": "markdown",
      "source": [
        "\n",
        "\n",
        "*   Class dibuat dengan kyword class\n",
        "*   Atribut adalah variabel yg dimiliki\n",
        "oleh sebuah kelas\n",
        "*   Atribut selalu bersifat publik dan dapat diakses menggunkan oprator titik(.) Mis: Myclass, Myattribut\n",
        "\n",
        "\n",
        "\n"
      ],
      "metadata": {
        "id": "fn6w8rspg8rb"
      }
    },
    {
      "cell_type": "code",
      "execution_count": null,
      "metadata": {
        "id": "ZGqhmmkPgvN2"
      },
      "outputs": [],
      "source": [
        "class Classname:\n",
        "  #Statement-1\n",
        "\n",
        "  #Statement-N"
      ]
    },
    {
      "cell_type": "code",
      "source": [
        "# pendefinisian class\n",
        "class Dog:\n",
        "  pass"
      ],
      "metadata": {
        "id": "5txtMCXLifVb"
      },
      "execution_count": null,
      "outputs": []
    },
    {
      "cell_type": "markdown",
      "source": [
        "# Object"
      ],
      "metadata": {
        "id": "OWYasrmxipGM"
      }
    },
    {
      "cell_type": "code",
      "source": [
        "obj = Dog()"
      ],
      "metadata": {
        "id": "KRNCC8rKitJ5"
      },
      "execution_count": null,
      "outputs": []
    },
    {
      "cell_type": "markdown",
      "source": [
        "ini akan membuat objek bernama obj dari kelas Dog yg di definiskan di atas. Sebelum menyekam jauh ke dalam objek dan kelas, mari kita pahami beberapa keta kunci yg akan kita gunakan saat berjalan dengan objek dan kelas.\n",
        "self in class:\n",
        "1. Metode kelas harus memiliki parameter tamnahan pertama dalam definisi metode. Kita tidak memberikan nilai untuk parameter ini saat kita memanggil metode. Python menyediakannya\n",
        "2. Jika kita memiliki metode tidak membutuhkan argumen, maka kita masih harus memiliki satu  argumen.\n",
        "3. ini mirip dengan pointer ini di C++ dan referensi ini di Java. Ketika kita memanggil metode objek ini sebagai myobject.method(arg1, arg2), ini secara otomatis di ubah oleh python menjadi MyClass(myobjek,arg1,arg2)\n",
        "\n",
        "Metode init\n",
        "Metode init mirip dengan konstruktor di C++ dan Java. ini dijalankan segera setelah objek kelas dipakai. Metode ini berguna untuk melakukan inisialisasi apa pun yg ingin kita lakukan dengan objek kita."
      ],
      "metadata": {
        "id": "JAXLhyZemEhb"
      }
    },
    {
      "cell_type": "code",
      "source": [
        "class Dog:\n",
        "\n",
        "  # class attribut\n",
        "  attrl = \"mamal\"\n",
        "\n",
        "  # instance attribut\n",
        "  def __init__(self, name):\n",
        "    self.name = name\n",
        "\n",
        "# Drive code\n",
        "# Object instantiation\n",
        "Roger = Dog(\"Roger\")\n",
        "Tommy = Dog(\"Tommy\")\n",
        "\n",
        "# Accessing class attributes\n",
        "print(\"Roger is a {}\".format(Roger.__class__.attrl))\n",
        "print(\"Tommy is also a {}\".format(Tommy.__class__.attrl))\n",
        "\n",
        "# Accessing instancing attributes\n",
        "print(\"My name is {}\".format(Roger.name))\n",
        "print(\"My name is {}\".format(Tommy.name))"
      ],
      "metadata": {
        "colab": {
          "base_uri": "https://localhost:8080/"
        },
        "id": "nZlvw-Mzo-n4",
        "outputId": "d1cbbe15-09c1-4de3-813a-086c6045e8f9"
      },
      "execution_count": 13,
      "outputs": [
        {
          "output_type": "stream",
          "name": "stdout",
          "text": [
            "Roger is a mamal\n",
            "Tommy is also a mamal\n",
            "My name is Roger\n",
            "My name is Tommy\n"
          ]
        }
      ]
    },
    {
      "cell_type": "markdown",
      "source": [
        "2. Membuat kelas dan objek dengan metode."
      ],
      "metadata": {
        "id": "k9hcZp7mtS8A"
      }
    },
    {
      "cell_type": "code",
      "source": [
        "class Dog:\n",
        "\n",
        "  # class attribut\n",
        "  attrl = \"mamal\"\n",
        "\n",
        "  # Instance attribut\n",
        "  def __init__(self, name):\n",
        "    self.name = name\n",
        "\n",
        "  def speak(self):\n",
        "    print(\"My name is {}\".format(self.name))\n",
        "\n",
        "# Driving Code\n",
        "# Object instantiation\n",
        "Roger = Dog(\"Roger\")\n",
        "Tommy = Dog(\"Tommy\")\n",
        "\n",
        "# Accessing class methods\n",
        "Roger.speak()\n",
        "Tommy.speak()"
      ],
      "metadata": {
        "colab": {
          "base_uri": "https://localhost:8080/"
        },
        "id": "x_XDwDqdtUTN",
        "outputId": "91d56ba8-fd3e-459a-ac76-725076070bc6"
      },
      "execution_count": 17,
      "outputs": [
        {
          "output_type": "stream",
          "name": "stdout",
          "text": [
            "My name is Roger\n",
            "My name is Tommy\n"
          ]
        }
      ]
    },
    {
      "cell_type": "markdown",
      "source": [
        "Inheritance(pewarisan)"
      ],
      "metadata": {
        "id": "FZyBtfsrwK_u"
      }
    },
    {
      "cell_type": "code",
      "source": [
        "# parent class\n",
        "class person(object):\n",
        "\n",
        "  # __init__ is Know as the constructor\n",
        "  def __init__(self, name, gelar, nim):\n",
        "    self.name = name\n",
        "    self.gelar = gelar\n",
        "    self.nim = nim\n",
        "\n",
        "  def display(self):\n",
        "    print(self.name)\n",
        "    print(self.gelar)\n",
        "    print(self.nim)\n",
        "\n",
        "  def details(self):\n",
        "    print(\"My Name is {}\".format(self.name))\n",
        "    print(\"Gelar:  {}\".format(self.gelar))\n",
        "    print(\"Nim:  {}\".format(self.nim))\n",
        "\n",
        "# Child class\n",
        "class Employee(person):\n",
        "  def __init__(self, name, gelar, nim, salary, post):\n",
        "    self.salary = salary\n",
        "    self.post = post\n",
        "    # invoking the __init__ of the perent class\n",
        "    person.__init__(self, name, gelar, nim)\n",
        "\n",
        "  def details(self):\n",
        "    print(\"My name is {}\".format(self.name))\n",
        "    print(\"Gelar: {}\".format(self.gelar))\n",
        "    print(\"NIM: {}\".format(self.nim))\n",
        "    print(\"Salary : {}\".format(self.salary))\n",
        "    print(\"post: {}\".format(self.post))\n",
        "\n",
        "# creation of an object variabel or an intance\n",
        "a = Employee(\"Aldi Setiawan\", \"S.KOM\", 20220040054, 50000000, 'Mahasiswa')\n",
        "\n",
        "# callimh a finction of the class Person Using\n",
        "# its instance\n",
        "a.display()\n",
        "a.details()"
      ],
      "metadata": {
        "colab": {
          "base_uri": "https://localhost:8080/"
        },
        "id": "0dOGhRTKwRHD",
        "outputId": "68a7833b-6481-491d-c3b6-4417457ef296"
      },
      "execution_count": 68,
      "outputs": [
        {
          "output_type": "stream",
          "name": "stdout",
          "text": [
            "Aldi Setiawan\n",
            "S.KOM\n",
            "20220040054\n",
            "My name is Aldi Setiawan\n",
            "Gelar: S.KOM\n",
            "NIM: 20220040054\n",
            "Salary : 50000000\n",
            "post: Mahasiswa\n"
          ]
        }
      ]
    }
  ]
}