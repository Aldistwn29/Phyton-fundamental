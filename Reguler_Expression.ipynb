{
  "nbformat": 4,
  "nbformat_minor": 0,
  "metadata": {
    "colab": {
      "provenance": [],
      "authorship_tag": "ABX9TyORQlcgvHxqdH/Te75IIZU+",
      "include_colab_link": true
    },
    "kernelspec": {
      "name": "python3",
      "display_name": "Python 3"
    },
    "language_info": {
      "name": "python"
    }
  },
  "cells": [
    {
      "cell_type": "markdown",
      "metadata": {
        "id": "view-in-github",
        "colab_type": "text"
      },
      "source": [
        "<a href=\"https://colab.research.google.com/github/Aldistwn29/Phyton-fundamental/blob/main/Reguler_Expression.ipynb\" target=\"_parent\"><img src=\"https://colab.research.google.com/assets/colab-badge.svg\" alt=\"Open In Colab\"/></a>"
      ]
    },
    {
      "cell_type": "markdown",
      "source": [
        "# What is Reguler Expression"
      ],
      "metadata": {
        "id": "3owfxqN1-Pef"
      }
    },
    {
      "cell_type": "code",
      "execution_count": null,
      "metadata": {
        "colab": {
          "base_uri": "https://localhost:8080/"
        },
        "id": "4GqSWZ8j-I9h",
        "outputId": "7675e412-153a-49d9-da91-5076ebdd7375"
      },
      "outputs": [
        {
          "output_type": "stream",
          "name": "stdout",
          "text": [
            "Start index:  9\n",
            "End index:  15\n"
          ]
        }
      ],
      "source": [
        "import re\n",
        "\n",
        "s = 'Myskill: portal for any learning path'\n",
        "\n",
        "match = re.search(r'portal', s)\n",
        "\n",
        "print(\"Start index: \", match.start())\n",
        "print(\"End index: \", match.end())"
      ]
    },
    {
      "cell_type": "code",
      "source": [
        "s = 'Myskill: portal for any learning path'\n",
        "list_s = s.split()\n",
        "list_count = len(list_s)\n",
        "\n",
        "print(list_count)\n"
      ],
      "metadata": {
        "colab": {
          "base_uri": "https://localhost:8080/"
        },
        "id": "TP_CuM2HCzuF",
        "outputId": "e6f33cdd-231a-4426-bd6d-77e30bff7947"
      },
      "execution_count": null,
      "outputs": [
        {
          "output_type": "stream",
          "name": "stdout",
          "text": [
            "6\n"
          ]
        }
      ]
    },
    {
      "cell_type": "code",
      "source": [
        "s = '123aba'\n",
        "jumlah_angka = 0\n",
        "\n",
        "for char in s:\n",
        "  if char.isdigit():\n",
        "    jumlah_angka +=1\n",
        "\n",
        "print(jumlah_angka)"
      ],
      "metadata": {
        "colab": {
          "base_uri": "https://localhost:8080/"
        },
        "id": "HycjpOsFD-9p",
        "outputId": "4b5e04bf-4161-4e67-d805-f0123f3ea70f"
      },
      "execution_count": null,
      "outputs": [
        {
          "output_type": "stream",
          "name": "stdout",
          "text": [
            "3\n"
          ]
        }
      ]
    },
    {
      "cell_type": "markdown",
      "source": [
        "# Matacharacter"
      ],
      "metadata": {
        "id": "ClysQgZhsze7"
      }
    },
    {
      "cell_type": "markdown",
      "source": [
        "# Example matacharacter"
      ],
      "metadata": {
        "id": "E0hJ7Mots7kH"
      }
    },
    {
      "cell_type": "markdown",
      "source": [
        "# Backslash \\"
      ],
      "metadata": {
        "id": "l7fKXj3WsWh4"
      }
    },
    {
      "cell_type": "code",
      "source": [
        "import re\n",
        "\n",
        "s = \"My.skill\"\n",
        "\n",
        "# without using \\\n",
        "match = re.search(r'.', s)\n",
        "print(match)\n",
        "\n",
        "# Using \\\n",
        "match = re.search(r'\\.', s)\n",
        "print(match)"
      ],
      "metadata": {
        "colab": {
          "base_uri": "https://localhost:8080/"
        },
        "id": "74956rEstDk8",
        "outputId": "cb181198-074b-4512-9d50-0542f90984f3"
      },
      "execution_count": null,
      "outputs": [
        {
          "output_type": "stream",
          "name": "stdout",
          "text": [
            "<re.Match object; span=(0, 1), match='M'>\n",
            "<re.Match object; span=(2, 3), match='.'>\n"
          ]
        }
      ]
    },
    {
      "cell_type": "markdown",
      "source": [
        "# Star (*)"
      ],
      "metadata": {
        "id": "GvHjASYqtbYL"
      }
    },
    {
      "cell_type": "code",
      "source": [
        "import re\n",
        "\n",
        "s = \"Aldi*Setawan\"\n",
        "\n",
        "# without using \\\n",
        "match = re.search(r'S', s)\n",
        "print(match)\n",
        "\n",
        "# Using \\\n",
        "match = re.search(r'\\*', s)\n",
        "print(match)"
      ],
      "metadata": {
        "colab": {
          "base_uri": "https://localhost:8080/"
        },
        "id": "dz5GAfrB3Plx",
        "outputId": "a7e2eaad-d08f-420b-8714-44fac826ce56"
      },
      "execution_count": null,
      "outputs": [
        {
          "output_type": "stream",
          "name": "stdout",
          "text": [
            "<re.Match object; span=(5, 6), match='S'>\n",
            "<re.Match object; span=(4, 5), match='*'>\n"
          ]
        }
      ]
    },
    {
      "cell_type": "markdown",
      "source": [
        "# Squere brackets[]"
      ],
      "metadata": {
        "id": "MWrWzgkatjFZ"
      }
    },
    {
      "cell_type": "code",
      "source": [
        "import re\n",
        "\n",
        "s = \"[abcde]\"\n",
        "\n",
        "# without using[]\n",
        "match = re.search(r'e',s)\n",
        "print(match)\n",
        "\n",
        "# using squere brackets []\n",
        "# can be written normally[abc]\n",
        "# separated by commas[a,b] or dashes [a-b]\n",
        "match = re.search(r'[d,e]', s)\n",
        "print(match)"
      ],
      "metadata": {
        "colab": {
          "base_uri": "https://localhost:8080/"
        },
        "id": "w5YCzXnPk7u6",
        "outputId": "04f670f0-96db-4809-d45e-bb4ed641ebca"
      },
      "execution_count": null,
      "outputs": [
        {
          "output_type": "stream",
          "name": "stdout",
          "text": [
            "<re.Match object; span=(5, 6), match='e'>\n",
            "<re.Match object; span=(4, 5), match='d'>\n"
          ]
        }
      ]
    },
    {
      "cell_type": "markdown",
      "source": [
        "# Caret (^)"
      ],
      "metadata": {
        "id": "E8aqSVvxtzEm"
      }
    },
    {
      "cell_type": "code",
      "source": [
        "import re\n",
        "\n",
        "s = \"aldi, abdul, akay\"\n",
        "# Without ^\n",
        "match = re.search(r'a', s)\n",
        "print(match)\n",
        "\n",
        "# Using ^\n",
        "match = re.search(r'^a',s)\n",
        "print(match)\n",
        "\n",
        "# Using [^] as the negation of ^\n",
        "match = re.search(r'[^a]', s)\n",
        "print(match)"
      ],
      "metadata": {
        "colab": {
          "base_uri": "https://localhost:8080/"
        },
        "id": "mYPg-yVAsIhq",
        "outputId": "d524ce56-6f2c-4c0c-c64c-be11d76c26a1"
      },
      "execution_count": null,
      "outputs": [
        {
          "output_type": "stream",
          "name": "stdout",
          "text": [
            "<re.Match object; span=(0, 1), match='a'>\n",
            "<re.Match object; span=(0, 1), match='a'>\n",
            "<re.Match object; span=(1, 2), match='l'>\n"
          ]
        }
      ]
    },
    {
      "cell_type": "markdown",
      "source": [
        "# $ Dollar"
      ],
      "metadata": {
        "id": "PZc-hllfFJde"
      }
    },
    {
      "cell_type": "markdown",
      "source": [
        "Untuk memeriksa akhir huruf"
      ],
      "metadata": {
        "id": "5NHaB669Fvva"
      }
    },
    {
      "cell_type": "code",
      "source": [
        "import re\n",
        "s = \"My.skills\"\n",
        "\n",
        "# without Dollar $\n",
        "match = re.search(r's',s)\n",
        "print(match)\n",
        "\n",
        "# Using Dollar $\n",
        "match = re.search(r's$',s)\n",
        "print(match)"
      ],
      "metadata": {
        "colab": {
          "base_uri": "https://localhost:8080/"
        },
        "id": "Lo37YoLKFMvK",
        "outputId": "876c657b-a95b-4732-8fa0-d9bc017251d7"
      },
      "execution_count": null,
      "outputs": [
        {
          "output_type": "stream",
          "name": "stdout",
          "text": [
            "<re.Match object; span=(3, 4), match='s'>\n",
            "<re.Match object; span=(8, 9), match='s'>\n"
          ]
        }
      ]
    },
    {
      "cell_type": "markdown",
      "source": [
        "# Dot"
      ],
      "metadata": {
        "id": "tDw3SCcoG2zO"
      }
    },
    {
      "cell_type": "markdown",
      "source": [
        "hanya cocok dengan satu karakter kecuali untuk krakter baris baru."
      ],
      "metadata": {
        "id": "_T8iJD_SG6cT"
      }
    },
    {
      "cell_type": "code",
      "source": [
        "import re\n",
        "\n",
        "s = \"abbd\"\n",
        "\n",
        "# Using Dot(.)\n",
        "match = re.search(r'a.b', s)\n",
        "print(match)\n",
        "\n",
        "# whether the string consists of two characters\n",
        "match = re.search(r'..',s)\n",
        "print(match)"
      ],
      "metadata": {
        "colab": {
          "base_uri": "https://localhost:8080/"
        },
        "id": "vnq0TFjsHFZn",
        "outputId": "da1fffaa-beaf-47f3-a5dd-1caefeba838a"
      },
      "execution_count": null,
      "outputs": [
        {
          "output_type": "stream",
          "name": "stdout",
          "text": [
            "<re.Match object; span=(0, 3), match='abb'>\n",
            "<re.Match object; span=(0, 2), match='ab'>\n"
          ]
        }
      ]
    },
    {
      "cell_type": "markdown",
      "source": [
        "# Or (|)"
      ],
      "metadata": {
        "id": "ltCQDVPPJpn3"
      }
    },
    {
      "cell_type": "code",
      "source": [
        "import re\n",
        "\n",
        "s = \"abcd\"\n",
        "\n",
        "# Using OR\n",
        "match = re.search(r'b|z', s)\n",
        "print(match)"
      ],
      "metadata": {
        "colab": {
          "base_uri": "https://localhost:8080/"
        },
        "id": "AWgOTUjUJvQE",
        "outputId": "823e2405-82de-4fb0-ebf3-3bb2489f8faa"
      },
      "execution_count": null,
      "outputs": [
        {
          "output_type": "stream",
          "name": "stdout",
          "text": [
            "<re.Match object; span=(1, 2), match='b'>\n"
          ]
        }
      ]
    },
    {
      "cell_type": "markdown",
      "source": [
        "# Question Mark"
      ],
      "metadata": {
        "id": "uCvRDeHUKkau"
      }
    },
    {
      "cell_type": "code",
      "source": [
        "import re\n",
        "s = \"abcdef\"\n",
        "o = \"abbcf\"\n",
        "\n",
        "match = re.search(r'ab?c', s)\n",
        "print(match)\n",
        "\n",
        "# Why the end result is none because there are two charaters\n",
        "match = re.search(r'ab?c', o)\n",
        "print(match)"
      ],
      "metadata": {
        "colab": {
          "base_uri": "https://localhost:8080/"
        },
        "id": "poWWCn7TK9cf",
        "outputId": "b6b38fa6-6fdd-4365-bf56-fb5c8e7cb015"
      },
      "execution_count": null,
      "outputs": [
        {
          "output_type": "stream",
          "name": "stdout",
          "text": [
            "<re.Match object; span=(0, 3), match='abc'>\n",
            "None\n"
          ]
        }
      ]
    },
    {
      "cell_type": "markdown",
      "source": [
        "# Star *"
      ],
      "metadata": {
        "id": "suztg3RrM3j7"
      }
    },
    {
      "cell_type": "code",
      "source": [
        "import re\n",
        "s = \"abcdef\"\n",
        "o = \"abdc\"\n",
        "\n",
        "match = re.search(r'ab*c', s)\n",
        "print(match)\n",
        "\n",
        "match = re.search(r'ab*c', o)\n",
        "print(match)"
      ],
      "metadata": {
        "colab": {
          "base_uri": "https://localhost:8080/"
        },
        "id": "q79YpXGSM7yy",
        "outputId": "4a772bc5-4160-4b90-ca41-67c3bb85703e"
      },
      "execution_count": null,
      "outputs": [
        {
          "output_type": "stream",
          "name": "stdout",
          "text": [
            "<re.Match object; span=(0, 3), match='abc'>\n",
            "None\n"
          ]
        }
      ]
    },
    {
      "cell_type": "markdown",
      "source": [
        "# Plus (+)"
      ],
      "metadata": {
        "id": "5FnzCKrIOD00"
      }
    },
    {
      "cell_type": "code",
      "source": [
        "import re\n",
        "s = \"abbcd\"\n",
        "o = \"abdc\"\n",
        "\n",
        "match = re.search(r'ab+c', s)\n",
        "print(match)\n",
        "\n",
        "match = re.search(r'ab+c', o)\n",
        "print(match)"
      ],
      "metadata": {
        "colab": {
          "base_uri": "https://localhost:8080/"
        },
        "id": "Zl_6oHYfOIqd",
        "outputId": "67ff5ddd-9716-4921-85be-1fda3bff67cb"
      },
      "execution_count": null,
      "outputs": [
        {
          "output_type": "stream",
          "name": "stdout",
          "text": [
            "<re.Match object; span=(0, 4), match='abbc'>\n",
            "None\n"
          ]
        }
      ]
    },
    {
      "cell_type": "markdown",
      "source": [
        "# Braces"
      ],
      "metadata": {
        "id": "MvQQxGv-O0PV"
      }
    },
    {
      "cell_type": "markdown",
      "source": [
        "tada kurung{} cocok dengan pengulangan apa pun yg mendahului regex dari m hingga n keduanya inklusif"
      ],
      "metadata": {
        "id": "nWDgZspvO4mk"
      }
    },
    {
      "cell_type": "code",
      "source": [
        "import re\n",
        "s = \"aaaldi\"\n",
        "\n",
        "match = re.search(r'a{3,5}', s)\n",
        "print(match)"
      ],
      "metadata": {
        "colab": {
          "base_uri": "https://localhost:8080/"
        },
        "id": "S-DzTNDCPJyq",
        "outputId": "872ccfca-f80e-40fb-832c-9e6c585a77d2"
      },
      "execution_count": null,
      "outputs": [
        {
          "output_type": "stream",
          "name": "stdout",
          "text": [
            "<re.Match object; span=(0, 3), match='aaa'>\n"
          ]
        }
      ]
    },
    {
      "cell_type": "markdown",
      "source": [
        "# Group ()"
      ],
      "metadata": {
        "id": "dEt-KpFLPeW0"
      }
    },
    {
      "cell_type": "code",
      "source": [
        "import re\n",
        "\n",
        "s = \"canp\"\n",
        "\n",
        "match = re.search(r'(a|b)np', s)\n",
        "print(match)"
      ],
      "metadata": {
        "colab": {
          "base_uri": "https://localhost:8080/"
        },
        "id": "jnItmulxPtb0",
        "outputId": "639c4011-e6fb-4790-b36b-3f51b1abf9d0"
      },
      "execution_count": null,
      "outputs": [
        {
          "output_type": "stream",
          "name": "stdout",
          "text": [
            "<re.Match object; span=(1, 4), match='anp'>\n"
          ]
        }
      ]
    },
    {
      "cell_type": "markdown",
      "source": [
        "# re.findall()"
      ],
      "metadata": {
        "id": "Tt0isZpER-rz"
      }
    },
    {
      "cell_type": "code",
      "source": [
        "import re\n",
        "# A sample text string where reguler expression\n",
        "# is searched\n",
        "\n",
        "string =\"\"\" Hello my student id is 2021002056 and\n",
        "            my friend's number student id is 20210040036\"\"\"\n",
        "\n",
        "# A sample reguler expression to find digit\n",
        "regex = \"\\d+\"\n",
        "\n",
        "match = re.findall(regex,string)\n",
        "print(match)"
      ],
      "metadata": {
        "colab": {
          "base_uri": "https://localhost:8080/"
        },
        "id": "C5ybJzpkSEbY",
        "outputId": "9047ae88-feb1-427f-cf76-2a7f146a497f"
      },
      "execution_count": null,
      "outputs": [
        {
          "output_type": "stream",
          "name": "stdout",
          "text": [
            "['2021002056', '20210040036']\n"
          ]
        }
      ]
    },
    {
      "cell_type": "markdown",
      "source": [
        "# re.compile()"
      ],
      "metadata": {
        "id": "Iqzmdh8GUHlr"
      }
    },
    {
      "cell_type": "code",
      "source": [
        "import re\n",
        "\n",
        "# compile() creates reguler expression\n",
        "# charcter class(a-e)\n",
        "# which is equivalent to(abcde)\n",
        "# class [abcde] wil match with string with\n",
        "# 'a', 'b', 'c', 'd', 'e'\n",
        "\n",
        "p = re.compile('[a-e]')\n",
        "# findall() searched for the reguler expression\n",
        "# and return a list finding\n",
        "print(p.findall(\"Aye, said Mr.Gibenson Stark\"))"
      ],
      "metadata": {
        "colab": {
          "base_uri": "https://localhost:8080/"
        },
        "id": "HNYHly9UUMFy",
        "outputId": "a6321631-398d-42eb-9dea-606d6e4421d5"
      },
      "execution_count": null,
      "outputs": [
        {
          "output_type": "stream",
          "name": "stdout",
          "text": [
            "['e', 'a', 'd', 'b', 'e', 'a']\n"
          ]
        }
      ]
    },
    {
      "cell_type": "code",
      "source": [
        "import re\n",
        "\n",
        "# \\d is equivalent tp [0-9].\n",
        "p = re.compile(\"\\d\")\n",
        "print(p.findall(\"I want to him at 12 P.M. on 4th Juni 1999\"))\n",
        "\n",
        "# \\d+ will match group on [0-9], group\n",
        "# of one or qreater size\n",
        "p = re.compile(\"\\d+\")\n",
        "print(p.findall(\"I want to him at 12 P.M. on 4th juni 1999 \"))"
      ],
      "metadata": {
        "colab": {
          "base_uri": "https://localhost:8080/"
        },
        "id": "DbUXwN7hW1TK",
        "outputId": "5f91b663-72a9-4299-eb76-7ddfaeab12b9"
      },
      "execution_count": null,
      "outputs": [
        {
          "output_type": "stream",
          "name": "stdout",
          "text": [
            "['1', '2', '4', '1', '9', '9', '9']\n",
            "['12', '4', '1999']\n"
          ]
        }
      ]
    },
    {
      "cell_type": "markdown",
      "source": [
        "# re.split()"
      ],
      "metadata": {
        "id": "PG9G0fUjZYA4"
      }
    },
    {
      "cell_type": "markdown",
      "source": [
        "re.split(patterns,string,maxsplit=0,flags=0)\n",
        "parameter pertama, pola menunjukan ekspresi reguler, String adalah string yang diberikan dimana pola akan di cari dan dimana pemisahan terjadi, naxsplit() jika tidak di berikan akan di anggap 0, dan jika diberikan nilai makan tidak akan bernilai no, maka paling banyak terjadi perpecahan. jika maxsplit = 1, maka string akan terbelah sekali saja, menghasilkan daftar panjang 2. bendera sangat berguna dan dapat membantu mempersingkat kode, mereka buka parameter yg di perlukan, misal flag = re.IGNORCASE, dalam pemisahan ini , huruf kecil atau huruf besar yg akan diabaikan."
      ],
      "metadata": {
        "id": "mSyhL7B7Zfij"
      }
    },
    {
      "cell_type": "code",
      "source": [
        "from re import split\n",
        "\n",
        "# '\\W+' donetes Non-Alphanumeric Character\n",
        "# or group of character upon finding '.'\n",
        "# or withspace '', the split, splite the\n",
        "# String from that point\n",
        "print(split(\"\\W+\",\"Words, words, words\"))\n",
        "print(split(\"\\W+\",\"Word's word words\"))\n",
        "\n",
        "# Here \":\", '', ',' are not Alphamumeric thus,\n",
        "# the point where splitting occurs\n",
        "print(split('\\W+','on 21th at Agustus 2023, at 2.43 AM'))\n",
        "\n",
        "#\"\\d+\" donates Numeric Character or group of\n",
        "# Character splitting accurs at '21', '2023'\n",
        "# '2', '45' only\n",
        "print(split('\\d+','on 21th at Agustus 2023, at 2.43 AM'))"
      ],
      "metadata": {
        "colab": {
          "base_uri": "https://localhost:8080/"
        },
        "id": "KaBGjij1btXN",
        "outputId": "6e203672-11f4-45a7-bf3b-c519a1ebfd8d"
      },
      "execution_count": null,
      "outputs": [
        {
          "output_type": "stream",
          "name": "stdout",
          "text": [
            "['Words', 'words', 'words']\n",
            "['Word', 's', 'word', 'words']\n",
            "['on', '21th', 'at', 'Agustus', '2023', 'at', '2', '43', 'AM']\n",
            "['on ', 'th at Agustus ', ', at ', '.', ' AM']\n"
          ]
        }
      ]
    },
    {
      "cell_type": "markdown",
      "source": [
        "# re.sub()"
      ],
      "metadata": {
        "id": "21Zb_FPglXaM"
      }
    },
    {
      "cell_type": "markdown",
      "source": [
        "re.sub(pattern,repl,string,count=0,flags=0)"
      ],
      "metadata": {
        "id": "8GXWL7pqlkPg"
      }
    },
    {
      "cell_type": "code",
      "source": [
        "import re\n",
        "\n",
        "# Regular Expression pattern 'ub' matches the\n",
        "# string at 'Subject' and 'Uber'. As the CASE\n",
        "# has been ignored, using Flag, 'ub' should\n",
        "# match twice with the string Upon matching,\n",
        "# 'ub' is replaced by '-*' in \"Subject\", and\n",
        "# in \"Uber\", 'Ub' is replaced.\n",
        "print(\"=======without ignoring=======\")\n",
        "print(re.sub('ub', '-*', 'Subject has Uber booked alredy',flags=re.IGNORECASE))\n",
        "print(re.sub('a', '*', 'Aldi Sedang berlibur di afganistan ',flags=re.IGNORECASE))\n",
        "\n",
        "# consider the case Sensitivity, 'Ub' in\n",
        "# \"Uber\", will not be replaced\n",
        "print(\"======without ignoring case sensitivity========\")\n",
        "print(re.sub('ub', '-*', 'Subject has Uber booked alredy'))\n",
        "\n",
        "# as count has been given values 1, the maximum\n",
        "# time replacedment occurs is 1\n",
        "print(\"======count given velues 1 ========\")\n",
        "print(re.sub('ub', '-*', 'Subject has Uber booked alredy',count=1, flags=re.IGNORECASE))\n",
        "# 'r' before the pattern denotes RE, \\s is for\n",
        "# start and end of a String,\n",
        "print(\"======Replace the word AND with a sign (&)=========\")\n",
        "print(re.sub(r'\\sAND\\s', ' & ', 'Baked Beans And Spam', flags=re.IGNORECASE))"
      ],
      "metadata": {
        "id": "P1y0HV2HmDF3",
        "colab": {
          "base_uri": "https://localhost:8080/"
        },
        "outputId": "7513b61e-4969-4224-fc7b-bb4a860f08b8"
      },
      "execution_count": 33,
      "outputs": [
        {
          "output_type": "stream",
          "name": "stdout",
          "text": [
            "=======without ignoring=======\n",
            "S-*ject has -*er booked alredy\n",
            "*ldi Sed*ng berlibur di *fg*nist*n \n",
            "======without ignoring case sensitivity========\n",
            "S-*ject has Uber booked alredy\n",
            "======count given velues 1 ========\n",
            "S-*ject has Uber booked alredy\n",
            "======Replace the word AND with a sign (&)=========\n",
            "Baked Beans & Spam\n"
          ]
        }
      ]
    },
    {
      "cell_type": "markdown",
      "source": [
        "# re.subn()"
      ],
      "metadata": {
        "id": "a47LH5wfbuOT"
      }
    },
    {
      "cell_type": "markdown",
      "source": [
        "re.subn(pattern,rpl,string,count=0,flags=0)"
      ],
      "metadata": {
        "id": "xWl-KX11bzpA"
      }
    },
    {
      "cell_type": "code",
      "source": [
        "import re\n",
        "\n",
        "print(re.subn('ub', '-*', 'Subject has Uber booked alredy'))\n",
        "t = re.subn('ub', '-*', 'Subject has Uber booker alredy', flags=re.IGNORECASE)\n",
        "print(t)\n",
        "print(len(t))\n",
        "\n",
        "# this will give same output as sub() would have\n",
        "print(t[0])"
      ],
      "metadata": {
        "colab": {
          "base_uri": "https://localhost:8080/"
        },
        "id": "Xexrx6nicG46",
        "outputId": "aa59bd09-8e7b-4e00-8f29-334d5dde53de"
      },
      "execution_count": 38,
      "outputs": [
        {
          "output_type": "stream",
          "name": "stdout",
          "text": [
            "('S-*ject has Uber booked alredy', 1)\n",
            "('S-*ject has -*er booker alredy', 2)\n",
            "2\n",
            "S-*ject has -*er booker alredy\n"
          ]
        }
      ]
    },
    {
      "cell_type": "markdown",
      "source": [
        "# re.escape()"
      ],
      "metadata": {
        "id": "Hw6TKLXthv5v"
      }
    },
    {
      "cell_type": "markdown",
      "source": [
        "re.escape(string)"
      ],
      "metadata": {
        "id": "40U0qm4th0PC"
      }
    },
    {
      "cell_type": "code",
      "source": [
        "import re\n",
        "\n",
        "# escape() retruns a string with BlackSlash '\\'\n",
        "# before every Non-alphanumeric Charcther\n",
        "# in last case only ' ', is not alphanumeric\n",
        "# in 2nd case, ' ', caret '^', '-', '[]', '\\'\n",
        "# are not alphanumeric\n",
        "print(re.escape(\"This is Awasome even I Am\"))\n",
        "print(re.escape(\"I Asked what is this [a-9], he said \\t ^WOW\"))"
      ],
      "metadata": {
        "colab": {
          "base_uri": "https://localhost:8080/"
        },
        "id": "VPy4h3gDh54O",
        "outputId": "07838c1e-3848-4045-fd30-f37f0f67cbad"
      },
      "execution_count": 40,
      "outputs": [
        {
          "output_type": "stream",
          "name": "stdout",
          "text": [
            "This\\ is\\ Awasome\\ even\\ I\\ Am\n",
            "I\\ Asked\\ what\\ is\\ this\\ \\[a\\-9\\],\\ he\\ said\\ \\\t\\ \\^WOW\n"
          ]
        }
      ]
    },
    {
      "cell_type": "markdown",
      "source": [
        "# re.seacrh()"
      ],
      "metadata": {
        "id": "q9ePt-bRmGJe"
      }
    },
    {
      "cell_type": "code",
      "source": [
        "# A python progras to demonstrate of re.search()\n",
        "import re\n"
      ],
      "metadata": {
        "id": "9bjSCJ8XmKY9"
      },
      "execution_count": null,
      "outputs": []
    }
  ]
}