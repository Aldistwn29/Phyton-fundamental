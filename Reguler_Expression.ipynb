{
  "nbformat": 4,
  "nbformat_minor": 0,
  "metadata": {
    "colab": {
      "provenance": [],
      "authorship_tag": "ABX9TyMt4kQj1ipzngJfAevrpKjL",
      "include_colab_link": true
    },
    "kernelspec": {
      "name": "python3",
      "display_name": "Python 3"
    },
    "language_info": {
      "name": "python"
    }
  },
  "cells": [
    {
      "cell_type": "markdown",
      "metadata": {
        "id": "view-in-github",
        "colab_type": "text"
      },
      "source": [
        "<a href=\"https://colab.research.google.com/github/Aldistwn29/Phyton-fundamental/blob/main/Reguler_Expression.ipynb\" target=\"_parent\"><img src=\"https://colab.research.google.com/assets/colab-badge.svg\" alt=\"Open In Colab\"/></a>"
      ]
    },
    {
      "cell_type": "markdown",
      "source": [
        "# What is Reguler Expression"
      ],
      "metadata": {
        "id": "3owfxqN1-Pef"
      }
    },
    {
      "cell_type": "code",
      "execution_count": null,
      "metadata": {
        "colab": {
          "base_uri": "https://localhost:8080/"
        },
        "id": "4GqSWZ8j-I9h",
        "outputId": "7675e412-153a-49d9-da91-5076ebdd7375"
      },
      "outputs": [
        {
          "output_type": "stream",
          "name": "stdout",
          "text": [
            "Start index:  9\n",
            "End index:  15\n"
          ]
        }
      ],
      "source": [
        "import re\n",
        "\n",
        "s = 'Myskill: portal for any learning path'\n",
        "\n",
        "match = re.search(r'portal', s)\n",
        "\n",
        "print(\"Start index: \", match.start())\n",
        "print(\"End index: \", match.end())"
      ]
    },
    {
      "cell_type": "code",
      "source": [
        "s = 'Myskill: portal for any learning path'\n",
        "list_s = s.split()\n",
        "list_count = len(list_s)\n",
        "\n",
        "print(list_count)\n"
      ],
      "metadata": {
        "colab": {
          "base_uri": "https://localhost:8080/"
        },
        "id": "TP_CuM2HCzuF",
        "outputId": "e6f33cdd-231a-4426-bd6d-77e30bff7947"
      },
      "execution_count": null,
      "outputs": [
        {
          "output_type": "stream",
          "name": "stdout",
          "text": [
            "6\n"
          ]
        }
      ]
    },
    {
      "cell_type": "code",
      "source": [
        "s = '123aba'\n",
        "jumlah_angka = 0\n",
        "\n",
        "for char in s:\n",
        "  if char.isdigit():\n",
        "    jumlah_angka +=1\n",
        "\n",
        "print(jumlah_angka)"
      ],
      "metadata": {
        "colab": {
          "base_uri": "https://localhost:8080/"
        },
        "id": "HycjpOsFD-9p",
        "outputId": "4b5e04bf-4161-4e67-d805-f0123f3ea70f"
      },
      "execution_count": null,
      "outputs": [
        {
          "output_type": "stream",
          "name": "stdout",
          "text": [
            "3\n"
          ]
        }
      ]
    },
    {
      "cell_type": "markdown",
      "source": [
        "# Matacharacter"
      ],
      "metadata": {
        "id": "ClysQgZhsze7"
      }
    },
    {
      "cell_type": "markdown",
      "source": [
        "# Example matacharacter"
      ],
      "metadata": {
        "id": "E0hJ7Mots7kH"
      }
    },
    {
      "cell_type": "markdown",
      "source": [
        "# Backslash \\"
      ],
      "metadata": {
        "id": "l7fKXj3WsWh4"
      }
    },
    {
      "cell_type": "code",
      "source": [
        "import re\n",
        "\n",
        "s = \"My.skill\"\n",
        "\n",
        "# without using \\\n",
        "match = re.search(r'.', s)\n",
        "print(match)\n",
        "\n",
        "# Using \\\n",
        "match = re.search(r'\\.', s)\n",
        "print(match)"
      ],
      "metadata": {
        "colab": {
          "base_uri": "https://localhost:8080/"
        },
        "id": "74956rEstDk8",
        "outputId": "cb181198-074b-4512-9d50-0542f90984f3"
      },
      "execution_count": null,
      "outputs": [
        {
          "output_type": "stream",
          "name": "stdout",
          "text": [
            "<re.Match object; span=(0, 1), match='M'>\n",
            "<re.Match object; span=(2, 3), match='.'>\n"
          ]
        }
      ]
    },
    {
      "cell_type": "markdown",
      "source": [
        "# Star (*)"
      ],
      "metadata": {
        "id": "GvHjASYqtbYL"
      }
    },
    {
      "cell_type": "code",
      "source": [
        "import re\n",
        "\n",
        "s = \"Aldi*Setawan\"\n",
        "\n",
        "# without using \\\n",
        "match = re.search(r'S', s)\n",
        "print(match)\n",
        "\n",
        "# Using \\\n",
        "match = re.search(r'\\*', s)\n",
        "print(match)"
      ],
      "metadata": {
        "colab": {
          "base_uri": "https://localhost:8080/"
        },
        "id": "dz5GAfrB3Plx",
        "outputId": "a7e2eaad-d08f-420b-8714-44fac826ce56"
      },
      "execution_count": null,
      "outputs": [
        {
          "output_type": "stream",
          "name": "stdout",
          "text": [
            "<re.Match object; span=(5, 6), match='S'>\n",
            "<re.Match object; span=(4, 5), match='*'>\n"
          ]
        }
      ]
    },
    {
      "cell_type": "markdown",
      "source": [
        "# Squere brackets[]"
      ],
      "metadata": {
        "id": "MWrWzgkatjFZ"
      }
    },
    {
      "cell_type": "code",
      "source": [
        "import re\n",
        "\n",
        "s = \"[abcde]\"\n",
        "\n",
        "# without using[]\n",
        "match = re.search(r'e',s)\n",
        "print(match)\n",
        "\n",
        "# using squere brackets []\n",
        "# can be written normally[abc]\n",
        "# separated by commas[a,b] or dashes [a-b]\n",
        "match = re.search(r'[d,e]', s)\n",
        "print(match)"
      ],
      "metadata": {
        "colab": {
          "base_uri": "https://localhost:8080/"
        },
        "id": "w5YCzXnPk7u6",
        "outputId": "04f670f0-96db-4809-d45e-bb4ed641ebca"
      },
      "execution_count": null,
      "outputs": [
        {
          "output_type": "stream",
          "name": "stdout",
          "text": [
            "<re.Match object; span=(5, 6), match='e'>\n",
            "<re.Match object; span=(4, 5), match='d'>\n"
          ]
        }
      ]
    },
    {
      "cell_type": "markdown",
      "source": [
        "# Caret (^)"
      ],
      "metadata": {
        "id": "E8aqSVvxtzEm"
      }
    },
    {
      "cell_type": "code",
      "source": [
        "import re\n",
        "\n",
        "s = \"aldi, abdul, akay\"\n",
        "# Without ^\n",
        "match = re.search(r'a', s)\n",
        "print(match)\n",
        "\n",
        "# Using ^\n",
        "match = re.search(r'^a',s)\n",
        "print(match)\n",
        "\n",
        "# Using [^] as the negation of ^\n",
        "match = re.search(r'[^a]', s)\n",
        "print(match)"
      ],
      "metadata": {
        "colab": {
          "base_uri": "https://localhost:8080/"
        },
        "id": "mYPg-yVAsIhq",
        "outputId": "d524ce56-6f2c-4c0c-c64c-be11d76c26a1"
      },
      "execution_count": null,
      "outputs": [
        {
          "output_type": "stream",
          "name": "stdout",
          "text": [
            "<re.Match object; span=(0, 1), match='a'>\n",
            "<re.Match object; span=(0, 1), match='a'>\n",
            "<re.Match object; span=(1, 2), match='l'>\n"
          ]
        }
      ]
    },
    {
      "cell_type": "markdown",
      "source": [
        "# $ Dollar"
      ],
      "metadata": {
        "id": "PZc-hllfFJde"
      }
    },
    {
      "cell_type": "markdown",
      "source": [
        "Untuk memeriksa akhir huruf"
      ],
      "metadata": {
        "id": "5NHaB669Fvva"
      }
    },
    {
      "cell_type": "code",
      "source": [
        "import re\n",
        "s = \"My.skills\"\n",
        "\n",
        "# without Dollar $\n",
        "match = re.search(r's',s)\n",
        "print(match)\n",
        "\n",
        "# Using Dollar $\n",
        "match = re.search(r's$',s)\n",
        "print(match)"
      ],
      "metadata": {
        "colab": {
          "base_uri": "https://localhost:8080/"
        },
        "id": "Lo37YoLKFMvK",
        "outputId": "876c657b-a95b-4732-8fa0-d9bc017251d7"
      },
      "execution_count": null,
      "outputs": [
        {
          "output_type": "stream",
          "name": "stdout",
          "text": [
            "<re.Match object; span=(3, 4), match='s'>\n",
            "<re.Match object; span=(8, 9), match='s'>\n"
          ]
        }
      ]
    },
    {
      "cell_type": "markdown",
      "source": [
        "# Dot"
      ],
      "metadata": {
        "id": "tDw3SCcoG2zO"
      }
    },
    {
      "cell_type": "markdown",
      "source": [
        "hanya cocok dengan satu karakter kecuali untuk krakter baris baru."
      ],
      "metadata": {
        "id": "_T8iJD_SG6cT"
      }
    },
    {
      "cell_type": "code",
      "source": [
        "import re\n",
        "\n",
        "s = \"abbd\"\n",
        "\n",
        "# Using Dot(.)\n",
        "match = re.search(r'a.b', s)\n",
        "print(match)\n",
        "\n",
        "# whether the string consists of two characters\n",
        "match = re.search(r'..',s)\n",
        "print(match)"
      ],
      "metadata": {
        "colab": {
          "base_uri": "https://localhost:8080/"
        },
        "id": "vnq0TFjsHFZn",
        "outputId": "da1fffaa-beaf-47f3-a5dd-1caefeba838a"
      },
      "execution_count": null,
      "outputs": [
        {
          "output_type": "stream",
          "name": "stdout",
          "text": [
            "<re.Match object; span=(0, 3), match='abb'>\n",
            "<re.Match object; span=(0, 2), match='ab'>\n"
          ]
        }
      ]
    },
    {
      "cell_type": "markdown",
      "source": [
        "# Or (|)"
      ],
      "metadata": {
        "id": "ltCQDVPPJpn3"
      }
    },
    {
      "cell_type": "code",
      "source": [
        "import re\n",
        "\n",
        "s = \"abcd\"\n",
        "\n",
        "# Using OR\n",
        "match = re.search(r'b|z', s)\n",
        "print(match)"
      ],
      "metadata": {
        "colab": {
          "base_uri": "https://localhost:8080/"
        },
        "id": "AWgOTUjUJvQE",
        "outputId": "823e2405-82de-4fb0-ebf3-3bb2489f8faa"
      },
      "execution_count": null,
      "outputs": [
        {
          "output_type": "stream",
          "name": "stdout",
          "text": [
            "<re.Match object; span=(1, 2), match='b'>\n"
          ]
        }
      ]
    },
    {
      "cell_type": "markdown",
      "source": [
        "# Question Mark"
      ],
      "metadata": {
        "id": "uCvRDeHUKkau"
      }
    },
    {
      "cell_type": "code",
      "source": [
        "import re\n",
        "s = \"abcdef\"\n",
        "o = \"abbcf\"\n",
        "\n",
        "match = re.search(r'ab?c', s)\n",
        "print(match)\n",
        "\n",
        "# Why the end result is none because there are two charaters\n",
        "match = re.search(r'ab?c', o)\n",
        "print(match)"
      ],
      "metadata": {
        "colab": {
          "base_uri": "https://localhost:8080/"
        },
        "id": "poWWCn7TK9cf",
        "outputId": "b6b38fa6-6fdd-4365-bf56-fb5c8e7cb015"
      },
      "execution_count": null,
      "outputs": [
        {
          "output_type": "stream",
          "name": "stdout",
          "text": [
            "<re.Match object; span=(0, 3), match='abc'>\n",
            "None\n"
          ]
        }
      ]
    },
    {
      "cell_type": "markdown",
      "source": [
        "# Star *"
      ],
      "metadata": {
        "id": "suztg3RrM3j7"
      }
    },
    {
      "cell_type": "code",
      "source": [
        "import re\n",
        "s = \"abcdef\"\n",
        "o = \"abdc\"\n",
        "\n",
        "match = re.search(r'ab*c', s)\n",
        "print(match)\n",
        "\n",
        "match = re.search(r'ab*c', o)\n",
        "print(match)"
      ],
      "metadata": {
        "colab": {
          "base_uri": "https://localhost:8080/"
        },
        "id": "q79YpXGSM7yy",
        "outputId": "4a772bc5-4160-4b90-ca41-67c3bb85703e"
      },
      "execution_count": null,
      "outputs": [
        {
          "output_type": "stream",
          "name": "stdout",
          "text": [
            "<re.Match object; span=(0, 3), match='abc'>\n",
            "None\n"
          ]
        }
      ]
    },
    {
      "cell_type": "markdown",
      "source": [
        "# Plus (+)"
      ],
      "metadata": {
        "id": "5FnzCKrIOD00"
      }
    },
    {
      "cell_type": "code",
      "source": [
        "import re\n",
        "s = \"abbcd\"\n",
        "o = \"abdc\"\n",
        "\n",
        "match = re.search(r'ab+c', s)\n",
        "print(match)\n",
        "\n",
        "match = re.search(r'ab+c', o)\n",
        "print(match)"
      ],
      "metadata": {
        "colab": {
          "base_uri": "https://localhost:8080/"
        },
        "id": "Zl_6oHYfOIqd",
        "outputId": "67ff5ddd-9716-4921-85be-1fda3bff67cb"
      },
      "execution_count": null,
      "outputs": [
        {
          "output_type": "stream",
          "name": "stdout",
          "text": [
            "<re.Match object; span=(0, 4), match='abbc'>\n",
            "None\n"
          ]
        }
      ]
    },
    {
      "cell_type": "markdown",
      "source": [
        "# Braces"
      ],
      "metadata": {
        "id": "MvQQxGv-O0PV"
      }
    },
    {
      "cell_type": "markdown",
      "source": [
        "tada kurung{} cocok dengan pengulangan apa pun yg mendahului regex dari m hingga n keduanya inklusif"
      ],
      "metadata": {
        "id": "nWDgZspvO4mk"
      }
    },
    {
      "cell_type": "code",
      "source": [
        "import re\n",
        "s = \"aaaldi\"\n",
        "\n",
        "match = re.search(r'a{3,5}', s)\n",
        "print(match)"
      ],
      "metadata": {
        "colab": {
          "base_uri": "https://localhost:8080/"
        },
        "id": "S-DzTNDCPJyq",
        "outputId": "872ccfca-f80e-40fb-832c-9e6c585a77d2"
      },
      "execution_count": null,
      "outputs": [
        {
          "output_type": "stream",
          "name": "stdout",
          "text": [
            "<re.Match object; span=(0, 3), match='aaa'>\n"
          ]
        }
      ]
    },
    {
      "cell_type": "markdown",
      "source": [
        "# Group ()"
      ],
      "metadata": {
        "id": "dEt-KpFLPeW0"
      }
    },
    {
      "cell_type": "code",
      "source": [
        "import re\n",
        "\n",
        "s = \"canp\"\n",
        "\n",
        "match = re.search(r'(a|b)np', s)\n",
        "print(match)"
      ],
      "metadata": {
        "colab": {
          "base_uri": "https://localhost:8080/"
        },
        "id": "jnItmulxPtb0",
        "outputId": "639c4011-e6fb-4790-b36b-3f51b1abf9d0"
      },
      "execution_count": null,
      "outputs": [
        {
          "output_type": "stream",
          "name": "stdout",
          "text": [
            "<re.Match object; span=(1, 4), match='anp'>\n"
          ]
        }
      ]
    },
    {
      "cell_type": "markdown",
      "source": [
        "# re.findall()"
      ],
      "metadata": {
        "id": "Tt0isZpER-rz"
      }
    },
    {
      "cell_type": "code",
      "source": [
        "import re\n",
        "# A sample text string where reguler expression\n",
        "# is searched\n",
        "\n",
        "string =\"\"\" Hello my student id is 2021002056 and\n",
        "            my friend's number student id is 20210040036\"\"\"\n",
        "\n",
        "# A sample reguler expression to find digit\n",
        "regex = \"\\d+\"\n",
        "\n",
        "match = re.findall(regex,string)\n",
        "print(match)"
      ],
      "metadata": {
        "colab": {
          "base_uri": "https://localhost:8080/"
        },
        "id": "C5ybJzpkSEbY",
        "outputId": "9047ae88-feb1-427f-cf76-2a7f146a497f"
      },
      "execution_count": null,
      "outputs": [
        {
          "output_type": "stream",
          "name": "stdout",
          "text": [
            "['2021002056', '20210040036']\n"
          ]
        }
      ]
    },
    {
      "cell_type": "markdown",
      "source": [
        "# re.compile()"
      ],
      "metadata": {
        "id": "Iqzmdh8GUHlr"
      }
    },
    {
      "cell_type": "code",
      "source": [
        "import re\n",
        "\n",
        "# compile() creates reguler expression\n",
        "# charcter class(a-e)\n",
        "# which is equivalent to(abcde)\n",
        "# class [abcde] wil match with string with\n",
        "# 'a', 'b', 'c', 'd', 'e'\n",
        "\n",
        "p = re.compile('[a-e]')\n",
        "# findall() searched for the reguler expression\n",
        "# and return a list finding\n",
        "print(p.findall(\"Aye, said Mr.Gibenson Stark\"))"
      ],
      "metadata": {
        "colab": {
          "base_uri": "https://localhost:8080/"
        },
        "id": "HNYHly9UUMFy",
        "outputId": "a6321631-398d-42eb-9dea-606d6e4421d5"
      },
      "execution_count": null,
      "outputs": [
        {
          "output_type": "stream",
          "name": "stdout",
          "text": [
            "['e', 'a', 'd', 'b', 'e', 'a']\n"
          ]
        }
      ]
    },
    {
      "cell_type": "code",
      "source": [
        "import re\n",
        "\n",
        "# \\d is equivalent tp [0-9].\n",
        "p = re.compile(\"\\d\")\n",
        "print(p.findall(\"I want to him at 12 P.M. on 4th Juni 1999\"))\n",
        "\n",
        "# \\d+ will match group on [0-9], group\n",
        "# of one or qreater size\n",
        "p = re.compile(\"\\d+\")\n",
        "print(p.findall(\"I want to him at 12 P.M. on 4th juni 1999 \"))"
      ],
      "metadata": {
        "colab": {
          "base_uri": "https://localhost:8080/"
        },
        "id": "DbUXwN7hW1TK",
        "outputId": "5f91b663-72a9-4299-eb76-7ddfaeab12b9"
      },
      "execution_count": null,
      "outputs": [
        {
          "output_type": "stream",
          "name": "stdout",
          "text": [
            "['1', '2', '4', '1', '9', '9', '9']\n",
            "['12', '4', '1999']\n"
          ]
        }
      ]
    },
    {
      "cell_type": "markdown",
      "source": [
        "# re.split()"
      ],
      "metadata": {
        "id": "PG9G0fUjZYA4"
      }
    },
    {
      "cell_type": "markdown",
      "source": [
        "re.split(patterns,string,maxsplit=0,flags=0)\n",
        "parameter pertama, pola menunjukan ekspresi reguler, String adalah string yang diberikan dimana pola akan di cari dan dimana pemisahan terjadi, naxsplit() jika tidak di berikan akan di anggap 0, dan jika diberikan nilai makan tidak akan bernilai no, maka paling banyak terjadi perpecahan. jika maxsplit = 1, maka string akan terbelah sekali saja, menghasilkan daftar panjang 2. bendera sangat berguna dan dapat membantu mempersingkat kode, mereka buka parameter yg di perlukan, misal flag = re.IGNORCASE, dalam pemisahan ini , huruf kecil atau huruf besar yg akan diabaikan."
      ],
      "metadata": {
        "id": "mSyhL7B7Zfij"
      }
    },
    {
      "cell_type": "code",
      "source": [
        "from re import split\n",
        "\n",
        "# '\\W+' donetes Non-Alphanumeric Character\n",
        "# or group of character upon finding '.'\n",
        "# or withspace '', the split, splite the\n",
        "# String from that point\n",
        "print(split(\"\\W+\",\"Words, words, words\"))\n",
        "print(split(\"\\W+\",\"Word's word words\"))\n",
        "\n",
        "# Here \":\", '', ',' are not Alphamumeric thus,\n",
        "# the point where splitting occurs\n",
        "print(split('\\W+','on 21th at Agustus 2023, at 2.43 AM'))\n",
        "\n",
        "#\"\\d+\" donates Numeric Character or group of\n",
        "# Character splitting accurs at '21', '2023'\n",
        "# '2', '45' only\n",
        "print(split('\\d+','on 21th at Agustus 2023, at 2.43 AM'))"
      ],
      "metadata": {
        "colab": {
          "base_uri": "https://localhost:8080/"
        },
        "id": "KaBGjij1btXN",
        "outputId": "6e203672-11f4-45a7-bf3b-c519a1ebfd8d"
      },
      "execution_count": null,
      "outputs": [
        {
          "output_type": "stream",
          "name": "stdout",
          "text": [
            "['Words', 'words', 'words']\n",
            "['Word', 's', 'word', 'words']\n",
            "['on', '21th', 'at', 'Agustus', '2023', 'at', '2', '43', 'AM']\n",
            "['on ', 'th at Agustus ', ', at ', '.', ' AM']\n"
          ]
        }
      ]
    },
    {
      "cell_type": "markdown",
      "source": [
        "# re.sub()"
      ],
      "metadata": {
        "id": "21Zb_FPglXaM"
      }
    },
    {
      "cell_type": "markdown",
      "source": [
        "re.sub(pattern,repl,string,count=0,flags=0)"
      ],
      "metadata": {
        "id": "8GXWL7pqlkPg"
      }
    },
    {
      "cell_type": "code",
      "source": [
        "import re\n",
        "\n",
        "# Regular Expression pattern 'ub' matches the\n",
        "# string at 'Subject' and 'Uber'. As the CASE\n",
        "# has been ignored, using Flag, 'ub' should\n",
        "# match twice with the string Upon matching,\n",
        "# 'ub' is replaced by '-*' in \"Subject\", and\n",
        "# in \"Uber\", 'Ub' is replaced.\n",
        "print(\"=======without ignoring=======\")\n",
        "print(re.sub('ub', '-*', 'Subject has Uber booked alredy',flags=re.IGNORECASE))\n",
        "print(re.sub('a', '*', 'Aldi Sedang berlibur di afganistan ',flags=re.IGNORECASE))\n",
        "\n",
        "# consider the case Sensitivity, 'Ub' in\n",
        "# \"Uber\", will not be replaced\n",
        "print(\"======without ignoring case sensitivity========\")\n",
        "print(re.sub('ub', '-*', 'Subject has Uber booked alredy'))\n",
        "\n",
        "# as count has been given values 1, the maximum\n",
        "# time replacedment occurs is 1\n",
        "print(\"======count given velues 1 ========\")\n",
        "print(re.sub('ub', '-*', 'Subject has Uber booked alredy',count=1, flags=re.IGNORECASE))\n",
        "# 'r' before the pattern denotes RE, \\s is for\n",
        "# start and end of a String,\n",
        "print(\"======Replace the word AND with a sign (&)=========\")\n",
        "print(re.sub(r'\\sAND\\s', ' & ', 'Baked Beans And Spam', flags=re.IGNORECASE))"
      ],
      "metadata": {
        "id": "P1y0HV2HmDF3",
        "colab": {
          "base_uri": "https://localhost:8080/"
        },
        "outputId": "7513b61e-4969-4224-fc7b-bb4a860f08b8"
      },
      "execution_count": null,
      "outputs": [
        {
          "output_type": "stream",
          "name": "stdout",
          "text": [
            "=======without ignoring=======\n",
            "S-*ject has -*er booked alredy\n",
            "*ldi Sed*ng berlibur di *fg*nist*n \n",
            "======without ignoring case sensitivity========\n",
            "S-*ject has Uber booked alredy\n",
            "======count given velues 1 ========\n",
            "S-*ject has Uber booked alredy\n",
            "======Replace the word AND with a sign (&)=========\n",
            "Baked Beans & Spam\n"
          ]
        }
      ]
    },
    {
      "cell_type": "markdown",
      "source": [
        "# re.subn()"
      ],
      "metadata": {
        "id": "a47LH5wfbuOT"
      }
    },
    {
      "cell_type": "markdown",
      "source": [
        "re.subn(pattern,rpl,string,count=0,flags=0)"
      ],
      "metadata": {
        "id": "xWl-KX11bzpA"
      }
    },
    {
      "cell_type": "code",
      "source": [
        "import re\n",
        "\n",
        "print(re.subn('ub', '-*', 'Subject has Uber booked alredy'))\n",
        "t = re.subn('ub', '-*', 'Subject has Uber booker alredy', flags=re.IGNORECASE)\n",
        "print(t)\n",
        "print(len(t))\n",
        "\n",
        "# this will give same output as sub() would have\n",
        "print(t[0])"
      ],
      "metadata": {
        "colab": {
          "base_uri": "https://localhost:8080/"
        },
        "id": "Xexrx6nicG46",
        "outputId": "aa59bd09-8e7b-4e00-8f29-334d5dde53de"
      },
      "execution_count": null,
      "outputs": [
        {
          "output_type": "stream",
          "name": "stdout",
          "text": [
            "('S-*ject has Uber booked alredy', 1)\n",
            "('S-*ject has -*er booker alredy', 2)\n",
            "2\n",
            "S-*ject has -*er booker alredy\n"
          ]
        }
      ]
    },
    {
      "cell_type": "markdown",
      "source": [
        "# re.escape()"
      ],
      "metadata": {
        "id": "Hw6TKLXthv5v"
      }
    },
    {
      "cell_type": "markdown",
      "source": [
        "re.escape(string)"
      ],
      "metadata": {
        "id": "40U0qm4th0PC"
      }
    },
    {
      "cell_type": "code",
      "source": [
        "import re\n",
        "\n",
        "# escape() retruns a string with BlackSlash '\\'\n",
        "# before every Non-alphanumeric Charcther\n",
        "# in last case only ' ', is not alphanumeric\n",
        "# in 2nd case, ' ', caret '^', '-', '[]', '\\'\n",
        "# are not alphanumeric\n",
        "print(re.escape(\"This is Awasome even I Am\"))\n",
        "print(re.escape(\"I Asked what is this [a-9], he said \\t ^WOW\"))"
      ],
      "metadata": {
        "colab": {
          "base_uri": "https://localhost:8080/"
        },
        "id": "VPy4h3gDh54O",
        "outputId": "07838c1e-3848-4045-fd30-f37f0f67cbad"
      },
      "execution_count": null,
      "outputs": [
        {
          "output_type": "stream",
          "name": "stdout",
          "text": [
            "This\\ is\\ Awasome\\ even\\ I\\ Am\n",
            "I\\ Asked\\ what\\ is\\ this\\ \\[a\\-9\\],\\ he\\ said\\ \\\t\\ \\^WOW\n"
          ]
        }
      ]
    },
    {
      "cell_type": "markdown",
      "source": [
        "# re.seacrh()"
      ],
      "metadata": {
        "id": "q9ePt-bRmGJe"
      }
    },
    {
      "cell_type": "code",
      "source": [
        "# A python progras to demonstrate of re.search()\n",
        "import re\n",
        "# Lets us a reguler expression to match a data string\n",
        "# in the form of month name followed by day number\n",
        "regex = r\"([a-zA-Z]+) (\\d+)\"\n",
        "\n",
        "match = re.search(regex, \"I was Born on June 24\")\n",
        "\n",
        "if match != None:\n",
        "\n",
        "  # We reach here when the expression \"([a-zA-Z]+) (\\d+)\"\n",
        "  # matches the date string\n",
        "\n",
        "  # This will print [14, 21], since it matches at index 14\n",
        "  # and ends at 21.\n",
        "  print(\"Match at index %s, %s\" % (match.start(), match.end()))\n",
        "\n",
        "  # We us group() method to get all the matches and\n",
        "  # captured groups. The groups contain the matched values.\n",
        "  # in particular:\n",
        "  # match.group(0) always returns the fully matched string\n",
        "  # match.group(1) match.group(2), ... return the capture\n",
        "  # groups in order form left to right in tge input string\n",
        "  # match.group() is equivalent to match.group(0)\n",
        "\n",
        "  # So this will print \"June 24\"\n",
        "  print(\"Full match: %s\" % (match.group(0)))\n",
        "\n",
        "  # So this will print \"June\"\n",
        "  print(\"Month: %s\" % (match.group(1)))\n",
        "\n",
        "  # So this will print \"24\"\n",
        "  print(\"Day: %s\" % (match.group(2)))\n",
        "\n",
        "else:\n",
        "  print(\"The regex pattern does not match.\")"
      ],
      "metadata": {
        "id": "9bjSCJ8XmKY9",
        "colab": {
          "base_uri": "https://localhost:8080/"
        },
        "outputId": "5e96192d-f968-45bf-b1eb-498c1e930bf2"
      },
      "execution_count": null,
      "outputs": [
        {
          "output_type": "stream",
          "name": "stdout",
          "text": [
            "Match at index 14, 21\n",
            "Full match: June 24\n",
            "Month: June\n",
            "Day: 24\n"
          ]
        }
      ]
    },
    {
      "cell_type": "markdown",
      "source": [
        "# Match Object"
      ],
      "metadata": {
        "id": "Kp-UiPuRMeoX"
      }
    },
    {
      "cell_type": "code",
      "source": [
        "import re\n",
        "\n",
        "s = \"Greeting to MYSKILL PORTAL\"\n",
        "\n",
        "# here x is the match object\n",
        "res = re.search(r\"\\bG\", s)\n",
        "\n",
        "print(res.re)\n",
        "print(res.string)\n",
        "print(res.start())\n",
        "print(res.end())\n",
        "print(res.span())\n",
        "\n",
        "b = \"Aku mahasiswa\\ndari Nusa Putra\"\n",
        "\n",
        "res = re.search(r\"\\bN\", b)\n",
        "print(res.re)\n",
        "print(res.string)\n",
        "print(res.start())\n",
        "print(res.end())\n",
        "print(res.span())"
      ],
      "metadata": {
        "colab": {
          "base_uri": "https://localhost:8080/"
        },
        "id": "Tcuq3tdhMiK1",
        "outputId": "b3a37976-0797-4068-d17c-b2649571e984"
      },
      "execution_count": null,
      "outputs": [
        {
          "output_type": "stream",
          "name": "stdout",
          "text": [
            "re.compile('\\\\bG')\n",
            "Greeting to MYSKILL PORTAL\n",
            "0\n",
            "1\n",
            "(0, 1)\n",
            "re.compile('\\\\bN')\n",
            "Aku mahasiswa\n",
            "dari Nusa Putra\n",
            "19\n",
            "20\n",
            "(19, 20)\n"
          ]
        }
      ]
    },
    {
      "cell_type": "code",
      "source": [
        "import re\n",
        "\n",
        "s = \"Welcome to SeedsLand\"\n",
        "\n",
        "# here x is the match object\n",
        "res = re.search(r\"\\bSee\", s)\n",
        "\n",
        "print(res.re)\n",
        "print(res.string)\n",
        "print(res.start())\n",
        "print(res.end())\n",
        "print(res.span())"
      ],
      "metadata": {
        "colab": {
          "base_uri": "https://localhost:8080/"
        },
        "id": "9nX8LDCASO3R",
        "outputId": "a1c0a040-080e-4b35-f233-25f28b22318b"
      },
      "execution_count": null,
      "outputs": [
        {
          "output_type": "stream",
          "name": "stdout",
          "text": [
            "re.compile('\\\\bSee')\n",
            "Welcome to SeedsLand\n",
            "11\n",
            "14\n",
            "(11, 14)\n"
          ]
        }
      ]
    },
    {
      "cell_type": "code",
      "source": [
        "import re\n",
        "\n",
        "s = \"Welcome to MySkill\"\n",
        "\n",
        "# here x is the match object\n",
        "res = re.search(r\"\\D{3} t\", s)\n",
        "\n",
        "print(res.group())\n",
        "\n",
        "d = \"Welco1me to MySkill\"\n",
        "\n",
        "# here x is the match object\n",
        "res = re.search(r\"\\w{3} t\", d)\n",
        "\n",
        "print(res.group())"
      ],
      "metadata": {
        "colab": {
          "base_uri": "https://localhost:8080/"
        },
        "id": "NB8L1Dg8TNII",
        "outputId": "f82f57d7-3068-4e14-dad1-205cbfa06c38"
      },
      "execution_count": null,
      "outputs": [
        {
          "output_type": "stream",
          "name": "stdout",
          "text": [
            "ome t\n",
            "1me t\n"
          ]
        }
      ]
    },
    {
      "cell_type": "markdown",
      "source": [
        "# Regex : Search, Match Find All"
      ],
      "metadata": {
        "id": "WYdJRh6tNlQX"
      }
    },
    {
      "cell_type": "code",
      "source": [
        "# A Python program to demonstrate working of re.match().\n",
        "import re\n",
        "# Lets use a regular expression to match a date string\n",
        "# in the form of Month name followed by day number\n",
        "regex = r\"([a-zA-Z]+) (\\d+)\"\n",
        "\n",
        "match = re.search(regex, \"I was Born on June 24\")\n",
        "\n",
        "if match != None:\n",
        "\n",
        "  # We reach here when the expression \"([a-zA-Z]+) (\\d+)\"\n",
        "  # matches the date string\n",
        "\n",
        "  # This will print [14, 21], since it matches at index 14\n",
        "  # and ends at 21.\n",
        "  print(\"Match at index %s, %s\" % (match.start(), match.end()))\n",
        "\n",
        "  # We us group() method to get all the matches and\n",
        "  # captured groups. The groups contain the matched values.\n",
        "  # in particular:\n",
        "  # match.group(0) always returns the fully matched string\n",
        "  # match.group(1) match.group(2), ... return the capture\n",
        "  # groups in order form left to right in tge input string\n",
        "  # match.group() is equivalent to match.group(0)\n",
        "\n",
        "  # So this will print \"June 24\"\n",
        "  print(\"Full match: %s\" % (match.group(0)))\n",
        "\n",
        "  # So this will print \"June\"\n",
        "  print(\"Month: %s\" % (match.group(1)))\n",
        "\n",
        "  # So this will print \"24\"\n",
        "  print(\"Day: %s\" % (match.group(2)))\n",
        "\n",
        "else:\n",
        "  print(\"The regex pattern does not match.\")"
      ],
      "metadata": {
        "colab": {
          "base_uri": "https://localhost:8080/"
        },
        "id": "9qWHWqVJNts8",
        "outputId": "ae50a5f9-2cc6-4f41-ce41-d6dcf3496d5c"
      },
      "execution_count": null,
      "outputs": [
        {
          "output_type": "stream",
          "name": "stdout",
          "text": [
            "Match at index 14, 21\n",
            "Full match: June 24\n",
            "Month: June\n",
            "Day: 24\n"
          ]
        }
      ]
    },
    {
      "cell_type": "markdown",
      "source": [
        "# Matching pattern with text"
      ],
      "metadata": {
        "id": "QmfL6DEkPUSQ"
      }
    },
    {
      "cell_type": "code",
      "source": [
        "# A python program to demonstrate working\n",
        "# of re.match().\n",
        "import re\n",
        "\n",
        "# a sample function that uses regular expression\n",
        "# to find month and day of a date\n",
        "def findMonthAndDate(string):\n",
        "\n",
        "  regex = r\"([a-zA-Z]+) (\\d+)\"\n",
        "  match = re.match(regex,string)\n",
        "\n",
        "  if match == None:\n",
        "    print(\"Not a valid date\")\n",
        "    return\n",
        "\n",
        "  print(\"Given Data: %s\" % (match.group()))\n",
        "  print(\"Month: %s\" % (match.group(1)))\n",
        "  print(\"Day: %s\" % (match.group(2)))\n",
        "\n",
        "\n",
        "# Driver Code\n",
        "findMonthAndDate(\"Maret 29\")\n",
        "print(\"\")\n",
        "findMonthAndDate(\"April 13\")\n",
        "print(\"\")\n",
        "findMonthAndDate(\"a Febuari 14\")\n",
        "print(\"\")"
      ],
      "metadata": {
        "id": "WvYEqx7EPZbL",
        "colab": {
          "base_uri": "https://localhost:8080/"
        },
        "outputId": "108593ea-f3ea-4be8-81c5-bdb069af2fd4"
      },
      "execution_count": 22,
      "outputs": [
        {
          "output_type": "stream",
          "name": "stdout",
          "text": [
            "Given Data: Maret 29\n",
            "Month: Maret\n",
            "Day: 29\n",
            "\n",
            "Given Data: April 13\n",
            "Month: April\n",
            "Day: 13\n",
            "\n",
            "Not a valid date\n",
            "\n"
          ]
        }
      ]
    },
    {
      "cell_type": "markdown",
      "source": [
        "# Finding All Occurances of a Pattern"
      ],
      "metadata": {
        "id": "8dx78bzqYETV"
      }
    },
    {
      "cell_type": "code",
      "source": [
        "# A Python program to demonstrate working of\n",
        "# findall()\n",
        "import re\n",
        "\n",
        "# A Sample text string where reguler expression\n",
        "# is Searched\n",
        "string = \"\"\" Hello My Number is 08241289017 and\n",
        "              My Friend's number is 0856904830\"\"\"\n",
        "\n",
        "# A sample regular expression to find digits.\n",
        "regex =\"\\d+\"\n",
        "\n",
        "match = re.findall(regex,string)\n",
        "print(match)"
      ],
      "metadata": {
        "colab": {
          "base_uri": "https://localhost:8080/"
        },
        "id": "zc_YeqYtYO3e",
        "outputId": "28895742-2a92-4cb7-ca07-893b8ea17b35"
      },
      "execution_count": 23,
      "outputs": [
        {
          "output_type": "stream",
          "name": "stdout",
          "text": [
            "['08241289017', '0856904830']\n"
          ]
        }
      ]
    },
    {
      "cell_type": "markdown",
      "source": [
        "# re.VERBOSE"
      ],
      "metadata": {
        "id": "7an9e6Arf6Li"
      }
    },
    {
      "cell_type": "code",
      "source": [
        "# Without Using VERBOSE\n",
        "regex_email = re.compile(r'^([a-z0-9_\\.-]+)@([0-9a-z\\.-]+)\\.([a-z\\.]{2, 6})$,',re.IGNORECASE)\n",
        "\n",
        "# Using VERBOSE\n",
        "regex_email = re.compile(r\"\"\"\n",
        "      ^([a-z0-9_\\.-]+)   # local Part\n",
        "      @              # single @ sign\n",
        "      ([0-9a-z\\.-]+)    # Domain name\n",
        "      \\.            # single Dot .\n",
        "      ([a-z]{2, 6})$      # Top level Domain\n",
        "      \"\"\",re.VERBOSE | re.IGNORECASE)"
      ],
      "metadata": {
        "id": "JSBScjZdf-z1"
      },
      "execution_count": 27,
      "outputs": []
    },
    {
      "cell_type": "markdown",
      "source": [
        "ini diteruskan sebagai argumen ke re.compile() yaitu re.compile yaitu re.compile(Regular Expression, re.VERBOSE). re.compile() mengembalikan RegexObject yg kemudian dicocokan dengan string yg diberikan.\n",
        "\n",
        "Mari kita pertimbangkan contoh dimana pengguna diminta untuk memasukkan IG Email\n",
        "mereka dan kita harus memvalidasinya menggunakan RegEx. Format email adalah sebagai berikut:\n",
        "\n",
        "*  Personal details/local part like john123\n",
        "*  Single @\n",
        "*  Domain Name like gmail/yahoo etc\n",
        "*  Single Dot(.)\n",
        "*  Top Level Domain like.com/.org/.net\n",
        "\n"
      ],
      "metadata": {
        "id": "iiRRJYFSkZWg"
      }
    },
    {
      "cell_type": "markdown",
      "source": [
        "nput : expectationvsreality@gmail.com\n",
        "\n",
        "Output : Valid\n",
        "\n",
        "Input : greatwonderland@yahoo.com@\n",
        "\n",
        "Output : Invalid invalid karena ada @ setelag top level domain name."
      ],
      "metadata": {
        "id": "k5aWAdESl0sT"
      }
    },
    {
      "cell_type": "code",
      "source": [
        "# Python3 program to show the Implementation of VERBOSE in RegEX\n",
        "import re\n",
        "\n",
        "def validate_email(email):\n",
        "\n",
        "  # RegexObject = re.compile( Regular expression, flag)\n",
        "  # Compiles a regular expression pattern into\n",
        "  # a regular expression object\n",
        "  regex_email = re.compile(r\"\"\"\n",
        "                ^([a-z0-9_\\.-]+)    # local Part\n",
        "                @\n",
        "                 ([0-9a-z\\.-]+)     # Domain name\n",
        "                 \\.                 # single Dot.\n",
        "                 ([a-z]{2,6})$      # Top level Domain\n",
        "                 \"\"\", re.VERBOSE | re.IGNORECASE)\n",
        "  # RegexObject is matched with the desired\n",
        "  # string using fullmatch function\n",
        "  # In case a match is found, search()\n",
        "  # returns a MatchObject Instance\n",
        "  res=regex_email.fullmatch(email)\n",
        "\n",
        "  # IF match is found, the string is valid\n",
        "  if res:\n",
        "    print(\"{} is Valid. Details are as follow: \".format(email))\n",
        "\n",
        "    #prints frist part/personal detail Email Id\n",
        "    print(\"Local:{}\".format(res.group(1)))\n",
        "\n",
        "    #prints Domain Name of Email Id\n",
        "    print(\"Domain:{}\".format(res.group(2)))\n",
        "\n",
        "    #prints Top Level Domain Name of Email Id\n",
        "    print(\"Top Level domain:{}\".format(res.group(3)))\n",
        "    print()\n",
        "\n",
        "  else:\n",
        "    #If match is not found, string is invalid\n",
        "    print(\"{} is Invalid\".format(email))\n",
        "\n",
        "# Driver Code\n",
        "validate_email(\"aldisetiawan@gamil.com\")\n",
        "validate_email(\"setiawan@gamil+com\")\n",
        "validate_email(\"setiawan34@gamil.com+\")\n"
      ],
      "metadata": {
        "colab": {
          "base_uri": "https://localhost:8080/"
        },
        "id": "ws9j_zhElzeA",
        "outputId": "39cb6417-dcbb-441d-f926-5572d5d732b0"
      },
      "execution_count": 32,
      "outputs": [
        {
          "output_type": "stream",
          "name": "stdout",
          "text": [
            "aldisetiawan@gamil.com is Valid. Details are as follow: \n",
            "Local:aldisetiawan\n",
            "Domain:gamil\n",
            "Top Level domain:com\n",
            "\n",
            "setiawan@gamil+com is Invalid\n",
            "setiawan34@gamil.com+ is Invalid\n"
          ]
        }
      ]
    }
  ]
}