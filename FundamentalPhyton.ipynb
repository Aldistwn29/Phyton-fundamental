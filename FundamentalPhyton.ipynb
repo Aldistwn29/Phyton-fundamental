{
  "nbformat": 4,
  "nbformat_minor": 0,
  "metadata": {
    "colab": {
      "provenance": [],
      "authorship_tag": "ABX9TyM3K4MhrJ6jSXfxh3wTqObn",
      "include_colab_link": true
    },
    "kernelspec": {
      "name": "python3",
      "display_name": "Python 3"
    },
    "language_info": {
      "name": "python"
    }
  },
  "cells": [
    {
      "cell_type": "markdown",
      "metadata": {
        "id": "view-in-github",
        "colab_type": "text"
      },
      "source": [
        "<a href=\"https://colab.research.google.com/github/Aldistwn29/Phyton-fundamental/blob/main/FundamentalPhyton.ipynb\" target=\"_parent\"><img src=\"https://colab.research.google.com/assets/colab-badge.svg\" alt=\"Open In Colab\"/></a>"
      ]
    },
    {
      "cell_type": "markdown",
      "source": [
        "# Data Structure\n",
        "\n",
        "\n",
        "\n",
        "\n",
        "\n"
      ],
      "metadata": {
        "id": "XEH0hw5qCLtV"
      }
    },
    {
      "cell_type": "code",
      "execution_count": null,
      "metadata": {
        "colab": {
          "base_uri": "https://localhost:8080/"
        },
        "id": "hZyfJT0mAAmC",
        "outputId": "984a857a-5fc9-41ce-c0cf-5fcdd9c82012"
      },
      "outputs": [
        {
          "output_type": "stream",
          "name": "stdout",
          "text": [
            "[]\n",
            "[1, 2, 3, 'example', 3.14]\n"
          ]
        }
      ],
      "source": [
        "# List\n",
        "\n",
        "my_List = [] # creat empty list\n",
        "print(my_List)\n",
        "my_List = [1, 2, 3, 'example', 3.14] # creating List with data\n",
        "print(my_List)"
      ]
    },
    {
      "cell_type": "code",
      "source": [
        "# Dictionary\n",
        "my_dict = {'Frist' : \"Phyton\", 'Second' : 'Java'}\n",
        "print(my_dict)\n",
        "my_dict['Second'] = 'C++' # Changing element\n",
        "print(my_dict)\n",
        "my_dict['Third'] = 'Ruby' # Adding key-value pair\n",
        "print(my_dict)"
      ],
      "metadata": {
        "colab": {
          "base_uri": "https://localhost:8080/"
        },
        "id": "NoHn3Jh5Dswc",
        "outputId": "af9855dc-3304-43f4-8443-b832274c16d2"
      },
      "execution_count": null,
      "outputs": [
        {
          "output_type": "stream",
          "name": "stdout",
          "text": [
            "{'Frist': 'Phyton', 'Second': 'Java'}\n",
            "{'Frist': 'Phyton', 'Second': 'C++'}\n",
            "{'Frist': 'Phyton', 'Second': 'C++', 'Third': 'Ruby'}\n"
          ]
        }
      ]
    },
    {
      "cell_type": "code",
      "source": [
        "# Tuple\n",
        "my_tuple = (1, 2, 3, \"myskill\") # creating tuple\n",
        "print(my_tuple)\n",
        "print(my_tuple[0])\n",
        "print(my_tuple[:])\n",
        "print(my_tuple[3][3])"
      ],
      "metadata": {
        "colab": {
          "base_uri": "https://localhost:8080/"
        },
        "id": "r8BsPuh6G7rw",
        "outputId": "ac90ba25-6789-4c4c-8e25-e83ffc9e01a5"
      },
      "execution_count": null,
      "outputs": [
        {
          "output_type": "stream",
          "name": "stdout",
          "text": [
            "(1, 2, 3, 'myskill')\n",
            "1\n",
            "(1, 2, 3, 'myskill')\n",
            "k\n"
          ]
        }
      ]
    },
    {
      "cell_type": "code",
      "source": [
        "# Set\n",
        "my_set = {1, 2, 3, 4, 4, 4, 5, 5, 6, 6, 6, 6, 6, 6, 6, 7,7} # creat set\n",
        "print(my_set)\n",
        "my_set.add(8) # add element to set\n",
        "print(my_set)\n"
      ],
      "metadata": {
        "colab": {
          "base_uri": "https://localhost:8080/"
        },
        "id": "gRXXpf6gH_bP",
        "outputId": "44d3c081-477a-4c1d-cb83-692eaeb98dfd"
      },
      "execution_count": null,
      "outputs": [
        {
          "output_type": "stream",
          "name": "stdout",
          "text": [
            "{1, 2, 3, 4, 5, 6, 7}\n",
            "{1, 2, 3, 4, 5, 6, 7, 8}\n"
          ]
        }
      ]
    },
    {
      "cell_type": "markdown",
      "source": [
        "# Contoh oprasi set"
      ],
      "metadata": {
        "id": "mnOEQu0UKwtq"
      }
    },
    {
      "cell_type": "code",
      "source": [
        "my_set = {1, 2, 3, 4}\n",
        "my_set2 = {3, 4, 5, 6}\n",
        "print(my_set.union(my_set2),'ATAU BISA MENGGUNAKAN SIMBOL(|)', my_set | my_set2)\n",
        "print(my_set.intersection(my_set2),'ATAU BISA MENGGUNAKAN SIMBOL(&)', my_set & my_set2)\n",
        "print(my_set.difference(my_set2), 'ATAU BISA MENGGUNAKAN SIMBOL(-)', my_set - my_set2)\n",
        "print(my_set.symmetric_difference(my_set2), 'ATAU BISA MENGGUNAKAN SIMBOL(^)', my_set ^ my_set2)\n",
        "my_set.clear()\n",
        "print(my_set)"
      ],
      "metadata": {
        "colab": {
          "base_uri": "https://localhost:8080/"
        },
        "id": "RB3JiYJcK4UF",
        "outputId": "e15f1e8c-98b6-4fe4-a2a0-dad1478bafa9"
      },
      "execution_count": null,
      "outputs": [
        {
          "output_type": "stream",
          "name": "stdout",
          "text": [
            "{1, 2, 3, 4, 5, 6} ATAU BISA MENGGUNAKAN SIMBOL(|) {1, 2, 3, 4, 5, 6}\n",
            "{3, 4} ATAU BISA MENGGUNAKAN SIMBOL(&) {3, 4}\n",
            "{1, 2} ATAU BISA MENGGUNAKAN SIMBOL(-) {1, 2}\n",
            "{1, 2, 5, 6} ATAU BISA MENGGUNAKAN SIMBOL(^) {1, 2, 5, 6}\n",
            "set()\n"
          ]
        }
      ]
    },
    {
      "cell_type": "markdown",
      "source": [
        "# Conditional Statement"
      ],
      "metadata": {
        "id": "C0U1uLMwObVZ"
      }
    },
    {
      "cell_type": "code",
      "source": [
        "# IF Statement\n",
        "num = 5\n",
        "if num > 0 :\n",
        "  print(num,\"is a Positive number\")\n",
        "  print(\"This a Statement is True\")"
      ],
      "metadata": {
        "colab": {
          "base_uri": "https://localhost:8080/"
        },
        "id": "M27WATo0OhyJ",
        "outputId": "b7f8649c-9be0-4e71-c985-a9645d96e3da"
      },
      "execution_count": null,
      "outputs": [
        {
          "output_type": "stream",
          "name": "stdout",
          "text": [
            "5 is a Positive number\n",
            "This a Statement is True\n"
          ]
        }
      ]
    },
    {
      "cell_type": "code",
      "source": [
        "# IF ELSE Statement\n",
        "num = 5\n",
        "if num >= 0:\n",
        "  print(\"Positive Or Zero\")\n",
        "else:\n",
        "  print(\"Negative Number\")"
      ],
      "metadata": {
        "colab": {
          "base_uri": "https://localhost:8080/"
        },
        "id": "3Nx4tK2hiAd5",
        "outputId": "8223f975-efc1-4fa9-d6ea-66fcaabef473"
      },
      "execution_count": null,
      "outputs": [
        {
          "output_type": "stream",
          "name": "stdout",
          "text": [
            "Positive Or Zero\n"
          ]
        }
      ]
    },
    {
      "cell_type": "code",
      "source": [
        "# IF,ELIF,ELSE Statement\n",
        "num = 7-8\n",
        "if num > 0:\n",
        "  print(\"Positive Number\")\n",
        "elif num == 0:\n",
        "  print(\"Zero\")\n",
        "else:\n",
        " print(\"Negative Number\")"
      ],
      "metadata": {
        "colab": {
          "base_uri": "https://localhost:8080/"
        },
        "id": "6PSMgO_rin19",
        "outputId": "9d4f693e-9a77-4a83-ffbe-e6e9552f566a"
      },
      "execution_count": null,
      "outputs": [
        {
          "output_type": "stream",
          "name": "stdout",
          "text": [
            "Negative Number\n"
          ]
        }
      ]
    },
    {
      "cell_type": "code",
      "source": [
        "# IF nested\n",
        "num = 9-10\n",
        "if num >= 0:\n",
        "  if num == 0:\n",
        "    print(\"Zero\")\n",
        "  else:\n",
        "     print(\"Positive Number\")\n",
        "else:\n",
        "  print(\"Negative Number\")"
      ],
      "metadata": {
        "colab": {
          "base_uri": "https://localhost:8080/"
        },
        "id": "prbqSBrekktX",
        "outputId": "e31f910a-cd36-4b27-9e01-2b4bcf3348f8"
      },
      "execution_count": null,
      "outputs": [
        {
          "output_type": "stream",
          "name": "stdout",
          "text": [
            "Negative Number\n"
          ]
        }
      ]
    },
    {
      "cell_type": "markdown",
      "source": [
        "# Loops"
      ],
      "metadata": {
        "id": "SqSmIOqtmldR"
      }
    },
    {
      "cell_type": "code",
      "source": [
        "# While loops\n",
        "num = 1\n",
        "odd_nums = []\n",
        "while num :\n",
        "  if num % 2 != 0:\n",
        "    odd_nums.append(num)\n",
        "  if num >= 20:\n",
        "    break\n",
        "  num += 1\n",
        "\n",
        "print(\"Odd Number: \",odd_nums)"
      ],
      "metadata": {
        "id": "vVbkpB-OmqDq",
        "colab": {
          "base_uri": "https://localhost:8080/"
        },
        "outputId": "4c134fa2-fe0a-412c-81d6-4419425a955c"
      },
      "execution_count": 84,
      "outputs": [
        {
          "output_type": "stream",
          "name": "stdout",
          "text": [
            "Odd Number:  [1, 3, 5, 7, 9, 11, 13, 15, 17, 19]\n"
          ]
        }
      ]
    },
    {
      "cell_type": "code",
      "source": [
        "num = 5\n",
        "even_nums = []\n",
        "while num:\n",
        "  if num % 2 == 0:\n",
        "    even_nums.append(num)\n",
        "  if num >= 20:\n",
        "    break\n",
        "  num +=1\n",
        "\n",
        "print(\"even number: \", even_nums)"
      ],
      "metadata": {
        "id": "tLJD6W5toFZs",
        "colab": {
          "base_uri": "https://localhost:8080/"
        },
        "outputId": "1122df31-e1d7-49e7-c69e-aaad6983f313"
      },
      "execution_count": 96,
      "outputs": [
        {
          "output_type": "stream",
          "name": "stdout",
          "text": [
            "even number:  [6, 8, 10, 12, 14, 16, 18, 20]\n"
          ]
        }
      ]
    }
  ]
}