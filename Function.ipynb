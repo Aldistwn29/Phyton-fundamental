{
  "nbformat": 4,
  "nbformat_minor": 0,
  "metadata": {
    "colab": {
      "provenance": [],
      "authorship_tag": "ABX9TyM0qp7QnjICiqKbnPsaRfRP",
      "include_colab_link": true
    },
    "kernelspec": {
      "name": "python3",
      "display_name": "Python 3"
    },
    "language_info": {
      "name": "python"
    }
  },
  "cells": [
    {
      "cell_type": "markdown",
      "metadata": {
        "id": "view-in-github",
        "colab_type": "text"
      },
      "source": [
        "<a href=\"https://colab.research.google.com/github/Aldistwn29/Phyton-fundamental/blob/main/Function.ipynb\" target=\"_parent\"><img src=\"https://colab.research.google.com/assets/colab-badge.svg\" alt=\"Open In Colab\"/></a>"
      ]
    },
    {
      "cell_type": "markdown",
      "source": [
        "# Phyton Function"
      ],
      "metadata": {
        "id": "3aE2HI5LpjE3"
      }
    },
    {
      "cell_type": "code",
      "execution_count": null,
      "metadata": {
        "id": "tHsuzImOpeRo"
      },
      "outputs": [],
      "source": [
        "# function definition\n",
        "def greet(nama):\n",
        "  \"\"\"\n",
        "  Fungsi ini menyap nama\n",
        "  orang yang masuk sebagai\n",
        "  sebuah prameter\n",
        "  \"\"\"\n",
        "  print(\"Hello, \" + nama + \". Good Morning! Welcome To Home\")"
      ]
    },
    {
      "cell_type": "code",
      "source": [
        "print(greet.__doc__)"
      ],
      "metadata": {
        "id": "lKxtpqEJqrI4",
        "colab": {
          "base_uri": "https://localhost:8080/"
        },
        "outputId": "5480ba17-e911-402a-87c9-4e1012a9b736"
      },
      "execution_count": null,
      "outputs": [
        {
          "output_type": "stream",
          "name": "stdout",
          "text": [
            "\n",
            "  Fungsi ini menyap nama\n",
            "  orang yang masuk sebagai\n",
            "  sebuah prameter\n",
            "  \n"
          ]
        }
      ]
    },
    {
      "cell_type": "code",
      "source": [
        "greet('ALDI')"
      ],
      "metadata": {
        "id": "X9B3PgFQr2i-",
        "colab": {
          "base_uri": "https://localhost:8080/"
        },
        "outputId": "33d9a790-4d22-4b18-d7d0-10558d63f9dc"
      },
      "execution_count": null,
      "outputs": [
        {
          "output_type": "stream",
          "name": "stdout",
          "text": [
            "Hello, ALDI. Good Morning! Welcome To Home\n"
          ]
        }
      ]
    },
    {
      "cell_type": "code",
      "source": [
        "greet('ismi')"
      ],
      "metadata": {
        "id": "UQtYXolmvLlt",
        "colab": {
          "base_uri": "https://localhost:8080/"
        },
        "outputId": "cb6f6dcb-f8be-4163-bff7-619c9f4c6380"
      },
      "execution_count": null,
      "outputs": [
        {
          "output_type": "stream",
          "name": "stdout",
          "text": [
            "Hello, ismi. Good Morning! Welcome To Home\n"
          ]
        }
      ]
    },
    {
      "cell_type": "code",
      "source": [
        "# def greet(name):\n",
        "#     \"\"\"\n",
        "#     Fungsi untuk menyapa pengguna berdasarkan nama yang diberikan.\n",
        "#     \"\"\"\n",
        "#     return f\"Halo, {name}! Happy wedding!\""
      ],
      "metadata": {
        "colab": {
          "base_uri": "https://localhost:8080/"
        },
        "id": "Z41KNuxiyG_3",
        "outputId": "f53488ee-47b5-4761-f282-2768d29a95c0"
      },
      "execution_count": null,
      "outputs": [
        {
          "output_type": "stream",
          "name": "stdout",
          "text": [
            "Halo, ismi! Happy wedding!\n"
          ]
        }
      ]
    },
    {
      "cell_type": "code",
      "source": [
        "# nama_pengguna = \"ismi\"\n",
        "# ucapan_selamat = greet(nama_pengguna)\n",
        "# print(ucapan_selamat)"
      ],
      "metadata": {
        "colab": {
          "base_uri": "https://localhost:8080/"
        },
        "id": "L-ibx25ryhzv",
        "outputId": "89835c91-40a9-46bc-c4c7-a3bfb404fec9"
      },
      "execution_count": null,
      "outputs": [
        {
          "output_type": "stream",
          "name": "stdout",
          "text": [
            "Halo, ismi! Happy wedding!\n"
          ]
        }
      ]
    },
    {
      "cell_type": "code",
      "source": [
        "def bersihkan_folder(nama_folder):\n",
        "  \"\"\"\n",
        "  perintah ini digunakan\n",
        "  untuk menghapus folder\n",
        "  \"\"\"\n",
        "  print(f\"Folder {nama_folder} telah dibersihkan.\")"
      ],
      "metadata": {
        "id": "nox_TC6e2Z1Y"
      },
      "execution_count": null,
      "outputs": []
    },
    {
      "cell_type": "code",
      "source": [
        "print(bersihkan_folder.__doc__)"
      ],
      "metadata": {
        "colab": {
          "base_uri": "https://localhost:8080/"
        },
        "id": "JIdyA0K-3P4-",
        "outputId": "5cbdc303-f45e-425f-e869-79a9332d6981"
      },
      "execution_count": null,
      "outputs": [
        {
          "output_type": "stream",
          "name": "stdout",
          "text": [
            "\n",
            "  perintah ini digunakan\n",
            "  untuk menghapus folder\n",
            "  \n"
          ]
        }
      ]
    },
    {
      "cell_type": "code",
      "source": [
        "bersihkan_folder('poto')"
      ],
      "metadata": {
        "colab": {
          "base_uri": "https://localhost:8080/"
        },
        "id": "o2xHg5Q821hs",
        "outputId": "5091bd78-cfc1-4d6e-8dee-e75df8c9be94"
      },
      "execution_count": null,
      "outputs": [
        {
          "output_type": "stream",
          "name": "stdout",
          "text": [
            "Folder poto telah dibersihkan.\n"
          ]
        }
      ]
    },
    {
      "cell_type": "markdown",
      "source": [
        "# Function Argument"
      ],
      "metadata": {
        "id": "qS4kDMFtWXux"
      }
    },
    {
      "cell_type": "code",
      "source": [
        "def greet(name,msg):\n",
        "  \"\"\"Fungsi ini menyapa\n",
        "  orang dengan pesan yang di berikan\"\"\"\n",
        "  print(\"Hello\", name + ',' + msg)\n",
        "\n",
        "greet(\"Aldi\", \"Good Luck!\")"
      ],
      "metadata": {
        "colab": {
          "base_uri": "https://localhost:8080/"
        },
        "id": "-b5zjn4OWlh3",
        "outputId": "5705dfcb-80f5-4975-e67a-6db9ae094a6a"
      },
      "execution_count": null,
      "outputs": [
        {
          "output_type": "stream",
          "name": "stdout",
          "text": [
            "Hello Aldi,Good Luck!\n"
          ]
        }
      ]
    },
    {
      "cell_type": "markdown",
      "source": [
        "# Phython Default Arguments"
      ],
      "metadata": {
        "id": "XagzP0CAZ_jN"
      }
    },
    {
      "cell_type": "markdown",
      "source": [
        "ketika dapat memberikan nilai default ke argument dengan menggunakan oprator penugasan (=) berikut adalah contohnya"
      ],
      "metadata": {
        "id": "i-25xzM1aKFF"
      }
    },
    {
      "cell_type": "code",
      "source": [
        "def greet(name, msg ='Good Luck!'):\n",
        "  \"\"\"\n",
        "  Fungsi ini menyapa\n",
        "  orang dengan\n",
        "  pesan yang di sediakan.\n",
        "  jika pesan tidak\n",
        "  diberikan, Defaultnya\n",
        "  \"Good Luck\"\n",
        "  \"\"\"\n",
        "\n",
        "  print(\"Hello\", name +', ' + msg)\n",
        "\n",
        "greet(\"Aldi\")\n",
        "greet(\"Aldi\", \"Good Night!\")\n"
      ],
      "metadata": {
        "colab": {
          "base_uri": "https://localhost:8080/"
        },
        "id": "dDJM_4sfaG0B",
        "outputId": "08eb11c8-a4d5-4794-fa93-998e2733e1b5"
      },
      "execution_count": null,
      "outputs": [
        {
          "output_type": "stream",
          "name": "stdout",
          "text": [
            "Hello Aldi, Good Luck!\n",
            "Hello Aldi, Good Night!\n"
          ]
        }
      ]
    },
    {
      "cell_type": "markdown",
      "source": [
        "Sejumlah argument dalam suatu fungsi dapet memiliki nilai default, Tetapi begitu kita memiliki argument semua argumen di sebelah kananya juga harus memiliki nilai default"
      ],
      "metadata": {
        "id": "eePqrCGkd025"
      }
    },
    {
      "cell_type": "markdown",
      "source": [
        "# Python Keyword Argument"
      ],
      "metadata": {
        "id": "zEc5YjH1ea_T"
      }
    },
    {
      "cell_type": "markdown",
      "source": [
        "saat kita memanggil fungsi dengan beberapa nilai-nilai ini di gunakan pada argument sesuai dengan posisinya.\n",
        "sebagai contoh, pada fungsi di atas greet(\"Aldi\",\"Good Night!\") itu artinya nilai \"Aldi\" diberikan ke name argumen dan juga \"Good Night!\" ke msg\n",
        "python menggunakan funsgi dipanggil menggunkan kata kunci. ketika kita memanggil fungsi dengan cara ini urutan(posisi) argumen dapat diubah panggilan berikut ke fungsi di ats semuanya valid dan menghasilkan hal yg sama"
      ],
      "metadata": {
        "id": "_0bpwTt_ehPx"
      }
    },
    {
      "cell_type": "code",
      "source": [
        "# 1 keyword arguments\n",
        "greet(name =\"Aldi\", msg= \"Good Night!\")\n",
        "\n",
        "# 1 keyword arguments (out of order)\n",
        "greet(msg = \"Good Night!\", name = \"Aldi\")\n",
        "\n",
        "# 1 positional, keyword arguments\n",
        "greet(\"Aldi\", msg = \"Good Night!\")"
      ],
      "metadata": {
        "colab": {
          "base_uri": "https://localhost:8080/"
        },
        "id": "i3mnynF1by9w",
        "outputId": "da40a2dc-530c-46d1-f207-3933b95ea483"
      },
      "execution_count": null,
      "outputs": [
        {
          "output_type": "stream",
          "name": "stdout",
          "text": [
            "Hello Aldi, Good Night!\n",
            "Hello Aldi, Good Night!\n",
            "Hello Aldi, Good Night!\n"
          ]
        }
      ]
    },
    {
      "cell_type": "markdown",
      "source": [
        "# Phyton Arbitrary Argument"
      ],
      "metadata": {
        "id": "bmfckaofiXtg"
      }
    },
    {
      "cell_type": "markdown",
      "source": [
        "Terkadang, kita tidak mengetahui jumlah argumen yg akan di masukan ke dalam suatu fungsi.phyton memungkinkan kita untuk menangani situasi semacam ini melalui pemanggilan fungsi dengan sejumlah argumen yg berubah-ubah.\n",
        "dalam definisi fungsi,kita menggunakan tanda (*) sebelum nama prameter untuk menunjukan argumen ini . berikut adalah contoh\n",
        "\n",
        "\n"
      ],
      "metadata": {
        "id": "P0AJQb9qikIA"
      }
    },
    {
      "cell_type": "code",
      "source": [
        "def greet(*names):\n",
        "  \"\"\"Funsgi ini menyapa semua orang\n",
        "    dengan nama Tuple.\"\"\"\n",
        "\n",
        "  # names is a tuple with argumen\n",
        "  for name in names:\n",
        "    print(\"Benua : \", name)\n",
        "\n",
        "\n",
        "greet(\"Asia\", \"Amerika\", \"Europa\", \"Australia\")"
      ],
      "metadata": {
        "colab": {
          "base_uri": "https://localhost:8080/"
        },
        "id": "H-Y0MP00kMMG",
        "outputId": "069f1fa6-68d9-49dc-c7b5-8cba12ad8378"
      },
      "execution_count": null,
      "outputs": [
        {
          "output_type": "stream",
          "name": "stdout",
          "text": [
            "Benua :  Asia\n",
            "Benua :  Amerika\n",
            "Benua :  Europa\n",
            "Benua :  Australia\n"
          ]
        }
      ]
    },
    {
      "cell_type": "markdown",
      "source": [
        "# Phython Recursion"
      ],
      "metadata": {
        "id": "DY_cuBohTglN"
      }
    },
    {
      "cell_type": "markdown",
      "source": [
        "Berikut ini adalah contoh Fungsi rekursif untuk mencari faktorial suatu bilangan bulat.\n",
        "\n",
        "Faktorial suatu bilangan adalah hasil kali semua bilangan bulat dari 1 sampai dengan bilangan tersebut. contoh faktorial dari 6 (di lambangkan dengan 6!) adalah 1*2*3*4*5*6 = 720"
      ],
      "metadata": {
        "id": "piB5ta9FTzAw"
      }
    },
    {
      "cell_type": "code",
      "source": [
        "def factorial(x):\n",
        "  \"\"\"ini adalah Fungsi rekursif\n",
        "  untuk menemukan bilangan faktorial\n",
        "  dari bilangan bulat\"\"\"\n",
        "\n",
        "  if x == 1 :\n",
        "    return 1\n",
        "  else:\n",
        "    return (x * factorial(x-1))\n",
        "\n",
        "num = 4\n",
        "print(\"Nilai Faktorial dari\", num, 'adalah', factorial(num))"
      ],
      "metadata": {
        "colab": {
          "base_uri": "https://localhost:8080/"
        },
        "id": "EC0iGV10U1WY",
        "outputId": "da9f185f-3204-4ce0-da3d-ca8f9c2848a0"
      },
      "execution_count": null,
      "outputs": [
        {
          "output_type": "stream",
          "name": "stdout",
          "text": [
            "Nilai Faktorial dari 4 adalah 24\n"
          ]
        }
      ]
    },
    {
      "cell_type": "code",
      "source": [
        "def fibonnacci(x):\n",
        "  \"\"\"ini adalah Fungsi rekursif\n",
        "  yg di gunakan untuk menghitung\n",
        "  dalam deret Fibonnacci\"\"\"\n",
        "\n",
        "  if x <= 0:\n",
        "    return \"Invalid input\"\n",
        "  elif x == 1:\n",
        "    return [0]\n",
        "  elif x == 2:\n",
        "    return [0, 1]\n",
        "  else:\n",
        "    fib_series = fibonnacci(x-1)\n",
        "    deret_fib = fib_series[-1] + fib_series[-2]\n",
        "    fib_series.append(deret_fib)\n",
        "    return fib_series\n",
        "\n",
        "num = 4\n",
        "fibonacci_sequence = fibonnacci(num)\n",
        "print(\"Nilai Deret fibonnaccinya: \", fibonacci_sequence)\n",
        ""
      ],
      "metadata": {
        "colab": {
          "base_uri": "https://localhost:8080/"
        },
        "id": "4N68QNX6ZOeA",
        "outputId": "6e27f064-c370-4ee4-d550-bac8d80b072f"
      },
      "execution_count": 46,
      "outputs": [
        {
          "output_type": "stream",
          "name": "stdout",
          "text": [
            "Nilai Deret fibonnaccinya:  [0, 1, 1, 2]\n"
          ]
        }
      ]
    }
  ]
}