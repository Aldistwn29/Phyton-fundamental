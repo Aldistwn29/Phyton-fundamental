{
  "nbformat": 4,
  "nbformat_minor": 0,
  "metadata": {
    "colab": {
      "provenance": [],
      "authorship_tag": "ABX9TyPNEx77WYrQ3eB1wGG9FoNy",
      "include_colab_link": true
    },
    "kernelspec": {
      "name": "python3",
      "display_name": "Python 3"
    },
    "language_info": {
      "name": "python"
    }
  },
  "cells": [
    {
      "cell_type": "markdown",
      "metadata": {
        "id": "view-in-github",
        "colab_type": "text"
      },
      "source": [
        "<a href=\"https://colab.research.google.com/github/Aldistwn29/Phyton-fundamental/blob/main/Function.ipynb\" target=\"_parent\"><img src=\"https://colab.research.google.com/assets/colab-badge.svg\" alt=\"Open In Colab\"/></a>"
      ]
    },
    {
      "cell_type": "markdown",
      "source": [
        "# Phyton Function"
      ],
      "metadata": {
        "id": "3aE2HI5LpjE3"
      }
    },
    {
      "cell_type": "code",
      "execution_count": 63,
      "metadata": {
        "id": "tHsuzImOpeRo"
      },
      "outputs": [],
      "source": [
        "# function definition\n",
        "def greet(nama):\n",
        "  \"\"\"\n",
        "  Fungsi ini menyap nama\n",
        "  orang yang masuk sebagai\n",
        "  sebuah prameter\n",
        "  \"\"\"\n",
        "  print(\"Hello, \" + nama + \". Good Morning! Welcome To Home\")"
      ]
    },
    {
      "cell_type": "code",
      "source": [
        "print(greet.__doc__)"
      ],
      "metadata": {
        "id": "lKxtpqEJqrI4",
        "colab": {
          "base_uri": "https://localhost:8080/"
        },
        "outputId": "06961bf7-71c8-4a41-d666-14d6dae96df3"
      },
      "execution_count": 45,
      "outputs": [
        {
          "output_type": "stream",
          "name": "stdout",
          "text": [
            "\n",
            "  Fungsi ini menyap nama\n",
            "  orang yang masuk sebagai\n",
            "  sebuah prameter\n",
            "  \n"
          ]
        }
      ]
    },
    {
      "cell_type": "code",
      "source": [
        "greet('ALDI')"
      ],
      "metadata": {
        "id": "X9B3PgFQr2i-",
        "colab": {
          "base_uri": "https://localhost:8080/"
        },
        "outputId": "cbb8f7ea-3aa6-4e3c-d24c-cb6d09e13be3"
      },
      "execution_count": 44,
      "outputs": [
        {
          "output_type": "stream",
          "name": "stdout",
          "text": [
            "Hello, ALDI. Good Morning! Welcome To Home\n"
          ]
        }
      ]
    },
    {
      "cell_type": "code",
      "source": [
        "greet('ismi')"
      ],
      "metadata": {
        "id": "UQtYXolmvLlt",
        "colab": {
          "base_uri": "https://localhost:8080/"
        },
        "outputId": "01ab0d9a-e7ee-433e-80ac-867b01d0a152"
      },
      "execution_count": 64,
      "outputs": [
        {
          "output_type": "stream",
          "name": "stdout",
          "text": [
            "Hello, ismi. Good Morning! Welcome To Home\n"
          ]
        }
      ]
    },
    {
      "cell_type": "code",
      "source": [
        "# def greet(name):\n",
        "#     \"\"\"\n",
        "#     Fungsi untuk menyapa pengguna berdasarkan nama yang diberikan.\n",
        "#     \"\"\"\n",
        "#     return f\"Halo, {name}! Happy wedding!\""
      ],
      "metadata": {
        "colab": {
          "base_uri": "https://localhost:8080/"
        },
        "id": "Z41KNuxiyG_3",
        "outputId": "f53488ee-47b5-4761-f282-2768d29a95c0"
      },
      "execution_count": 60,
      "outputs": [
        {
          "output_type": "stream",
          "name": "stdout",
          "text": [
            "Halo, ismi! Happy wedding!\n"
          ]
        }
      ]
    },
    {
      "cell_type": "code",
      "source": [
        "# nama_pengguna = \"ismi\"\n",
        "# ucapan_selamat = greet(nama_pengguna)\n",
        "# print(ucapan_selamat)"
      ],
      "metadata": {
        "colab": {
          "base_uri": "https://localhost:8080/"
        },
        "id": "L-ibx25ryhzv",
        "outputId": "89835c91-40a9-46bc-c4c7-a3bfb404fec9"
      },
      "execution_count": 59,
      "outputs": [
        {
          "output_type": "stream",
          "name": "stdout",
          "text": [
            "Halo, ismi! Happy wedding!\n"
          ]
        }
      ]
    },
    {
      "cell_type": "code",
      "source": [
        "def bersihkan_folder(nama_folder):\n",
        "  \"\"\"\n",
        "  perintah ini digunakan\n",
        "  untuk menghapus folder\n",
        "  \"\"\"\n",
        "  print(f\"Folder {nama_folder} telah dibersihkan.\")"
      ],
      "metadata": {
        "id": "nox_TC6e2Z1Y"
      },
      "execution_count": 68,
      "outputs": []
    },
    {
      "cell_type": "code",
      "source": [
        "print(bersihkan_folder.__doc__)"
      ],
      "metadata": {
        "colab": {
          "base_uri": "https://localhost:8080/"
        },
        "id": "JIdyA0K-3P4-",
        "outputId": "9539341a-7d42-4b26-db11-019841bf5493"
      },
      "execution_count": 70,
      "outputs": [
        {
          "output_type": "stream",
          "name": "stdout",
          "text": [
            "\n",
            "  perintah ini digunakan\n",
            "  untuk menghapus folder\n",
            "  \n"
          ]
        }
      ]
    },
    {
      "cell_type": "code",
      "source": [
        "bersihkan_folder('poto')"
      ],
      "metadata": {
        "colab": {
          "base_uri": "https://localhost:8080/"
        },
        "id": "o2xHg5Q821hs",
        "outputId": "dc886b49-c319-4f59-9ea6-d7556e9beb2f"
      },
      "execution_count": 71,
      "outputs": [
        {
          "output_type": "stream",
          "name": "stdout",
          "text": [
            "Folder poto telah di hapus\n"
          ]
        }
      ]
    }
  ]
}