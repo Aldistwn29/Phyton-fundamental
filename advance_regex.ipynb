{
  "nbformat": 4,
  "nbformat_minor": 0,
  "metadata": {
    "colab": {
      "provenance": [],
      "authorship_tag": "ABX9TyMWwQjUglprtNkameuDoNqT",
      "include_colab_link": true
    },
    "kernelspec": {
      "name": "python3",
      "display_name": "Python 3"
    },
    "language_info": {
      "name": "python"
    }
  },
  "cells": [
    {
      "cell_type": "markdown",
      "metadata": {
        "id": "view-in-github",
        "colab_type": "text"
      },
      "source": [
        "<a href=\"https://colab.research.google.com/github/Aldistwn29/Phyton-fundamental/blob/main/advance_regex.ipynb\" target=\"_parent\"><img src=\"https://colab.research.google.com/assets/colab-badge.svg\" alt=\"Open In Colab\"/></a>"
      ]
    },
    {
      "cell_type": "markdown",
      "source": [
        "# Find all matched substring occurence"
      ],
      "metadata": {
        "id": "bNwREWP8ulvm"
      }
    },
    {
      "cell_type": "code",
      "source": [
        "while($string =~ m/regex/g){\n",
        "    print \"Ditemukan '$&', kemunculan selanjutnya pada karakter \".post($string)+1. \"\\n\"\n",
        "}"
      ],
      "metadata": {
        "id": "Tj25HhQXwfNR"
      },
      "execution_count": null,
      "outputs": []
    },
    {
      "cell_type": "markdown",
      "source": [
        "# VS"
      ],
      "metadata": {
        "id": "O8KIrX3Cv3cE"
      }
    },
    {
      "cell_type": "code",
      "source": [
        "import re\n",
        "\n",
        "re.findall(pattern, string[, flag])"
      ],
      "metadata": {
        "id": "Tgk3_qlfwj1_"
      },
      "execution_count": null,
      "outputs": []
    },
    {
      "cell_type": "markdown",
      "source": [
        "findall mengembalikan semua kecocokan pola ynag tidak tumpang tindih dalam string, sebagai daftar string. String dipindahkan dari kiri ke kanan, dan kecocokan dikembalikan sesui urutan ditentukannya."
      ],
      "metadata": {
        "id": "oTNa6Vjswk1P"
      }
    },
    {
      "cell_type": "code",
      "source": [
        "import re\n",
        "\n",
        "t =\"A fat cat doens't eat oat but a rat eats bats.\"\n",
        "mo = re.findall(\"[force]at\",t)\n",
        "print(mo)"
      ],
      "metadata": {
        "colab": {
          "base_uri": "https://localhost:8080/"
        },
        "id": "aBHCloz2w99g",
        "outputId": "8e4553ef-9fa3-4e79-e0e3-37baf7db370e"
      },
      "execution_count": null,
      "outputs": [
        {
          "output_type": "stream",
          "name": "stdout",
          "text": [
            "['fat', 'cat', 'eat', 'oat', 'rat', 'eat']\n"
          ]
        }
      ]
    },
    {
      "cell_type": "markdown",
      "source": [
        "jika satu atau lebih group ada dalam pola, findall mengembalikan list group. ini akan menjadi daftar tupel jika polanya memiliku lebih dari satu grup. kita menunjukan ini dalam contoh berikutnya, kita memiliki rangkaian panjang dengan berbagai kursus pelatihan phyton dan tanggalnya. Dengan panggilan pertama ke findall, kita tidak menggunakan pengelompokan apapun dan sebagai hasilnya menerima string lengkap. Dalam panggilan berikutnya, kita menggunakan pengelompokan dan findall mengembalikan daftar 2-tuple, masing-masing memiliki nama kursus sebagai komponen pertama dan tanggal sebagai komponen kedua:\n"
      ],
      "metadata": {
        "id": "cUojTLRE4Dbc"
      }
    },
    {
      "cell_type": "code",
      "source": [
        "import re\n",
        "courses = '''Python Training Course for Beginners: 15/Aug/2011 - 19/Aug/2011; Python Training Course for Beginners: 12/Dec/2011 - 16/Dec/2011; Python Training Course for Beginners: 31/oct/2011 - 4/Nov/2011'''\n",
        "items = re.findall(\"[^:]*:[^;]*;?\", courses)\n",
        "print(items)"
      ],
      "metadata": {
        "colab": {
          "base_uri": "https://localhost:8080/"
        },
        "id": "Ybz6nZTGF3WU",
        "outputId": "d3c8ef83-a18c-4a1f-e4a9-253b11f27e2e"
      },
      "execution_count": 19,
      "outputs": [
        {
          "output_type": "stream",
          "name": "stdout",
          "text": [
            "['Python Training Course for Beginners: 15/Aug/2011 - 19/Aug/2011;', ' Python Training Course for Beginners: 12/Dec/2011 - 16/Dec/2011;', ' Python Training Course for Beginners: 31/oct/2011 - 4/Nov/2011']\n"
          ]
        }
      ]
    },
    {
      "cell_type": "code",
      "source": [
        "items = re.findall(\"([^:]*):([^;]*;?)\", courses)\n",
        "items"
      ],
      "metadata": {
        "colab": {
          "base_uri": "https://localhost:8080/"
        },
        "id": "hWp0EyJAQmid",
        "outputId": "ac04138e-dd42-44ed-f5be-4969199ace28"
      },
      "execution_count": 21,
      "outputs": [
        {
          "output_type": "execute_result",
          "data": {
            "text/plain": [
              "[('Python Training Course for Beginners', ' 15/Aug/2011 - 19/Aug/2011;'),\n",
              " (' Python Training Course for Beginners', ' 12/Dec/2011 - 16/Dec/2011;'),\n",
              " (' Python Training Course for Beginners', ' 31/oct/2011 - 4/Nov/2011')]"
            ]
          },
          "metadata": {},
          "execution_count": 21
        }
      ]
    },
    {
      "cell_type": "code",
      "source": [
        "import re\n",
        "courses = '''Python Training Course For Beginners: 15/Aug/2001 - 19/Aug/2011; Python Training Course For Beginners: 12/Dec/2011 - 16/Dec/2011; Python Training Course For Beginners: 31/Oct/2011 - 4/Nov/2011'''\n",
        "items = re.findall(\"[^:]*:[^;]*;?\", courses)\n",
        "items"
      ],
      "metadata": {
        "colab": {
          "base_uri": "https://localhost:8080/"
        },
        "id": "d9G0kU0paMY3",
        "outputId": "694b3eb7-4c9c-4d40-c201-a7181551e9b8"
      },
      "execution_count": 54,
      "outputs": [
        {
          "output_type": "execute_result",
          "data": {
            "text/plain": [
              "['Python Training Course For Beginners: 15/Aug/2001 - 19/Aug/2011;',\n",
              " ' Python Training Course For Beginners: 12/Dec/2011 - 16/Dec/2011;',\n",
              " ' Python Training Course For Beginners: 31/Oct/2011 - 4/Nov/2011']"
            ]
          },
          "metadata": {},
          "execution_count": 54
        }
      ]
    },
    {
      "cell_type": "code",
      "source": [
        "import re\n",
        "my_birthday = '''This is My Birthday: 29/maret/2003'''\n",
        "items = re.findall(\"[^:]*:[^:]*:?\", my_birthday)\n",
        "print(items)"
      ],
      "metadata": {
        "colab": {
          "base_uri": "https://localhost:8080/"
        },
        "id": "gjw9dpf3WfXl",
        "outputId": "ee563ace-909f-4d49-9644-fdef7cf6048e"
      },
      "execution_count": 43,
      "outputs": [
        {
          "output_type": "stream",
          "name": "stdout",
          "text": [
            "['This is My Birthday: 29/maret/2003']\n"
          ]
        }
      ]
    }
  ]
}