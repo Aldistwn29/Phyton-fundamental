{
  "nbformat": 4,
  "nbformat_minor": 0,
  "metadata": {
    "colab": {
      "provenance": [],
      "authorship_tag": "ABX9TyM1MScAuChi7hxa2Z+yEUD1",
      "include_colab_link": true
    },
    "kernelspec": {
      "name": "python3",
      "display_name": "Python 3"
    },
    "language_info": {
      "name": "python"
    }
  },
  "cells": [
    {
      "cell_type": "markdown",
      "metadata": {
        "id": "view-in-github",
        "colab_type": "text"
      },
      "source": [
        "<a href=\"https://colab.research.google.com/github/Aldistwn29/Phyton-fundamental/blob/main/advance_regex.ipynb\" target=\"_parent\"><img src=\"https://colab.research.google.com/assets/colab-badge.svg\" alt=\"Open In Colab\"/></a>"
      ]
    },
    {
      "cell_type": "markdown",
      "source": [
        "# Find all matched substring occurence"
      ],
      "metadata": {
        "id": "bNwREWP8ulvm"
      }
    },
    {
      "cell_type": "code",
      "source": [
        "while($string =~ m/regex/g){\n",
        "    print \"Ditemukan '$&', kemunculan selanjutnya pada karakter \".post($string)+1. \"\\n\"\n",
        "}"
      ],
      "metadata": {
        "id": "Tj25HhQXwfNR"
      },
      "execution_count": null,
      "outputs": []
    },
    {
      "cell_type": "markdown",
      "source": [
        "# VS"
      ],
      "metadata": {
        "id": "O8KIrX3Cv3cE"
      }
    },
    {
      "cell_type": "code",
      "source": [
        "import re\n",
        "\n",
        "re.findall(pattern, string[, flag])"
      ],
      "metadata": {
        "id": "Tgk3_qlfwj1_"
      },
      "execution_count": null,
      "outputs": []
    },
    {
      "cell_type": "markdown",
      "source": [
        "findall mengembalikan semua kecocokan pola ynag tidak tumpang tindih dalam string, sebagai daftar string. String dipindahkan dari kiri ke kanan, dan kecocokan dikembalikan sesui urutan ditentukannya."
      ],
      "metadata": {
        "id": "oTNa6Vjswk1P"
      }
    },
    {
      "cell_type": "code",
      "source": [
        "import re\n",
        "\n",
        "t =\"A fat cat doens't eat oat but a rat eats bats.\"\n",
        "mo = re.findall(\"[force]at\",t)\n",
        "print(mo)"
      ],
      "metadata": {
        "colab": {
          "base_uri": "https://localhost:8080/"
        },
        "id": "aBHCloz2w99g",
        "outputId": "8e4553ef-9fa3-4e79-e0e3-37baf7db370e"
      },
      "execution_count": null,
      "outputs": [
        {
          "output_type": "stream",
          "name": "stdout",
          "text": [
            "['fat', 'cat', 'eat', 'oat', 'rat', 'eat']\n"
          ]
        }
      ]
    },
    {
      "cell_type": "markdown",
      "source": [
        "jika satu atau lebih group ada dalam pola, findall mengembalikan list group. ini akan menjadi daftar tupel jika polanya memiliku lebih dari satu grup. kita menunjukan ini dalam contoh berikutnya, kita memiliki rangkaian panjang dengan berbagai kursus pelatihan phyton dan tanggalnya. Dengan panggilan pertama ke findall, kita tidak menggunakan pengelompokan apapun dan sebagai hasilnya menerima string lengkap. Dalam panggilan berikutnya, kita menggunakan pengelompokan dan findall mengembalikan daftar 2-tuple, masing-masing memiliki nama kursus sebagai komponen pertama dan tanggal sebagai komponen kedua:\n"
      ],
      "metadata": {
        "id": "cUojTLRE4Dbc"
      }
    },
    {
      "cell_type": "code",
      "source": [
        "import re\n",
        "courses = '''Python Training Course for Beginners: 15/Aug/2011 - 19/Aug/2011; Python Training Course for Beginners: 12/Dec/2011 - 16/Dec/2011; Python Training Course for Beginners: 31/oct/2011 - 4/Nov/2011'''\n",
        "items = re.findall(\"[^:]*:[^;]*;?\", courses)\n",
        "print(items)"
      ],
      "metadata": {
        "colab": {
          "base_uri": "https://localhost:8080/"
        },
        "id": "Ybz6nZTGF3WU",
        "outputId": "d3c8ef83-a18c-4a1f-e4a9-253b11f27e2e"
      },
      "execution_count": null,
      "outputs": [
        {
          "output_type": "stream",
          "name": "stdout",
          "text": [
            "['Python Training Course for Beginners: 15/Aug/2011 - 19/Aug/2011;', ' Python Training Course for Beginners: 12/Dec/2011 - 16/Dec/2011;', ' Python Training Course for Beginners: 31/oct/2011 - 4/Nov/2011']\n"
          ]
        }
      ]
    },
    {
      "cell_type": "code",
      "source": [
        "items = re.findall(\"([^:]*):([^;]*;?)\", courses)\n",
        "items"
      ],
      "metadata": {
        "colab": {
          "base_uri": "https://localhost:8080/"
        },
        "id": "hWp0EyJAQmid",
        "outputId": "ac04138e-dd42-44ed-f5be-4969199ace28"
      },
      "execution_count": null,
      "outputs": [
        {
          "output_type": "execute_result",
          "data": {
            "text/plain": [
              "[('Python Training Course for Beginners', ' 15/Aug/2011 - 19/Aug/2011;'),\n",
              " (' Python Training Course for Beginners', ' 12/Dec/2011 - 16/Dec/2011;'),\n",
              " (' Python Training Course for Beginners', ' 31/oct/2011 - 4/Nov/2011')]"
            ]
          },
          "metadata": {},
          "execution_count": 21
        }
      ]
    },
    {
      "cell_type": "code",
      "source": [
        "import re\n",
        "courses = '''Python Training Course For Beginners: 15/Aug/2001 - 19/Aug/2011; Python Training Course For Beginners: 12/Dec/2011 - 16/Dec/2011; Python Training Course For Beginners: 31/Oct/2011 - 4/Nov/2011'''\n",
        "items = re.findall(\"[^:]*:[^;]*;?\", courses)\n",
        "items"
      ],
      "metadata": {
        "colab": {
          "base_uri": "https://localhost:8080/"
        },
        "id": "d9G0kU0paMY3",
        "outputId": "694b3eb7-4c9c-4d40-c201-a7181551e9b8"
      },
      "execution_count": null,
      "outputs": [
        {
          "output_type": "execute_result",
          "data": {
            "text/plain": [
              "['Python Training Course For Beginners: 15/Aug/2001 - 19/Aug/2011;',\n",
              " ' Python Training Course For Beginners: 12/Dec/2011 - 16/Dec/2011;',\n",
              " ' Python Training Course For Beginners: 31/Oct/2011 - 4/Nov/2011']"
            ]
          },
          "metadata": {},
          "execution_count": 54
        }
      ]
    },
    {
      "cell_type": "code",
      "source": [
        "import re\n",
        "my_birthday = '''This is My Birthday: 29/maret/2003'''\n",
        "items = re.findall(\"[^:]*:[^:]*:?\", my_birthday)\n",
        "print(items)"
      ],
      "metadata": {
        "colab": {
          "base_uri": "https://localhost:8080/"
        },
        "id": "gjw9dpf3WfXl",
        "outputId": "ee563ace-909f-4d49-9644-fdef7cf6048e"
      },
      "execution_count": null,
      "outputs": [
        {
          "output_type": "stream",
          "name": "stdout",
          "text": [
            "['This is My Birthday: 29/maret/2003']\n"
          ]
        }
      ]
    },
    {
      "cell_type": "markdown",
      "source": [
        "# Alternation (Subsitusi)"
      ],
      "metadata": {
        "id": "OpvNsMNibJYk"
      }
    },
    {
      "cell_type": "code",
      "source": [
        "import re\n",
        "str = \"Course location is Jakarta or zurich\"\n",
        "mo = re.search(r\"location.*(Jakarta|Bandung|Strasbourg)\", str)\n",
        "if mo:print(mo.group())"
      ],
      "metadata": {
        "colab": {
          "base_uri": "https://localhost:8080/"
        },
        "id": "33I8Jin3bSmT",
        "outputId": "b1dcbd15-7bbe-455a-f0ff-3da85776f649"
      },
      "execution_count": null,
      "outputs": [
        {
          "output_type": "stream",
          "name": "stdout",
          "text": [
            "location is Jakarta\n"
          ]
        }
      ]
    },
    {
      "cell_type": "code",
      "source": [
        "import re\n",
        "\n",
        "text = \"Cuaca di Jakarta akan cerah. Di Bandung akan hujan. Starsbourg berawan\"\n",
        "\n",
        "# Mencari informasi cuaca untuk jakarta, Bandung atau starsbourg\n",
        "matches = re.findall(r\"(Jakarta|Bandung|Starsbourg) [a-zA-z]+\", text)\n",
        "\n",
        "if matches:\n",
        "  for match in matches:\n",
        "    print(f\"Informasi cuaca untuk: {match}\")\n",
        "    # Selanjutnya, Anda dapat melakukan sesuatu dengan informasi cuaca untuk setiap lota.\n",
        "\n",
        "else:\n",
        "  print(\"Tidak ada informasi cuaca untuk kota yg dicari.\")"
      ],
      "metadata": {
        "colab": {
          "base_uri": "https://localhost:8080/"
        },
        "id": "9jcnTAp7eYvz",
        "outputId": "b59853f7-3921-4456-f0e4-90d2b1af8d59"
      },
      "execution_count": null,
      "outputs": [
        {
          "output_type": "stream",
          "name": "stdout",
          "text": [
            "Informasi cuaca untuk: Jakarta\n",
            "Informasi cuaca untuk: Bandung\n",
            "Informasi cuaca untuk: Starsbourg\n"
          ]
        }
      ]
    },
    {
      "cell_type": "markdown",
      "source": [
        "jika anda menganggap contoh sebelumnya terlalu artifisial, ini satu lagi. mari kita asumsikan, anda ingin memfilter email anda. anda ingin menemukan semua korespondensi(percakapan) antara anda dan tutor myskill ekspresi reguler ekspresi berikut berguna untuk tujuan ini:\n",
        "r\"(^To:|From:)(Tutor|My.Skill)\""
      ],
      "metadata": {
        "id": "9jz4BUgOgXKf"
      }
    },
    {
      "cell_type": "markdown",
      "source": [
        "Ekpresi ini cocok dengan baris yg dimulai dengan \"To\" atau \"From\". diikuti dengan spasi dan kemudian dengan nama depan \"My\" atau nama belakang .\"MySkill\""
      ],
      "metadata": {
        "id": "MpqtzbxXd6I5"
      }
    },
    {
      "cell_type": "markdown",
      "source": [
        "# Spliting String dengan dan tanpa RegEx"
      ],
      "metadata": {
        "id": "epI3pZN_lV9Y"
      }
    },
    {
      "cell_type": "markdown",
      "source": [
        "# split tanpa Regex"
      ],
      "metadata": {
        "id": "jm5KakdPldj2"
      }
    },
    {
      "cell_type": "markdown",
      "source": [
        "str.split([sep[, maxsplit]])"
      ],
      "metadata": {
        "id": "yrtoNcOmmf0-"
      }
    },
    {
      "cell_type": "code",
      "source": [
        "law_courses = \"Let reverence for the laws be breathed by every American mother to the lisping babe that prattles on her lap. Let it be taught in schools, in seminaries, and in colleges. Let it be written in primers, spelling books, and in almanacs. Let it be preached from the pulpit, proclaimed in legislative halls, and enforced in the courts of justic . And, in short, let it become the political religion of the nation.\"\n",
        "law_courses.split()"
      ],
      "metadata": {
        "colab": {
          "base_uri": "https://localhost:8080/"
        },
        "id": "tjjpwHdvli86",
        "outputId": "bb810b31-a7d1-4da5-83fe-d6c7d536f69e"
      },
      "execution_count": null,
      "outputs": [
        {
          "output_type": "execute_result",
          "data": {
            "text/plain": [
              "['Let',\n",
              " 'reverence',\n",
              " 'for',\n",
              " 'the',\n",
              " 'laws',\n",
              " 'be',\n",
              " 'breathed',\n",
              " 'by',\n",
              " 'every',\n",
              " 'American',\n",
              " 'mother',\n",
              " 'to',\n",
              " 'the',\n",
              " 'lisping',\n",
              " 'babe',\n",
              " 'that',\n",
              " 'prattles',\n",
              " 'on',\n",
              " 'her',\n",
              " 'lap.',\n",
              " 'Let',\n",
              " 'it',\n",
              " 'be',\n",
              " 'taught',\n",
              " 'in',\n",
              " 'schools,',\n",
              " 'in',\n",
              " 'seminaries,',\n",
              " 'and',\n",
              " 'in',\n",
              " 'colleges.',\n",
              " 'Let',\n",
              " 'it',\n",
              " 'be',\n",
              " 'written',\n",
              " 'in',\n",
              " 'primers,',\n",
              " 'spelling',\n",
              " 'books,',\n",
              " 'and',\n",
              " 'in',\n",
              " 'almanacs.',\n",
              " 'Let',\n",
              " 'it',\n",
              " 'be',\n",
              " 'preached',\n",
              " 'from',\n",
              " 'the',\n",
              " 'pulpit,',\n",
              " 'proclaimed',\n",
              " 'in',\n",
              " 'legislative',\n",
              " 'halls,',\n",
              " 'and',\n",
              " 'enforced',\n",
              " 'in',\n",
              " 'the',\n",
              " 'courts',\n",
              " 'of',\n",
              " 'justic',\n",
              " '.',\n",
              " 'And,',\n",
              " 'in',\n",
              " 'short,',\n",
              " 'let',\n",
              " 'it',\n",
              " 'become',\n",
              " 'the',\n",
              " 'political',\n",
              " 'religion',\n",
              " 'of',\n",
              " 'the',\n",
              " 'nation.']"
            ]
          },
          "metadata": {},
          "execution_count": 12
        }
      ]
    },
    {
      "cell_type": "markdown",
      "source": [
        "**Sekarang** kita melihat string, yang dapat berasal dari file calc Excel atau OpenOffice. Kita telah melihat pada contoh sebelumnya bahwa split mengambil spasi putih sebagai pemisah default. kita ingin membagu string dalam contoh kecil berikut menggunakan titik koma sebagai pemisah. Satu-satunya hal yg harus kita lakukan adalah menggunakan \";\" sebagai argumen split():"
      ],
      "metadata": {
        "id": "4kzbU3B2n8Jl"
      }
    },
    {
      "cell_type": "code",
      "source": [
        "line = \"Aldi;Febri;Ryan\"\n",
        "line.split(\";\")"
      ],
      "metadata": {
        "colab": {
          "base_uri": "https://localhost:8080/"
        },
        "id": "mlx_zlhFo3fD",
        "outputId": "fb590fbd-d890-41ee-e3ab-418d14bd8172"
      },
      "execution_count": null,
      "outputs": [
        {
          "output_type": "execute_result",
          "data": {
            "text/plain": [
              "['Aldi', 'Febri', 'Ryan']"
            ]
          },
          "metadata": {},
          "execution_count": 14
        }
      ]
    },
    {
      "cell_type": "markdown",
      "source": [
        "Method split() memiliki parameter opsional lain: maxsplit. jika maxsplit diberikan, paling banyak maxsplit dilakukan. ini berarti daftar yang di hasilkan akan memiliki paling bnyk elemen \"maxsplit +1\" kita akan mengilustrasikan mode oprasi maxsplit dalam contoh berikut:"
      ],
      "metadata": {
        "id": "jDuensWAo23i"
      }
    },
    {
      "cell_type": "code",
      "source": [
        "mammom = \"The god of the world's leading religion. The chief temple is in the holy city of New York.\"\n",
        "mammom.split(\" \",4)"
      ],
      "metadata": {
        "colab": {
          "base_uri": "https://localhost:8080/"
        },
        "id": "jqlxelgsq10D",
        "outputId": "b5cf5b70-abd7-40ec-e7f6-a0e1672b173b"
      },
      "execution_count": null,
      "outputs": [
        {
          "output_type": "execute_result",
          "data": {
            "text/plain": [
              "['The',\n",
              " 'god',\n",
              " 'of',\n",
              " 'the',\n",
              " \"world's leading religion. The chief temple is in the holy city of New York.\"]"
            ]
          },
          "metadata": {},
          "execution_count": 18
        }
      ]
    },
    {
      "cell_type": "markdown",
      "source": [
        "Kita menggunaka Kosong sebagai string pembatas pada contoh sebelumnya , yang dapat menjadi masalah: jika beberapa kosong atau spasi terhubung, split() akan membagi string setelah setiap kosong, sehingga kita dapat mendapatkan string dan string kosong hanya dengan tab di dalam('\\t') dalam daftar hasil kita:"
      ],
      "metadata": {
        "id": "BJeMqB0ir5IP"
      }
    },
    {
      "cell_type": "code",
      "source": [
        "mammom = \"The god  \\t of the world's leading religion. The chief temple is in the holy city of New York.\"\n",
        "mammom.split(\" \", 5)"
      ],
      "metadata": {
        "colab": {
          "base_uri": "https://localhost:8080/"
        },
        "id": "hvYmoNI8shob",
        "outputId": "7cffe529-a3d8-4e8c-be24-957904017483"
      },
      "execution_count": null,
      "outputs": [
        {
          "output_type": "execute_result",
          "data": {
            "text/plain": [
              "['The',\n",
              " 'god',\n",
              " '',\n",
              " '\\t',\n",
              " 'of',\n",
              " \"the world's leading religion. The chief temple is in the holy city of New York.\"]"
            ]
          },
          "metadata": {},
          "execution_count": 23
        }
      ]
    },
    {
      "cell_type": "markdown",
      "source": [
        "Kita dapat mecegah pemisah string kosong dengan menggunakan None sebagai argumen pertama. Sekarang split akan menggunakan perilaku default, yaitu setiap substring yang terdiri dari krakter spasi putih yang terhubung akan di ambil sebagai satu pemisah:"
      ],
      "metadata": {
        "id": "95YZI_htuzd_"
      }
    },
    {
      "cell_type": "code",
      "source": [
        "mammom.split(None,5)"
      ],
      "metadata": {
        "colab": {
          "base_uri": "https://localhost:8080/"
        },
        "id": "ZFUHajVJvQep",
        "outputId": "f4325c33-c69e-465a-fd8a-54aeb740c290"
      },
      "execution_count": null,
      "outputs": [
        {
          "output_type": "execute_result",
          "data": {
            "text/plain": [
              "['The',\n",
              " 'god',\n",
              " 'of',\n",
              " 'the',\n",
              " \"world's\",\n",
              " 'leading religion. The chief temple is in the holy city of New York.']"
            ]
          },
          "metadata": {},
          "execution_count": 24
        }
      ]
    },
    {
      "cell_type": "markdown",
      "source": [
        "# Split dengan Regex"
      ],
      "metadata": {
        "id": "wBVNj-WDvVsO"
      }
    },
    {
      "cell_type": "markdown",
      "source": [
        "*Metode* string split() adalah alat yang tepat dalam banyak kasus, tetapi apa, jika anda mau, mis. untuk mendapatkan kata-kata kosong dari sebuah teks, yaitu tanpa krakter khusus dan spasi. jika kita menginginkan ini, kita harus menggunakan fungsi split dari model re. Kita mengilustrasikan metode ini dengan teks singkat dari awal Metamorphoses oleh Ovid:"
      ],
      "metadata": {
        "id": "xRcfDRxovcmL"
      }
    },
    {
      "cell_type": "code",
      "source": [
        "import re\n",
        "metanorphoses = \"OF bodies change'd to various forms, I sing: Ye Gods, from whom these mircales did spring, Inspire my numbers with colestial heat;\"\n",
        "re.split(\"\\W+\", metanorphoses)"
      ],
      "metadata": {
        "colab": {
          "base_uri": "https://localhost:8080/"
        },
        "id": "ML-2xChf09Dy",
        "outputId": "5cae8d3a-b494-40dc-88e0-82ad8c77c079"
      },
      "execution_count": null,
      "outputs": [
        {
          "output_type": "execute_result",
          "data": {
            "text/plain": [
              "['OF',\n",
              " 'bodies',\n",
              " 'change',\n",
              " 'd',\n",
              " 'to',\n",
              " 'various',\n",
              " 'forms',\n",
              " 'I',\n",
              " 'sing',\n",
              " 'Ye',\n",
              " 'Gods',\n",
              " 'from',\n",
              " 'whom',\n",
              " 'these',\n",
              " 'mircales',\n",
              " 'did',\n",
              " 'spring',\n",
              " 'Inspire',\n",
              " 'my',\n",
              " 'numbers',\n",
              " 'with',\n",
              " 'colestial',\n",
              " 'heat',\n",
              " '']"
            ]
          },
          "metadata": {},
          "execution_count": 25
        }
      ]
    },
    {
      "cell_type": "markdown",
      "source": [
        "Contoh berikut adalah kasus yang bagus, dimana ekspresi reguler benar-benar lebih unggul daripada pemisahan string. Mari kita asumsikan bahwa kita memiliki baris data dengan nama keluarga, nama depan, dan nama profesi. kita ingin menghapus baris data dari deskripsi teks yang berlebihan dan berlebihan, yaitu \"nama keluarga:\",\"nama depan:\" dan seterusnya, sehingga kita hanya memiliki nama keluarga di kolam pertama, nama pertama di kolam kedua dan profesi di kolam ketiga:"
      ],
      "metadata": {
        "id": "0v6FJwvQ2JrC"
      }
    },
    {
      "cell_type": "code",
      "source": [
        "import re\n",
        "lines = [\"surname: Nelson, prename: Mandela, profession: president\", \"surname: Marky, prename: Subarjo, profession: diplomat\"]\n",
        "for line in lines:\n",
        "    print(re.split(\",* *\\w*: \", line))"
      ],
      "metadata": {
        "colab": {
          "base_uri": "https://localhost:8080/"
        },
        "id": "6RLUODuM3COy",
        "outputId": "85798553-435c-4c4b-d29c-9431551e82bc"
      },
      "execution_count": null,
      "outputs": [
        {
          "output_type": "stream",
          "name": "stdout",
          "text": [
            "['', 'Nelson', 'Mandela', 'president']\n",
            "['', 'Marky', 'Subarjo', 'diplomat']\n"
          ]
        }
      ]
    },
    {
      "cell_type": "markdown",
      "source": [
        "Kita dapat dengan mudah meningkatkan skrip dengan menggunakan operator slice, sehingga kita tidak memiliki string kosong sebagai elemen pertama dari daftar hasil kita:"
      ],
      "metadata": {
        "id": "gbT90KjL49sh"
      }
    },
    {
      "cell_type": "code",
      "source": [
        "import re\n",
        "lines = [\"surname: Nelson, prename: Mandela, profession: president\", \"surname: Marky, prename: Subarjo, profession: diplomat\"]\n",
        "for line in lines:\n",
        "    print(re.split(\",* *\\w*: \", line)[1:])"
      ],
      "metadata": {
        "colab": {
          "base_uri": "https://localhost:8080/"
        },
        "id": "XLoqTDMZ4P6E",
        "outputId": "c69ddcc0-b4b8-4d27-e7dd-6cc98aa110ea"
      },
      "execution_count": null,
      "outputs": [
        {
          "output_type": "stream",
          "name": "stdout",
          "text": [
            "['Nelson', 'Mandela', 'president']\n",
            "['Marky', 'Subarjo', 'diplomat']\n"
          ]
        }
      ]
    },
    {
      "cell_type": "markdown",
      "source": [
        "Search dan Replace dengan sub()"
      ],
      "metadata": {
        "id": "TBaPi4ihlHb3"
      }
    },
    {
      "cell_type": "markdown",
      "source": [
        "re.sub(regex,replacement,subject)"
      ],
      "metadata": {
        "id": "11WHIMS4ldcT"
      }
    },
    {
      "cell_type": "code",
      "source": [
        "import re\n",
        "str = \"yes I sad yes I will yes\"\n",
        "res = re.sub(\"[Yy]es\",\"no\", str)\n",
        "print(res)"
      ],
      "metadata": {
        "colab": {
          "base_uri": "https://localhost:8080/"
        },
        "id": "DBhD7KRElntV",
        "outputId": "c3084207-ba39-4eb4-b383-4eeef36ca786"
      },
      "execution_count": 2,
      "outputs": [
        {
          "output_type": "stream",
          "name": "stdout",
          "text": [
            "no I sad no I will no\n"
          ]
        }
      ]
    }
  ]
}