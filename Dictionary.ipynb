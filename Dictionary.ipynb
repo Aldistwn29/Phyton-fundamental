{
  "nbformat": 4,
  "nbformat_minor": 0,
  "metadata": {
    "colab": {
      "provenance": [],
      "authorship_tag": "ABX9TyOnmCG1MiBOvbH0ydoRI+ah",
      "include_colab_link": true
    },
    "kernelspec": {
      "name": "python3",
      "display_name": "Python 3"
    },
    "language_info": {
      "name": "python"
    }
  },
  "cells": [
    {
      "cell_type": "markdown",
      "metadata": {
        "id": "view-in-github",
        "colab_type": "text"
      },
      "source": [
        "<a href=\"https://colab.research.google.com/github/Aldistwn29/Phyton-fundamental/blob/main/Dictionary.ipynb\" target=\"_parent\"><img src=\"https://colab.research.google.com/assets/colab-badge.svg\" alt=\"Open In Colab\"/></a>"
      ]
    },
    {
      "cell_type": "markdown",
      "source": [
        "# Defining Dictionary"
      ],
      "metadata": {
        "id": "OYmG9fLibjBN"
      }
    },
    {
      "cell_type": "code",
      "execution_count": 2,
      "metadata": {
        "colab": {
          "base_uri": "https://localhost:8080/"
        },
        "id": "aTzi9hd1bL9k",
        "outputId": "ae5a3ea8-b59d-4b2e-a3d6-bb2be9f7a927"
      },
      "outputs": [
        {
          "output_type": "stream",
          "name": "stdout",
          "text": [
            "{'a': 1, 'b': 2, 'c': 3}\n"
          ]
        }
      ],
      "source": [
        "dicts = {'a':1,'b':2,'c':3}\n",
        "print(dicts)"
      ]
    },
    {
      "cell_type": "code",
      "source": [
        "football_team = dict([\n",
        "    ('Manchester','Manchester United'),\n",
        "    ('London','Chelsea'),\n",
        "    ('Leeds','Leeds United'),\n",
        "    ('Newcastle Upon Tyne','Newcastle United')\n",
        "])\n",
        "print(football_team)"
      ],
      "metadata": {
        "colab": {
          "base_uri": "https://localhost:8080/"
        },
        "id": "ypRLKedRb23N",
        "outputId": "1c1a2f14-8a9d-4e98-a20b-bdd95cde305d"
      },
      "execution_count": 8,
      "outputs": [
        {
          "output_type": "stream",
          "name": "stdout",
          "text": [
            "{'Manchester': 'Manchester United', 'London': 'Chelsea', 'Leeds': 'Leeds United', 'Newcastle Upon Tyne': 'Newcastle united'}\n"
          ]
        }
      ]
    },
    {
      "cell_type": "code",
      "source": [
        "football_team = dict(\n",
        "    Manchester='Manchester United',\n",
        "    London='Chelsea',\n",
        "    Leeds='Leeds United',\n",
        "    NewcastleUT='Newcastle United'\n",
        ")\n",
        "print(football_team)"
      ],
      "metadata": {
        "colab": {
          "base_uri": "https://localhost:8080/"
        },
        "id": "epxpVTVkhK7D",
        "outputId": "ff96dbc2-691d-4f0f-a5b7-9b2d754e4dfe"
      },
      "execution_count": 26,
      "outputs": [
        {
          "output_type": "stream",
          "name": "stdout",
          "text": [
            "{'Manchester': 'Manchester United', 'London': 'Chelsea', 'Leeds': 'Leeds United', 'NewcastleUT': 'Newcastle United'}\n"
          ]
        }
      ]
    },
    {
      "cell_type": "markdown",
      "source": [
        "# Accessing Dictionary"
      ],
      "metadata": {
        "id": "k0yM3ikVjGTT"
      }
    },
    {
      "cell_type": "code",
      "source": [
        "football_team[2]"
      ],
      "metadata": {
        "colab": {
          "base_uri": "https://localhost:8080/",
          "height": 176
        },
        "id": "_IF7RwUxjOSJ",
        "outputId": "dc91caf1-e717-4958-be92-5043decb8a81"
      },
      "execution_count": 12,
      "outputs": [
        {
          "output_type": "error",
          "ename": "KeyError",
          "evalue": "ignored",
          "traceback": [
            "\u001b[0;31m---------------------------------------------------------------------------\u001b[0m",
            "\u001b[0;31mKeyError\u001b[0m                                  Traceback (most recent call last)",
            "\u001b[0;32m<ipython-input-12-49dc7ad811a1>\u001b[0m in \u001b[0;36m<cell line: 1>\u001b[0;34m()\u001b[0m\n\u001b[0;32m----> 1\u001b[0;31m \u001b[0mfootball_team\u001b[0m\u001b[0;34m[\u001b[0m\u001b[0;36m2\u001b[0m\u001b[0;34m]\u001b[0m\u001b[0;34m\u001b[0m\u001b[0;34m\u001b[0m\u001b[0m\n\u001b[0m",
            "\u001b[0;31mKeyError\u001b[0m: 2"
          ]
        }
      ]
    },
    {
      "cell_type": "markdown",
      "source": [
        "access by square bracket[]"
      ],
      "metadata": {
        "id": "XnNb16KRjXnZ"
      }
    },
    {
      "cell_type": "code",
      "source": [
        "print(football_team['Manchester'])"
      ],
      "metadata": {
        "colab": {
          "base_uri": "https://localhost:8080/"
        },
        "id": "UZezgI1QjqHP",
        "outputId": "56bd82e0-50fa-46e3-9406-501bba894732"
      },
      "execution_count": 13,
      "outputs": [
        {
          "output_type": "stream",
          "name": "stdout",
          "text": [
            "Manchester United\n"
          ]
        }
      ]
    },
    {
      "cell_type": "markdown",
      "source": [
        "jika anda merujuk ke key yg tidak ada dalam dictionery.python memunculkan exception"
      ],
      "metadata": {
        "id": "gJZJoBvfkAdg"
      }
    },
    {
      "cell_type": "code",
      "source": [
        "print(football_team['Liverpool'])"
      ],
      "metadata": {
        "colab": {
          "base_uri": "https://localhost:8080/",
          "height": 176
        },
        "id": "P4iYBh-nktcY",
        "outputId": "0de623b8-179b-4472-8d27-4cd000791dba"
      },
      "execution_count": 15,
      "outputs": [
        {
          "output_type": "error",
          "ename": "KeyError",
          "evalue": "ignored",
          "traceback": [
            "\u001b[0;31m---------------------------------------------------------------------------\u001b[0m",
            "\u001b[0;31mKeyError\u001b[0m                                  Traceback (most recent call last)",
            "\u001b[0;32m<ipython-input-15-cfe33c6510b4>\u001b[0m in \u001b[0;36m<cell line: 1>\u001b[0;34m()\u001b[0m\n\u001b[0;32m----> 1\u001b[0;31m \u001b[0mprint\u001b[0m\u001b[0;34m(\u001b[0m\u001b[0mfootball_team\u001b[0m\u001b[0;34m[\u001b[0m\u001b[0;34m'Liverpool'\u001b[0m\u001b[0;34m]\u001b[0m\u001b[0;34m)\u001b[0m\u001b[0;34m\u001b[0m\u001b[0;34m\u001b[0m\u001b[0m\n\u001b[0m",
            "\u001b[0;31mKeyError\u001b[0m: 'Liverpool'"
          ]
        }
      ]
    },
    {
      "cell_type": "markdown",
      "source": [
        "adding new entry"
      ],
      "metadata": {
        "id": "lN0KA8Dkk_Dd"
      }
    },
    {
      "cell_type": "code",
      "source": [
        "football_team['Licester'] = 'Licester City'\n",
        "print(football_team)\n",
        "football_team ['London'] = 'Arsenal'\n",
        "print(football_team)"
      ],
      "metadata": {
        "colab": {
          "base_uri": "https://localhost:8080/"
        },
        "id": "jQyG9B-qk9JH",
        "outputId": "b21481a8-e5cf-49cf-cae2-0f4d78fbd018"
      },
      "execution_count": 27,
      "outputs": [
        {
          "output_type": "stream",
          "name": "stdout",
          "text": [
            "{'Manchester': 'Manchester United', 'London': 'Chelsea', 'Leeds': 'Leeds United', 'NewcastleUT': 'Newcastle United', 'Licester': 'Licester City'}\n",
            "{'Manchester': 'Manchester United', 'London': 'Arsenal', 'Leeds': 'Leeds United', 'NewcastleUT': 'Newcastle United', 'Licester': 'Licester City'}\n"
          ]
        }
      ]
    },
    {
      "cell_type": "markdown",
      "source": [
        "delete enty using del"
      ],
      "metadata": {
        "id": "YmO3sFDTmMwL"
      }
    },
    {
      "cell_type": "code",
      "source": [
        "del football_team['NewcastleUT']\n",
        "print(football_team)"
      ],
      "metadata": {
        "colab": {
          "base_uri": "https://localhost:8080/"
        },
        "id": "hrG3yHz0nH0P",
        "outputId": "257a444e-f55f-417b-c032-be1d1f6926d8"
      },
      "execution_count": 28,
      "outputs": [
        {
          "output_type": "stream",
          "name": "stdout",
          "text": [
            "{'Manchester': 'Manchester United', 'London': 'Arsenal', 'Leeds': 'Leeds United', 'Licester': 'Licester City'}\n"
          ]
        }
      ]
    },
    {
      "cell_type": "markdown",
      "source": [
        "# Dictionary key vs List Indexing"
      ],
      "metadata": {
        "id": "3-srqOdJqE0r"
      }
    },
    {
      "cell_type": "code",
      "source": [
        "football_team['NescastleUT']"
      ],
      "metadata": {
        "colab": {
          "base_uri": "https://localhost:8080/",
          "height": 176
        },
        "id": "Qw5KGve0qEV7",
        "outputId": "c21b926c-7812-4783-ce7f-fb4e78ef3362"
      },
      "execution_count": 29,
      "outputs": [
        {
          "output_type": "error",
          "ename": "KeyError",
          "evalue": "ignored",
          "traceback": [
            "\u001b[0;31m---------------------------------------------------------------------------\u001b[0m",
            "\u001b[0;31mKeyError\u001b[0m                                  Traceback (most recent call last)",
            "\u001b[0;32m<ipython-input-29-2d3bd1639792>\u001b[0m in \u001b[0;36m<cell line: 1>\u001b[0;34m()\u001b[0m\n\u001b[0;32m----> 1\u001b[0;31m \u001b[0mfootball_team\u001b[0m\u001b[0;34m[\u001b[0m\u001b[0;34m'NescastleUT'\u001b[0m\u001b[0;34m]\u001b[0m\u001b[0;34m\u001b[0m\u001b[0;34m\u001b[0m\u001b[0m\n\u001b[0m",
            "\u001b[0;31mKeyError\u001b[0m: 'NescastleUT'"
          ]
        }
      ]
    },
    {
      "cell_type": "code",
      "source": [
        "football_team[2]"
      ],
      "metadata": {
        "colab": {
          "base_uri": "https://localhost:8080/",
          "height": 176
        },
        "id": "J78TbKaJqZsG",
        "outputId": "346b459a-2c91-4584-fd22-16236bda9f9d"
      },
      "execution_count": 30,
      "outputs": [
        {
          "output_type": "error",
          "ename": "KeyError",
          "evalue": "ignored",
          "traceback": [
            "\u001b[0;31m---------------------------------------------------------------------------\u001b[0m",
            "\u001b[0;31mKeyError\u001b[0m                                  Traceback (most recent call last)",
            "\u001b[0;32m<ipython-input-30-49dc7ad811a1>\u001b[0m in \u001b[0;36m<cell line: 1>\u001b[0;34m()\u001b[0m\n\u001b[0;32m----> 1\u001b[0;31m \u001b[0mfootball_team\u001b[0m\u001b[0;34m[\u001b[0m\u001b[0;36m2\u001b[0m\u001b[0;34m]\u001b[0m\u001b[0;34m\u001b[0m\u001b[0;34m\u001b[0m\u001b[0m\n\u001b[0m",
            "\u001b[0;31mKeyError\u001b[0m: 2"
          ]
        }
      ]
    },
    {
      "cell_type": "markdown",
      "source": [
        "Faktanya itu adalah kesalahan yang sama. Dalam kasus terakhir [2] terlihat seperti index numerik. tetapi tidak anda akan melihat tutorial ini bahwa objek dari jenis apapun yg tidak dapat di ubah dapat di gunakan sebagai kunci dictionary. oleh karena itu tidak ada alasan anda tidak menggunakan bilangan bulat"
      ],
      "metadata": {
        "id": "GemgADy8qe-B"
      }
    },
    {
      "cell_type": "code",
      "source": [
        "f ={0:'a', 1:'l', 3:'i', 2:'d'}\n",
        "print(f)\n",
        "print(f[3])\n",
        "print(f[2])\n",
        "print(f[0])"
      ],
      "metadata": {
        "colab": {
          "base_uri": "https://localhost:8080/"
        },
        "id": "-XDhRiGSrov1",
        "outputId": "3c4d263a-6af0-47a8-ba01-da0f891bbbb5"
      },
      "execution_count": 41,
      "outputs": [
        {
          "output_type": "stream",
          "name": "stdout",
          "text": [
            "{0: 'a', 1: 'l', 3: 'i', 2: 'd'}\n",
            "i\n",
            "d\n",
            "a\n"
          ]
        }
      ]
    },
    {
      "cell_type": "markdown",
      "source": [
        "dalam ekpresi football_team[2] dan f[2] angka-angka dalam kurung siku tampak seperti index. tetapi mereka tidak ada hubungannya dengan urutan item dalam dictionary. python menafsirkannya sebagai kunci dictionary. jika anda menafsirkan dict yg sama ini dalam urutan terbalik. anda masih mendapatkan nilai yg sama menggunakan kunci yg sama."
      ],
      "metadata": {
        "id": "55xrDZUZt9Mq"
      }
    },
    {
      "cell_type": "code",
      "source": [
        "f ={0:'a', 1:'l', 3:'i', 2:'d'}\n",
        "\n",
        "print(f[0])\n",
        "print(f[2])"
      ],
      "metadata": {
        "colab": {
          "base_uri": "https://localhost:8080/"
        },
        "id": "IjJOedTJvaLM",
        "outputId": "33869528-45ab-45f0-918b-8a02f486f6da"
      },
      "execution_count": 43,
      "outputs": [
        {
          "output_type": "stream",
          "name": "stdout",
          "text": [
            "a\n",
            "d\n"
          ]
        }
      ]
    },
    {
      "cell_type": "markdown",
      "source": [
        "# Building a Dictonary incrementally"
      ],
      "metadata": {
        "id": "dUWmFFvfxeFk"
      }
    },
    {
      "cell_type": "code",
      "source": [
        "person = {}\n",
        "type(person)\n",
        "\n",
        "person['fname'] = 'Aldi'\n",
        "person['lname'] = 'Leonardo da pisa'\n",
        "person['age'] = 20\n",
        "person['spouse'] = 'None'\n",
        "person['children'] = ['Khadaffi', 'Asika', 'Ibrahim']\n",
        "person['pats'] = {'dog':'Blacking', 'cat':'Ketty'}"
      ],
      "metadata": {
        "id": "qX1hT_dsvg5U"
      },
      "execution_count": 69,
      "outputs": []
    },
    {
      "cell_type": "code",
      "source": [
        "print(person)\n",
        "\n",
        "print(person['fname'])\n",
        "print(person['age'])\n",
        "print(person['children'])"
      ],
      "metadata": {
        "colab": {
          "base_uri": "https://localhost:8080/"
        },
        "id": "sC8b6eB61n15",
        "outputId": "82a21fd5-c2b7-478e-b6b6-4e91bd189ce8"
      },
      "execution_count": 70,
      "outputs": [
        {
          "output_type": "stream",
          "name": "stdout",
          "text": [
            "{'fname': 'Aldi', 'lname': 'Leonardo da pisa', 'age': 20, 'spouse': 'None', 'children': ['Khadaffi', 'Asika', 'Ibrahim'], 'pats': {'dog': 'Blacking', 'cat': 'Ketty'}}\n",
            "Aldi\n",
            "20\n",
            "['Khadaffi', 'Asika', 'Ibrahim']\n"
          ]
        }
      ]
    },
    {
      "cell_type": "markdown",
      "source": [
        "mengambil velue dalam sublist/subdictionery menggunakan indeks atau keys tambahan"
      ],
      "metadata": {
        "id": "iNj4DtnW2rVs"
      }
    },
    {
      "cell_type": "code",
      "source": [
        "print(person['children'][0])\n",
        "print(person['children'][-1])\n",
        "print(person['pats']['dog'])"
      ],
      "metadata": {
        "colab": {
          "base_uri": "https://localhost:8080/"
        },
        "id": "51-AGZrg33qC",
        "outputId": "1f520633-1656-4332-86bc-0d5e85f33fa9"
      },
      "execution_count": 71,
      "outputs": [
        {
          "output_type": "stream",
          "name": "stdout",
          "text": [
            "Khadaffi\n",
            "Ibrahim\n",
            "Blacking\n"
          ]
        }
      ]
    },
    {
      "cell_type": "markdown",
      "source": [
        "contoh ini menunjukan bahwasannya fitur lain dalam dict: nilai yg terkandung dalam dict tidak harus bertipe sama. contoh beberapa nilai adalah str, satu adalah bilangan bulat, satu lagi adalah bilangan daftar, dan satu lagi adalah dict. sama seperti nilai pada dict tidak perlu sama dan kuncinya juga harus berbeda."
      ],
      "metadata": {
        "id": "XOYLO2bp7wIK"
      }
    },
    {
      "cell_type": "code",
      "source": [
        "hoo = {29:'aaa', 3.33:'bbb', True:\"iii\"}\n",
        "print(hoo)\n",
        "\n",
        "print(hoo[29])\n",
        "print(hoo[3.33])\n",
        "print(hoo[True])"
      ],
      "metadata": {
        "colab": {
          "base_uri": "https://localhost:8080/"
        },
        "id": "hpHL1lr08u0b",
        "outputId": "4268eb2c-ae2e-448f-caff-6bb95f3d79ba"
      },
      "execution_count": 77,
      "outputs": [
        {
          "output_type": "stream",
          "name": "stdout",
          "text": [
            "{29: 'aaa', 3.33: 'bbb', True: 'iii'}\n",
            "aaa\n",
            "bbb\n",
            "iii\n"
          ]
        }
      ]
    },
    {
      "cell_type": "markdown",
      "source": [
        "disini, salah satu kuncinya adalah bilangan bulat, Float, dan boolean. tidak di jelasakan bahwa itu bagaimana berguna.\n",
        "perhatikan betapa serba gunanya dict di python, seperti football_team yg dimana dalam di dalam variabel tersebut menginformasikan yg sama(nama time sepak  bola) disimpan untuk masing-masing dari beberapa lokasi geografis yg berbeda, di sisi lain, menyimpan berbagai jenis data untuk satu orang.\n",
        "anda juga dapat menggunakan dict untuk berbgai tujuan karena hanya ada sedikit batasan pada kunci dan nilai yg di izinkan."
      ],
      "metadata": {
        "id": "IF8oTBm19oXQ"
      }
    },
    {
      "cell_type": "markdown",
      "source": [
        "# Bagian Baru"
      ],
      "metadata": {
        "id": "WhqRiXzm9oFl"
      }
    }
  ]
}