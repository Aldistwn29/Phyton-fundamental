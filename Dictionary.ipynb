{
  "nbformat": 4,
  "nbformat_minor": 0,
  "metadata": {
    "colab": {
      "provenance": [],
      "authorship_tag": "ABX9TyM3/I6fJK0YCHIXG6BXw0BX",
      "include_colab_link": true
    },
    "kernelspec": {
      "name": "python3",
      "display_name": "Python 3"
    },
    "language_info": {
      "name": "python"
    }
  },
  "cells": [
    {
      "cell_type": "markdown",
      "metadata": {
        "id": "view-in-github",
        "colab_type": "text"
      },
      "source": [
        "<a href=\"https://colab.research.google.com/github/Aldistwn29/Phyton-fundamental/blob/main/Dictionary.ipynb\" target=\"_parent\"><img src=\"https://colab.research.google.com/assets/colab-badge.svg\" alt=\"Open In Colab\"/></a>"
      ]
    },
    {
      "cell_type": "markdown",
      "source": [
        "# Defining Dictionary"
      ],
      "metadata": {
        "id": "OYmG9fLibjBN"
      }
    },
    {
      "cell_type": "code",
      "execution_count": null,
      "metadata": {
        "colab": {
          "base_uri": "https://localhost:8080/"
        },
        "id": "aTzi9hd1bL9k",
        "outputId": "ae5a3ea8-b59d-4b2e-a3d6-bb2be9f7a927"
      },
      "outputs": [
        {
          "output_type": "stream",
          "name": "stdout",
          "text": [
            "{'a': 1, 'b': 2, 'c': 3}\n"
          ]
        }
      ],
      "source": [
        "dicts = {'a':1,'b':2,'c':3}\n",
        "print(dicts)"
      ]
    },
    {
      "cell_type": "code",
      "source": [
        "football_team = dict([\n",
        "    ('Manchester','Manchester United'),\n",
        "    ('London','Chelsea'),\n",
        "    ('Leeds','Leeds United'),\n",
        "    ('Newcastle Upon Tyne','Newcastle United')\n",
        "])\n",
        "print(football_team)"
      ],
      "metadata": {
        "colab": {
          "base_uri": "https://localhost:8080/"
        },
        "id": "ypRLKedRb23N",
        "outputId": "1c1a2f14-8a9d-4e98-a20b-bdd95cde305d"
      },
      "execution_count": null,
      "outputs": [
        {
          "output_type": "stream",
          "name": "stdout",
          "text": [
            "{'Manchester': 'Manchester United', 'London': 'Chelsea', 'Leeds': 'Leeds United', 'Newcastle Upon Tyne': 'Newcastle united'}\n"
          ]
        }
      ]
    },
    {
      "cell_type": "code",
      "source": [
        "football_team = dict(\n",
        "    Manchester='Manchester United',\n",
        "    London='Chelsea',\n",
        "    Leeds='Leeds United',\n",
        "    NewcastleUT='Newcastle United'\n",
        ")\n",
        "print(football_team)"
      ],
      "metadata": {
        "colab": {
          "base_uri": "https://localhost:8080/"
        },
        "id": "epxpVTVkhK7D",
        "outputId": "ff96dbc2-691d-4f0f-a5b7-9b2d754e4dfe"
      },
      "execution_count": null,
      "outputs": [
        {
          "output_type": "stream",
          "name": "stdout",
          "text": [
            "{'Manchester': 'Manchester United', 'London': 'Chelsea', 'Leeds': 'Leeds United', 'NewcastleUT': 'Newcastle United'}\n"
          ]
        }
      ]
    },
    {
      "cell_type": "markdown",
      "source": [
        "# Accessing Dictionary"
      ],
      "metadata": {
        "id": "k0yM3ikVjGTT"
      }
    },
    {
      "cell_type": "code",
      "source": [
        "football_team[2]"
      ],
      "metadata": {
        "colab": {
          "base_uri": "https://localhost:8080/",
          "height": 176
        },
        "id": "_IF7RwUxjOSJ",
        "outputId": "dc91caf1-e717-4958-be92-5043decb8a81"
      },
      "execution_count": null,
      "outputs": [
        {
          "output_type": "error",
          "ename": "KeyError",
          "evalue": "ignored",
          "traceback": [
            "\u001b[0;31m---------------------------------------------------------------------------\u001b[0m",
            "\u001b[0;31mKeyError\u001b[0m                                  Traceback (most recent call last)",
            "\u001b[0;32m<ipython-input-12-49dc7ad811a1>\u001b[0m in \u001b[0;36m<cell line: 1>\u001b[0;34m()\u001b[0m\n\u001b[0;32m----> 1\u001b[0;31m \u001b[0mfootball_team\u001b[0m\u001b[0;34m[\u001b[0m\u001b[0;36m2\u001b[0m\u001b[0;34m]\u001b[0m\u001b[0;34m\u001b[0m\u001b[0;34m\u001b[0m\u001b[0m\n\u001b[0m",
            "\u001b[0;31mKeyError\u001b[0m: 2"
          ]
        }
      ]
    },
    {
      "cell_type": "markdown",
      "source": [
        "access by square bracket[]"
      ],
      "metadata": {
        "id": "XnNb16KRjXnZ"
      }
    },
    {
      "cell_type": "code",
      "source": [
        "print(football_team['Manchester'])"
      ],
      "metadata": {
        "colab": {
          "base_uri": "https://localhost:8080/"
        },
        "id": "UZezgI1QjqHP",
        "outputId": "56bd82e0-50fa-46e3-9406-501bba894732"
      },
      "execution_count": null,
      "outputs": [
        {
          "output_type": "stream",
          "name": "stdout",
          "text": [
            "Manchester United\n"
          ]
        }
      ]
    },
    {
      "cell_type": "markdown",
      "source": [
        "jika anda merujuk ke key yg tidak ada dalam dictionery.python memunculkan exception"
      ],
      "metadata": {
        "id": "gJZJoBvfkAdg"
      }
    },
    {
      "cell_type": "code",
      "source": [
        "print(football_team['Liverpool'])"
      ],
      "metadata": {
        "colab": {
          "base_uri": "https://localhost:8080/",
          "height": 176
        },
        "id": "P4iYBh-nktcY",
        "outputId": "0de623b8-179b-4472-8d27-4cd000791dba"
      },
      "execution_count": null,
      "outputs": [
        {
          "output_type": "error",
          "ename": "KeyError",
          "evalue": "ignored",
          "traceback": [
            "\u001b[0;31m---------------------------------------------------------------------------\u001b[0m",
            "\u001b[0;31mKeyError\u001b[0m                                  Traceback (most recent call last)",
            "\u001b[0;32m<ipython-input-15-cfe33c6510b4>\u001b[0m in \u001b[0;36m<cell line: 1>\u001b[0;34m()\u001b[0m\n\u001b[0;32m----> 1\u001b[0;31m \u001b[0mprint\u001b[0m\u001b[0;34m(\u001b[0m\u001b[0mfootball_team\u001b[0m\u001b[0;34m[\u001b[0m\u001b[0;34m'Liverpool'\u001b[0m\u001b[0;34m]\u001b[0m\u001b[0;34m)\u001b[0m\u001b[0;34m\u001b[0m\u001b[0;34m\u001b[0m\u001b[0m\n\u001b[0m",
            "\u001b[0;31mKeyError\u001b[0m: 'Liverpool'"
          ]
        }
      ]
    },
    {
      "cell_type": "markdown",
      "source": [
        "adding new entry"
      ],
      "metadata": {
        "id": "lN0KA8Dkk_Dd"
      }
    },
    {
      "cell_type": "code",
      "source": [
        "football_team['Licester'] = 'Licester City'\n",
        "print(football_team)\n",
        "football_team ['London'] = 'Arsenal'\n",
        "print(football_team)"
      ],
      "metadata": {
        "colab": {
          "base_uri": "https://localhost:8080/"
        },
        "id": "jQyG9B-qk9JH",
        "outputId": "b21481a8-e5cf-49cf-cae2-0f4d78fbd018"
      },
      "execution_count": null,
      "outputs": [
        {
          "output_type": "stream",
          "name": "stdout",
          "text": [
            "{'Manchester': 'Manchester United', 'London': 'Chelsea', 'Leeds': 'Leeds United', 'NewcastleUT': 'Newcastle United', 'Licester': 'Licester City'}\n",
            "{'Manchester': 'Manchester United', 'London': 'Arsenal', 'Leeds': 'Leeds United', 'NewcastleUT': 'Newcastle United', 'Licester': 'Licester City'}\n"
          ]
        }
      ]
    },
    {
      "cell_type": "markdown",
      "source": [
        "delete enty using del"
      ],
      "metadata": {
        "id": "YmO3sFDTmMwL"
      }
    },
    {
      "cell_type": "code",
      "source": [
        "del football_team['NewcastleUT']\n",
        "print(football_team)"
      ],
      "metadata": {
        "colab": {
          "base_uri": "https://localhost:8080/"
        },
        "id": "hrG3yHz0nH0P",
        "outputId": "257a444e-f55f-417b-c032-be1d1f6926d8"
      },
      "execution_count": null,
      "outputs": [
        {
          "output_type": "stream",
          "name": "stdout",
          "text": [
            "{'Manchester': 'Manchester United', 'London': 'Arsenal', 'Leeds': 'Leeds United', 'Licester': 'Licester City'}\n"
          ]
        }
      ]
    },
    {
      "cell_type": "markdown",
      "source": [
        "# Dictionary key vs List Indexing"
      ],
      "metadata": {
        "id": "3-srqOdJqE0r"
      }
    },
    {
      "cell_type": "code",
      "source": [
        "football_team['NescastleUT']"
      ],
      "metadata": {
        "colab": {
          "base_uri": "https://localhost:8080/",
          "height": 176
        },
        "id": "Qw5KGve0qEV7",
        "outputId": "c21b926c-7812-4783-ce7f-fb4e78ef3362"
      },
      "execution_count": null,
      "outputs": [
        {
          "output_type": "error",
          "ename": "KeyError",
          "evalue": "ignored",
          "traceback": [
            "\u001b[0;31m---------------------------------------------------------------------------\u001b[0m",
            "\u001b[0;31mKeyError\u001b[0m                                  Traceback (most recent call last)",
            "\u001b[0;32m<ipython-input-29-2d3bd1639792>\u001b[0m in \u001b[0;36m<cell line: 1>\u001b[0;34m()\u001b[0m\n\u001b[0;32m----> 1\u001b[0;31m \u001b[0mfootball_team\u001b[0m\u001b[0;34m[\u001b[0m\u001b[0;34m'NescastleUT'\u001b[0m\u001b[0;34m]\u001b[0m\u001b[0;34m\u001b[0m\u001b[0;34m\u001b[0m\u001b[0m\n\u001b[0m",
            "\u001b[0;31mKeyError\u001b[0m: 'NescastleUT'"
          ]
        }
      ]
    },
    {
      "cell_type": "code",
      "source": [
        "football_team[2]"
      ],
      "metadata": {
        "colab": {
          "base_uri": "https://localhost:8080/",
          "height": 176
        },
        "id": "J78TbKaJqZsG",
        "outputId": "346b459a-2c91-4584-fd22-16236bda9f9d"
      },
      "execution_count": null,
      "outputs": [
        {
          "output_type": "error",
          "ename": "KeyError",
          "evalue": "ignored",
          "traceback": [
            "\u001b[0;31m---------------------------------------------------------------------------\u001b[0m",
            "\u001b[0;31mKeyError\u001b[0m                                  Traceback (most recent call last)",
            "\u001b[0;32m<ipython-input-30-49dc7ad811a1>\u001b[0m in \u001b[0;36m<cell line: 1>\u001b[0;34m()\u001b[0m\n\u001b[0;32m----> 1\u001b[0;31m \u001b[0mfootball_team\u001b[0m\u001b[0;34m[\u001b[0m\u001b[0;36m2\u001b[0m\u001b[0;34m]\u001b[0m\u001b[0;34m\u001b[0m\u001b[0;34m\u001b[0m\u001b[0m\n\u001b[0m",
            "\u001b[0;31mKeyError\u001b[0m: 2"
          ]
        }
      ]
    },
    {
      "cell_type": "markdown",
      "source": [
        "Faktanya itu adalah kesalahan yang sama. Dalam kasus terakhir [2] terlihat seperti index numerik. tetapi tidak anda akan melihat tutorial ini bahwa objek dari jenis apapun yg tidak dapat di ubah dapat di gunakan sebagai kunci dictionary. oleh karena itu tidak ada alasan anda tidak menggunakan bilangan bulat"
      ],
      "metadata": {
        "id": "GemgADy8qe-B"
      }
    },
    {
      "cell_type": "code",
      "source": [
        "f ={0:'a', 1:'l', 3:'i', 2:'d'}\n",
        "print(f)\n",
        "print(f[3])\n",
        "print(f[2])\n",
        "print(f[0])"
      ],
      "metadata": {
        "colab": {
          "base_uri": "https://localhost:8080/"
        },
        "id": "-XDhRiGSrov1",
        "outputId": "3c4d263a-6af0-47a8-ba01-da0f891bbbb5"
      },
      "execution_count": null,
      "outputs": [
        {
          "output_type": "stream",
          "name": "stdout",
          "text": [
            "{0: 'a', 1: 'l', 3: 'i', 2: 'd'}\n",
            "i\n",
            "d\n",
            "a\n"
          ]
        }
      ]
    },
    {
      "cell_type": "markdown",
      "source": [
        "dalam ekpresi football_team[2] dan f[2] angka-angka dalam kurung siku tampak seperti index. tetapi mereka tidak ada hubungannya dengan urutan item dalam dictionary. python menafsirkannya sebagai kunci dictionary. jika anda menafsirkan dict yg sama ini dalam urutan terbalik. anda masih mendapatkan nilai yg sama menggunakan kunci yg sama."
      ],
      "metadata": {
        "id": "55xrDZUZt9Mq"
      }
    },
    {
      "cell_type": "code",
      "source": [
        "f ={0:'a', 1:'l', 3:'i', 2:'d'}\n",
        "\n",
        "print(f[0])\n",
        "print(f[2])"
      ],
      "metadata": {
        "colab": {
          "base_uri": "https://localhost:8080/"
        },
        "id": "IjJOedTJvaLM",
        "outputId": "33869528-45ab-45f0-918b-8a02f486f6da"
      },
      "execution_count": null,
      "outputs": [
        {
          "output_type": "stream",
          "name": "stdout",
          "text": [
            "a\n",
            "d\n"
          ]
        }
      ]
    },
    {
      "cell_type": "markdown",
      "source": [
        "# Building a Dictonary incrementally"
      ],
      "metadata": {
        "id": "dUWmFFvfxeFk"
      }
    },
    {
      "cell_type": "code",
      "source": [
        "person = {}\n",
        "type(person)\n",
        "\n",
        "person['fname'] = 'Aldi'\n",
        "person['lname'] = 'Leonardo da pisa'\n",
        "person['age'] = 20\n",
        "person['spouse'] = 'None'\n",
        "person['children'] = ['Khadaffi', 'Asika', 'Ibrahim']\n",
        "person['pats'] = {'dog':'Blacking', 'cat':'Ketty'}"
      ],
      "metadata": {
        "id": "qX1hT_dsvg5U"
      },
      "execution_count": null,
      "outputs": []
    },
    {
      "cell_type": "code",
      "source": [
        "print(person)\n",
        "\n",
        "print(person['fname'])\n",
        "print(person['age'])\n",
        "print(person['children'])"
      ],
      "metadata": {
        "colab": {
          "base_uri": "https://localhost:8080/"
        },
        "id": "sC8b6eB61n15",
        "outputId": "82a21fd5-c2b7-478e-b6b6-4e91bd189ce8"
      },
      "execution_count": null,
      "outputs": [
        {
          "output_type": "stream",
          "name": "stdout",
          "text": [
            "{'fname': 'Aldi', 'lname': 'Leonardo da pisa', 'age': 20, 'spouse': 'None', 'children': ['Khadaffi', 'Asika', 'Ibrahim'], 'pats': {'dog': 'Blacking', 'cat': 'Ketty'}}\n",
            "Aldi\n",
            "20\n",
            "['Khadaffi', 'Asika', 'Ibrahim']\n"
          ]
        }
      ]
    },
    {
      "cell_type": "markdown",
      "source": [
        "mengambil velue dalam sublist/subdictionery menggunakan indeks atau keys tambahan"
      ],
      "metadata": {
        "id": "iNj4DtnW2rVs"
      }
    },
    {
      "cell_type": "code",
      "source": [
        "print(person['children'][0])\n",
        "print(person['children'][-1])\n",
        "print(person['pats']['dog'])"
      ],
      "metadata": {
        "colab": {
          "base_uri": "https://localhost:8080/"
        },
        "id": "51-AGZrg33qC",
        "outputId": "1f520633-1656-4332-86bc-0d5e85f33fa9"
      },
      "execution_count": null,
      "outputs": [
        {
          "output_type": "stream",
          "name": "stdout",
          "text": [
            "Khadaffi\n",
            "Ibrahim\n",
            "Blacking\n"
          ]
        }
      ]
    },
    {
      "cell_type": "markdown",
      "source": [
        "contoh ini menunjukan bahwasannya fitur lain dalam dict: nilai yg terkandung dalam dict tidak harus bertipe sama. contoh beberapa nilai adalah str, satu adalah bilangan bulat, satu lagi adalah bilangan daftar, dan satu lagi adalah dict. sama seperti nilai pada dict tidak perlu sama dan kuncinya juga harus berbeda."
      ],
      "metadata": {
        "id": "XOYLO2bp7wIK"
      }
    },
    {
      "cell_type": "code",
      "source": [
        "hoo = {29:'aaa', 3.33:'bbb', True:\"iii\"}\n",
        "print(hoo)\n",
        "\n",
        "print(hoo[29])\n",
        "print(hoo[3.33])\n",
        "print(hoo[True])"
      ],
      "metadata": {
        "colab": {
          "base_uri": "https://localhost:8080/"
        },
        "id": "hpHL1lr08u0b",
        "outputId": "4268eb2c-ae2e-448f-caff-6bb95f3d79ba"
      },
      "execution_count": null,
      "outputs": [
        {
          "output_type": "stream",
          "name": "stdout",
          "text": [
            "{29: 'aaa', 3.33: 'bbb', True: 'iii'}\n",
            "aaa\n",
            "bbb\n",
            "iii\n"
          ]
        }
      ]
    },
    {
      "cell_type": "markdown",
      "source": [
        "disini, salah satu kuncinya adalah bilangan bulat, Float, dan boolean. tidak di jelasakan bahwa itu bagaimana berguna.\n",
        "perhatikan betapa serba gunanya dict di python, seperti football_team yg dimana dalam di dalam variabel tersebut menginformasikan yg sama(nama time sepak  bola) disimpan untuk masing-masing dari beberapa lokasi geografis yg berbeda, di sisi lain, menyimpan berbagai jenis data untuk satu orang.\n",
        "anda juga dapat menggunakan dict untuk berbgai tujuan karena hanya ada sedikit batasan pada kunci dan nilai yg di izinkan."
      ],
      "metadata": {
        "id": "IF8oTBm19oXQ"
      }
    },
    {
      "cell_type": "markdown",
      "source": [
        "# Restericition in Key Dictionary"
      ],
      "metadata": {
        "id": "WhqRiXzm9oFl"
      }
    },
    {
      "cell_type": "code",
      "source": [
        "foo ={27:\"aaa\",4.35:\"bbb\",False:\"ccc\"}\n",
        "a = {int: 23, float: 45, bool: 34}\n",
        "a = {bin:1, hex: 3, oct: 2}\n",
        "print(a)\n",
        "print(foo)"
      ],
      "metadata": {
        "colab": {
          "base_uri": "https://localhost:8080/"
        },
        "id": "MiqpYBHwNnUu",
        "outputId": "6c04b9e9-8532-412f-d2c3-90e88f6c6a71"
      },
      "execution_count": null,
      "outputs": [
        {
          "output_type": "stream",
          "name": "stdout",
          "text": [
            "{<built-in function bin>: 1, <built-in function hex>: 3, <built-in function oct>: 2}\n",
            "{27: 'aaa', 4.35: 'bbb', False: 'ccc'}\n"
          ]
        }
      ]
    },
    {
      "cell_type": "markdown",
      "source": [
        "no duplicate kay"
      ],
      "metadata": {
        "id": "K3rPy_HrOdRo"
      }
    },
    {
      "cell_type": "code",
      "source": [
        "fottball_team ={\n",
        "    \"Manchestr\" : \"Manchester City\",\n",
        "    \"London\" : \"chalsea\",\n",
        "    \"Leeds\" : \"Leeds United\",\n",
        "    \"Newcastle Upon Tyne\" : \"Newcastle United\",\n",
        "    \"Manchester\" : \"Manchester united\",\n",
        "    \"London\" : \"Arsenal\",\n",
        "}\n",
        "fottball_team"
      ],
      "metadata": {
        "colab": {
          "base_uri": "https://localhost:8080/"
        },
        "id": "ra5VV9jsOiw4",
        "outputId": "1a4c72e9-4c5a-4a2d-9a63-6ad5a9a58d28"
      },
      "execution_count": null,
      "outputs": [
        {
          "output_type": "execute_result",
          "data": {
            "text/plain": [
              "{'Manchestr': 'Manchester City',\n",
              " 'London': 'Arsenal',\n",
              " 'Leeds': 'Leeds United',\n",
              " 'Newcastle Upon Tyne': 'Newcastle United',\n",
              " 'Manchester': 'Manchester united'}"
            ]
          },
          "metadata": {},
          "execution_count": 14
        }
      ]
    },
    {
      "cell_type": "markdown",
      "source": [
        "Key did must immutable"
      ],
      "metadata": {
        "id": "aYElJpraU_XA"
      }
    },
    {
      "cell_type": "code",
      "source": [
        "d = {(1,2): 'a', (1,1): 'b', (2,2): 'c'}\n",
        "d[(2,2)]\n",
        "\n",
        "d[(1,1)]\n"
      ],
      "metadata": {
        "colab": {
          "base_uri": "https://localhost:8080/",
          "height": 36
        },
        "id": "8I1cW7yTVSDD",
        "outputId": "52831b3e-8c45-4625-ec13-8bb1d22f37ff"
      },
      "execution_count": null,
      "outputs": [
        {
          "output_type": "execute_result",
          "data": {
            "text/plain": [
              "'b'"
            ],
            "application/vnd.google.colaboratory.intrinsic+json": {
              "type": "string"
            }
          },
          "metadata": {},
          "execution_count": 16
        }
      ]
    },
    {
      "cell_type": "code",
      "source": [
        "d = {[2,3]: 'a', [2,2]: 'b', [2,1]: 'c', [2,0]: 'd'}\n",
        "d[[2,3]]"
      ],
      "metadata": {
        "colab": {
          "base_uri": "https://localhost:8080/",
          "height": 193
        },
        "id": "ln8Xw8q1VvEn",
        "outputId": "7b4d3467-f566-429c-dec9-19053788efe0"
      },
      "execution_count": null,
      "outputs": [
        {
          "output_type": "error",
          "ename": "TypeError",
          "evalue": "ignored",
          "traceback": [
            "\u001b[0;31m---------------------------------------------------------------------------\u001b[0m",
            "\u001b[0;31mTypeError\u001b[0m                                 Traceback (most recent call last)",
            "\u001b[0;32m<ipython-input-17-47e4471cbb9b>\u001b[0m in \u001b[0;36m<cell line: 1>\u001b[0;34m()\u001b[0m\n\u001b[0;32m----> 1\u001b[0;31m \u001b[0md\u001b[0m \u001b[0;34m=\u001b[0m \u001b[0;34m{\u001b[0m\u001b[0;34m[\u001b[0m\u001b[0;36m2\u001b[0m\u001b[0;34m,\u001b[0m\u001b[0;36m3\u001b[0m\u001b[0;34m]\u001b[0m\u001b[0;34m:\u001b[0m \u001b[0;34m'a'\u001b[0m\u001b[0;34m,\u001b[0m \u001b[0;34m[\u001b[0m\u001b[0;36m2\u001b[0m\u001b[0;34m,\u001b[0m\u001b[0;36m2\u001b[0m\u001b[0;34m]\u001b[0m\u001b[0;34m:\u001b[0m \u001b[0;34m'b'\u001b[0m\u001b[0;34m,\u001b[0m \u001b[0;34m[\u001b[0m\u001b[0;36m2\u001b[0m\u001b[0;34m,\u001b[0m\u001b[0;36m1\u001b[0m\u001b[0;34m]\u001b[0m\u001b[0;34m:\u001b[0m \u001b[0;34m'c'\u001b[0m\u001b[0;34m,\u001b[0m \u001b[0;34m[\u001b[0m\u001b[0;36m2\u001b[0m\u001b[0;34m,\u001b[0m\u001b[0;36m0\u001b[0m\u001b[0;34m]\u001b[0m\u001b[0;34m:\u001b[0m \u001b[0;34m'd'\u001b[0m\u001b[0;34m}\u001b[0m\u001b[0;34m\u001b[0m\u001b[0;34m\u001b[0m\u001b[0m\n\u001b[0m\u001b[1;32m      2\u001b[0m \u001b[0md\u001b[0m\u001b[0;34m[\u001b[0m\u001b[0;34m[\u001b[0m\u001b[0;36m2\u001b[0m\u001b[0;34m,\u001b[0m\u001b[0;36m3\u001b[0m\u001b[0;34m]\u001b[0m\u001b[0;34m]\u001b[0m\u001b[0;34m\u001b[0m\u001b[0;34m\u001b[0m\u001b[0m\n",
            "\u001b[0;31mTypeError\u001b[0m: unhashable type: 'list'"
          ]
        }
      ]
    },
    {
      "cell_type": "markdown",
      "source": [
        "Restricion in Value Dictionary"
      ],
      "metadata": {
        "id": "k54nTpzIW51e"
      }
    },
    {
      "cell_type": "code",
      "source": [
        "d = {0: 'a', 1: 'a', 2: 'c', 3: 'a'}\n",
        "d\n",
        "d[0] == d[1]"
      ],
      "metadata": {
        "colab": {
          "base_uri": "https://localhost:8080/"
        },
        "id": "KLMZYuykXBcv",
        "outputId": "392c78a7-e28c-49e8-a8ab-1f703973756f"
      },
      "execution_count": null,
      "outputs": [
        {
          "output_type": "execute_result",
          "data": {
            "text/plain": [
              "True"
            ]
          },
          "metadata": {},
          "execution_count": 23
        }
      ]
    },
    {
      "cell_type": "markdown",
      "source": [
        "# Built-in Dictionary Methods"
      ],
      "metadata": {
        "id": "IcskJsbxbGzV"
      }
    },
    {
      "cell_type": "markdown",
      "source": [
        "d.clear()"
      ],
      "metadata": {
        "id": "orfCWGMZbRFz"
      }
    },
    {
      "cell_type": "markdown",
      "source": [
        "d.clear() mengosongkan dict d dari semua pasangan nilai kunci"
      ],
      "metadata": {
        "id": "BVdEZHdDbVeu"
      }
    },
    {
      "cell_type": "code",
      "source": [
        "d = {'a': 10, 'b': 20, 'c': 30}\n",
        "print(d)\n",
        "\n",
        "d.clear()\n",
        "print(d)"
      ],
      "metadata": {
        "colab": {
          "base_uri": "https://localhost:8080/"
        },
        "id": "HCEgPr7pbO5K",
        "outputId": "6030fd5b-62d9-439f-8536-f8065b671547"
      },
      "execution_count": null,
      "outputs": [
        {
          "output_type": "stream",
          "name": "stdout",
          "text": [
            "{'a': 10, 'b': 20, 'c': 30}\n",
            "{}\n"
          ]
        }
      ]
    },
    {
      "cell_type": "markdown",
      "source": [
        "d.get()"
      ],
      "metadata": {
        "id": "dYcZ2nKQb4Df"
      }
    },
    {
      "cell_type": "markdown",
      "source": [
        "Metode, get() dict Python menyediakan cara mudah untuk mendapatkan nilai kunci dari dict tanpa memeriksa terlebih dahulu apakah kunci itu ada, dan tanpa memunculkan kesalahan\n",
        "d.get() mencari dict d untuk mengembalikan nilai yg terkait bila ditemukan. Jika tidak di temukan, ia mengembalikan dengan None"
      ],
      "metadata": {
        "id": "DVfUfuAwcKHl"
      }
    },
    {
      "cell_type": "code",
      "source": [
        "d = {'a': 10, 'b': 20, 'c': 30}\n",
        "print(d.get('a'))\n",
        "\n",
        "print(d.get('f'))"
      ],
      "metadata": {
        "colab": {
          "base_uri": "https://localhost:8080/"
        },
        "id": "irspjDCCc3U8",
        "outputId": "c48c4e65-1bd0-4c73-f81f-63145023c0de"
      },
      "execution_count": null,
      "outputs": [
        {
          "output_type": "stream",
          "name": "stdout",
          "text": [
            "10\n",
            "None\n"
          ]
        }
      ]
    },
    {
      "cell_type": "markdown",
      "source": [
        "d.items()"
      ],
      "metadata": {
        "id": "N5DvP0QOd0FB"
      }
    },
    {
      "cell_type": "markdown",
      "source": [
        "d.items() mengembalikan daftar tupel yg berisi pasangan nilai kunci di d. item pertama di setiap tupel adalah kuncinya, item kedua adalah nilai kuncinya"
      ],
      "metadata": {
        "id": "YQB8SYK4d5d3"
      }
    },
    {
      "cell_type": "code",
      "source": [
        "d = {'a': 10, 'b': 20, 'c': 30, 'd': 40}\n",
        "print(d)\n",
        "\n",
        "list(d.items())\n",
        "# list(d.items())[1][0]\n",
        "list(d.items())[2][1]\n",
        "list(d.items())[2]\n",
        "list(d.items())[1]"
      ],
      "metadata": {
        "colab": {
          "base_uri": "https://localhost:8080/"
        },
        "id": "fc__j2dLd347",
        "outputId": "b8f39a9b-d36b-4a2b-fd57-f5dd4558ed8b"
      },
      "execution_count": null,
      "outputs": [
        {
          "output_type": "stream",
          "name": "stdout",
          "text": [
            "{'a': 10, 'b': 20, 'c': 30, 'd': 40}\n"
          ]
        },
        {
          "output_type": "execute_result",
          "data": {
            "text/plain": [
              "('b', 20)"
            ]
          },
          "metadata": {},
          "execution_count": 63
        }
      ]
    },
    {
      "cell_type": "code",
      "source": [
        "list(d.items())[2]"
      ],
      "metadata": {
        "colab": {
          "base_uri": "https://localhost:8080/"
        },
        "id": "STpTVjNHgbLd",
        "outputId": "03c6fd67-879a-4bd9-8ad6-5ddf4362e839"
      },
      "execution_count": null,
      "outputs": [
        {
          "output_type": "execute_result",
          "data": {
            "text/plain": [
              "('c', 30)"
            ]
          },
          "metadata": {},
          "execution_count": 65
        }
      ]
    },
    {
      "cell_type": "code",
      "source": [
        "list(d.items())[0]"
      ],
      "metadata": {
        "colab": {
          "base_uri": "https://localhost:8080/"
        },
        "id": "2NnZsKvdhCqf",
        "outputId": "4ca3166b-b9a2-4216-e395-3109f61e1b80"
      },
      "execution_count": null,
      "outputs": [
        {
          "output_type": "execute_result",
          "data": {
            "text/plain": [
              "('a', 10)"
            ]
          },
          "metadata": {},
          "execution_count": 66
        }
      ]
    },
    {
      "cell_type": "code",
      "source": [
        "list(d.items())[3]"
      ],
      "metadata": {
        "colab": {
          "base_uri": "https://localhost:8080/"
        },
        "id": "4RGtvSM_hGVi",
        "outputId": "f7ca81ea-9538-40e6-9360-e3f971def84e"
      },
      "execution_count": null,
      "outputs": [
        {
          "output_type": "execute_result",
          "data": {
            "text/plain": [
              "('d', 40)"
            ]
          },
          "metadata": {},
          "execution_count": 67
        }
      ]
    },
    {
      "cell_type": "code",
      "source": [
        "list(d.items())[1][1]"
      ],
      "metadata": {
        "colab": {
          "base_uri": "https://localhost:8080/"
        },
        "id": "sG0YGstFhKk0",
        "outputId": "09078e9b-16e0-4ce9-9ca8-7cc55a16c274"
      },
      "execution_count": null,
      "outputs": [
        {
          "output_type": "execute_result",
          "data": {
            "text/plain": [
              "20"
            ]
          },
          "metadata": {},
          "execution_count": 68
        }
      ]
    },
    {
      "cell_type": "code",
      "source": [
        "list(d.items())[2][1]"
      ],
      "metadata": {
        "colab": {
          "base_uri": "https://localhost:8080/"
        },
        "id": "82hS-gXBhU6a",
        "outputId": "e5fd96b5-34fa-4c60-c4d7-d97e8702e4de"
      },
      "execution_count": null,
      "outputs": [
        {
          "output_type": "execute_result",
          "data": {
            "text/plain": [
              "30"
            ]
          },
          "metadata": {},
          "execution_count": 70
        }
      ]
    },
    {
      "cell_type": "code",
      "source": [
        "list(d.items())[3][1]"
      ],
      "metadata": {
        "colab": {
          "base_uri": "https://localhost:8080/"
        },
        "id": "fto_gwk1hcxa",
        "outputId": "21851df7-a059-4d58-e0a3-224c27395620"
      },
      "execution_count": null,
      "outputs": [
        {
          "output_type": "execute_result",
          "data": {
            "text/plain": [
              "40"
            ]
          },
          "metadata": {},
          "execution_count": 73
        }
      ]
    },
    {
      "cell_type": "markdown",
      "source": [
        "# d.keys()"
      ],
      "metadata": {
        "id": "jnjamBNYiEXr"
      }
    },
    {
      "cell_type": "markdown",
      "source": [
        "d.keys()"
      ],
      "metadata": {
        "id": "T0rwls4oiJAA"
      }
    },
    {
      "cell_type": "markdown",
      "source": [
        "keys() mengembalikan daftar semua kunci di d"
      ],
      "metadata": {
        "id": "tzIa9OFfiYxB"
      }
    },
    {
      "cell_type": "code",
      "source": [
        "d = {'a': 10, 'b': 20, 'c': 30, 'd': 40}\n",
        "print(d)\n",
        "\n",
        "list(d.keys())"
      ],
      "metadata": {
        "colab": {
          "base_uri": "https://localhost:8080/"
        },
        "id": "Iq5REcD5iD6I",
        "outputId": "563cc042-84f5-43c1-bed2-6b13c3631a03"
      },
      "execution_count": null,
      "outputs": [
        {
          "output_type": "stream",
          "name": "stdout",
          "text": [
            "{'a': 10, 'b': 20, 'c': 30, 'd': 40}\n"
          ]
        },
        {
          "output_type": "execute_result",
          "data": {
            "text/plain": [
              "['a', 'b', 'c', 'd']"
            ]
          },
          "metadata": {},
          "execution_count": 76
        }
      ]
    },
    {
      "cell_type": "markdown",
      "source": [
        "d.update()"
      ],
      "metadata": {
        "id": "2q83Sbm6ijP9"
      }
    },
    {
      "cell_type": "code",
      "source": [
        "d1 = {'a': 10, 'b': 20, 'c': 30, 'd': 40}\n",
        "d2 = {'a' : 500, 'e': 50}\n",
        "print(d1)\n",
        "\n",
        "d1.update(d2)\n",
        "d1"
      ],
      "metadata": {
        "colab": {
          "base_uri": "https://localhost:8080/"
        },
        "id": "xyU5hflqil20",
        "outputId": "9a6550d9-989c-491d-e814-b4e166e3c871"
      },
      "execution_count": null,
      "outputs": [
        {
          "output_type": "stream",
          "name": "stdout",
          "text": [
            "{'a': 10, 'b': 20, 'c': 30, 'd': 40}\n"
          ]
        },
        {
          "output_type": "execute_result",
          "data": {
            "text/plain": [
              "{'a': 500, 'b': 20, 'c': 30, 'd': 40, 'e': 50}"
            ]
          },
          "metadata": {},
          "execution_count": 82
        }
      ]
    },
    {
      "cell_type": "markdown",
      "source": [
        "pop()"
      ],
      "metadata": {
        "id": "X4fDEil6kdM5"
      }
    },
    {
      "cell_type": "code",
      "source": [
        "d = {'a': 10, 'b': 20, 'c': 30, 'd': 40}\n",
        "# d.pop('a')\n",
        "# d\n",
        "\n",
        "d.pop('b')\n",
        "d"
      ],
      "metadata": {
        "colab": {
          "base_uri": "https://localhost:8080/"
        },
        "id": "rHkylcx5kd7m",
        "outputId": "367f5bbd-939d-48fe-894a-4d544896ca2b"
      },
      "execution_count": null,
      "outputs": [
        {
          "output_type": "execute_result",
          "data": {
            "text/plain": [
              "{'a': 10, 'c': 30, 'd': 40}"
            ]
          },
          "metadata": {},
          "execution_count": 92
        }
      ]
    },
    {
      "cell_type": "markdown",
      "source": [
        "d.popitem()"
      ],
      "metadata": {
        "id": "CBpEei2yjzZz"
      }
    },
    {
      "cell_type": "code",
      "source": [
        "d ={'a': 10, 'b': 20, 'c': 30, 'd': 40}\n",
        "print(d)\n",
        "\n",
        "d.popitem()\n",
        "print(d)\n",
        "\n",
        "d.popitem()\n",
        "print(d)\n",
        "d.popitem()\n",
        "print(d)\n",
        "d.popitem()\n",
        "print(d)"
      ],
      "metadata": {
        "colab": {
          "base_uri": "https://localhost:8080/"
        },
        "id": "giK4QeVJj4f0",
        "outputId": "94c1ad8c-7e1e-47d8-a5b2-1e6848baa15c"
      },
      "execution_count": null,
      "outputs": [
        {
          "output_type": "stream",
          "name": "stdout",
          "text": [
            "{'a': 10, 'b': 20, 'c': 30, 'd': 40}\n",
            "{'a': 10, 'b': 20, 'c': 30}\n",
            "{'a': 10, 'b': 20}\n",
            "{'a': 10}\n",
            "{}\n"
          ]
        }
      ]
    }
  ]
}