{
  "nbformat": 4,
  "nbformat_minor": 0,
  "metadata": {
    "colab": {
      "provenance": [],
      "authorship_tag": "ABX9TyMSnIU/p+ufZFrbYtDhBtwR",
      "include_colab_link": true
    },
    "kernelspec": {
      "name": "python3",
      "display_name": "Python 3"
    },
    "language_info": {
      "name": "python"
    }
  },
  "cells": [
    {
      "cell_type": "markdown",
      "metadata": {
        "id": "view-in-github",
        "colab_type": "text"
      },
      "source": [
        "<a href=\"https://colab.research.google.com/github/Aldistwn29/Phyton-fundamental/blob/main/Reguker_Exoression.ipynb\" target=\"_parent\"><img src=\"https://colab.research.google.com/assets/colab-badge.svg\" alt=\"Open In Colab\"/></a>"
      ]
    },
    {
      "cell_type": "markdown",
      "source": [
        "# What is Reguler Expression"
      ],
      "metadata": {
        "id": "3owfxqN1-Pef"
      }
    },
    {
      "cell_type": "code",
      "execution_count": 38,
      "metadata": {
        "colab": {
          "base_uri": "https://localhost:8080/"
        },
        "id": "4GqSWZ8j-I9h",
        "outputId": "7675e412-153a-49d9-da91-5076ebdd7375"
      },
      "outputs": [
        {
          "output_type": "stream",
          "name": "stdout",
          "text": [
            "Start index:  9\n",
            "End index:  15\n"
          ]
        }
      ],
      "source": [
        "import re\n",
        "\n",
        "s = 'Myskill: portal for any learning path'\n",
        "\n",
        "match = re.search(r'portal', s)\n",
        "\n",
        "print(\"Start index: \", match.start())\n",
        "print(\"End index: \", match.end())"
      ]
    },
    {
      "cell_type": "code",
      "source": [
        "s = 'Myskill: portal for any learning path'\n",
        "list_s = s.split()\n",
        "list_count = len(list_s)\n",
        "\n",
        "print(list_count)\n"
      ],
      "metadata": {
        "colab": {
          "base_uri": "https://localhost:8080/"
        },
        "id": "TP_CuM2HCzuF",
        "outputId": "e6f33cdd-231a-4426-bd6d-77e30bff7947"
      },
      "execution_count": 21,
      "outputs": [
        {
          "output_type": "stream",
          "name": "stdout",
          "text": [
            "6\n"
          ]
        }
      ]
    },
    {
      "cell_type": "code",
      "source": [
        "s = '123aba'\n",
        "jumlah_angka = 0\n",
        "\n",
        "for char in s:\n",
        "  if char.isdigit():\n",
        "    jumlah_angka +=1\n",
        "\n",
        "print(jumlah_angka)"
      ],
      "metadata": {
        "colab": {
          "base_uri": "https://localhost:8080/"
        },
        "id": "HycjpOsFD-9p",
        "outputId": "4b5e04bf-4161-4e67-d805-f0123f3ea70f"
      },
      "execution_count": 31,
      "outputs": [
        {
          "output_type": "stream",
          "name": "stdout",
          "text": [
            "3\n"
          ]
        }
      ]
    }
  ]
}