{
  "nbformat": 4,
  "nbformat_minor": 0,
  "metadata": {
    "colab": {
      "provenance": [],
      "authorship_tag": "ABX9TyMCMth8lGUi0C8mSNp0Jquh",
      "include_colab_link": true
    },
    "kernelspec": {
      "name": "python3",
      "display_name": "Python 3"
    },
    "language_info": {
      "name": "python"
    }
  },
  "cells": [
    {
      "cell_type": "markdown",
      "metadata": {
        "id": "view-in-github",
        "colab_type": "text"
      },
      "source": [
        "<a href=\"https://colab.research.google.com/github/Aldistwn29/Phyton-fundamental/blob/main/List_Fundamental_in_Python.ipynb\" target=\"_parent\"><img src=\"https://colab.research.google.com/assets/colab-badge.svg\" alt=\"Open In Colab\"/></a>"
      ]
    },
    {
      "cell_type": "markdown",
      "source": [
        "# Python List"
      ],
      "metadata": {
        "id": "zQQfuJQI7Xe4"
      }
    },
    {
      "cell_type": "code",
      "execution_count": null,
      "metadata": {
        "id": "LHW64ZccsW4_"
      },
      "outputs": [],
      "source": [
        "mylist = [\"Frasa\",\"Rara\",\"Fauziah\"]"
      ]
    },
    {
      "cell_type": "markdown",
      "source": [
        "# Allow duplicates"
      ],
      "metadata": {
        "id": "ZrcxRbRB7cfL"
      }
    },
    {
      "cell_type": "code",
      "source": [
        "mylist = [\"myskill\", \"learning\", \"portal\", \"myskill\", \"student\"]\n",
        "print(mylist)"
      ],
      "metadata": {
        "colab": {
          "base_uri": "https://localhost:8080/"
        },
        "id": "LXvT2kH-7n6w",
        "outputId": "613690a0-fe7f-4f90-c905-c144591e1f68"
      },
      "execution_count": null,
      "outputs": [
        {
          "output_type": "stream",
          "name": "stdout",
          "text": [
            "['myskill', 'learning', 'portal', 'myskill', 'student']\n"
          ]
        }
      ]
    },
    {
      "cell_type": "markdown",
      "source": [
        "# List lengeth"
      ],
      "metadata": {
        "id": "fJArplMZ8N9U"
      }
    },
    {
      "cell_type": "code",
      "source": [
        "print(len(mylist))"
      ],
      "metadata": {
        "colab": {
          "base_uri": "https://localhost:8080/"
        },
        "id": "3GloVRlL8Rbs",
        "outputId": "11d8e586-aec9-44cc-980b-24d363893822"
      },
      "execution_count": null,
      "outputs": [
        {
          "output_type": "stream",
          "name": "stdout",
          "text": [
            "5\n"
          ]
        }
      ]
    },
    {
      "cell_type": "markdown",
      "source": [
        "# any datatype in list"
      ],
      "metadata": {
        "id": "xkOj2iIgAWXv"
      }
    },
    {
      "cell_type": "code",
      "source": [
        "list1 = [\"A\", \"B\", \"C\"]\n",
        "list2 = [1, 2, 3, 4, 5]\n",
        "list3 = [True, False, True, False]"
      ],
      "metadata": {
        "id": "VxEhgxtfAeNE"
      },
      "execution_count": null,
      "outputs": []
    },
    {
      "cell_type": "code",
      "source": [
        "lists = [\"myskill\", 25, False, 22, \"student\"]"
      ],
      "metadata": {
        "id": "iGmKoIBwA2oW"
      },
      "execution_count": null,
      "outputs": []
    },
    {
      "cell_type": "markdown",
      "source": [
        "# type"
      ],
      "metadata": {
        "id": "Xqn6Nr10BE2F"
      }
    },
    {
      "cell_type": "code",
      "source": [
        "print(type(lists))"
      ],
      "metadata": {
        "colab": {
          "base_uri": "https://localhost:8080/"
        },
        "id": "UCPLC6NWBGqB",
        "outputId": "c8d1a6ed-04ea-4cdb-dfe3-1e12b8dbf76c"
      },
      "execution_count": null,
      "outputs": [
        {
          "output_type": "stream",
          "name": "stdout",
          "text": [
            "<class 'list'>\n"
          ]
        }
      ]
    },
    {
      "cell_type": "markdown",
      "source": [
        "# list konstruktor"
      ],
      "metadata": {
        "id": "9ENGPeBNDTTD"
      }
    },
    {
      "cell_type": "code",
      "source": [
        "mylist = list((\"apps\", \"os\", \"version\")) #hrs menggunakan double kurung siku\n",
        "print(list)"
      ],
      "metadata": {
        "colab": {
          "base_uri": "https://localhost:8080/"
        },
        "id": "PaF0Zul8Dg2_",
        "outputId": "5a97b2c3-609d-4c14-82f1-62a0b56881bc"
      },
      "execution_count": null,
      "outputs": [
        {
          "output_type": "stream",
          "name": "stdout",
          "text": [
            "<class 'list'>\n"
          ]
        }
      ]
    },
    {
      "cell_type": "markdown",
      "source": [
        "# Modification of list"
      ],
      "metadata": {
        "id": "1ltkC363EHSg"
      }
    },
    {
      "cell_type": "markdown",
      "source": [
        "# index"
      ],
      "metadata": {
        "id": "HxZg6bwgENHp"
      }
    },
    {
      "cell_type": "code",
      "source": [
        "print(mylist[0])"
      ],
      "metadata": {
        "colab": {
          "base_uri": "https://localhost:8080/"
        },
        "id": "xBP66POdEUED",
        "outputId": "bfcd3a4c-ff83-4a20-8de9-f8a93c9b9832"
      },
      "execution_count": null,
      "outputs": [
        {
          "output_type": "stream",
          "name": "stdout",
          "text": [
            "apps\n"
          ]
        }
      ]
    },
    {
      "cell_type": "markdown",
      "source": [
        "# Negative index"
      ],
      "metadata": {
        "id": "_QQYg6iGEgio"
      }
    },
    {
      "cell_type": "code",
      "source": [
        "print(mylist[-1])"
      ],
      "metadata": {
        "colab": {
          "base_uri": "https://localhost:8080/"
        },
        "id": "61AmW5xJElo8",
        "outputId": "a3440def-7213-4bd4-cf3b-dc6df56f86fc"
      },
      "execution_count": null,
      "outputs": [
        {
          "output_type": "stream",
          "name": "stdout",
          "text": [
            "version\n"
          ]
        }
      ]
    },
    {
      "cell_type": "markdown",
      "source": [
        "# index range"
      ],
      "metadata": {
        "id": "QsGQaofbFHsD"
      }
    },
    {
      "cell_type": "code",
      "source": [
        "print(mylist[1:3])"
      ],
      "metadata": {
        "colab": {
          "base_uri": "https://localhost:8080/"
        },
        "id": "RJb2Rv8rFLPA",
        "outputId": "b1e71e1a-6731-4be1-cc75-bf7f74796e12"
      },
      "execution_count": null,
      "outputs": [
        {
          "output_type": "stream",
          "name": "stdout",
          "text": [
            "['os', 'version']\n"
          ]
        }
      ]
    },
    {
      "cell_type": "code",
      "source": [
        "print(mylist[:2])"
      ],
      "metadata": {
        "colab": {
          "base_uri": "https://localhost:8080/"
        },
        "id": "2ri4t8DhFct2",
        "outputId": "7517ee46-074b-4e66-abff-a979419c69d6"
      },
      "execution_count": null,
      "outputs": [
        {
          "output_type": "stream",
          "name": "stdout",
          "text": [
            "['apps', 'os']\n"
          ]
        }
      ]
    },
    {
      "cell_type": "code",
      "source": [
        "print(mylist[1:])"
      ],
      "metadata": {
        "colab": {
          "base_uri": "https://localhost:8080/"
        },
        "id": "zyjRIkKGFwVM",
        "outputId": "555fff5f-026c-49ac-ac42-a7a3b82f940f"
      },
      "execution_count": null,
      "outputs": [
        {
          "output_type": "stream",
          "name": "stdout",
          "text": [
            "['os', 'version']\n"
          ]
        }
      ]
    },
    {
      "cell_type": "markdown",
      "source": [
        "# change element value"
      ],
      "metadata": {
        "id": "flk7zHRAGdSn"
      }
    },
    {
      "cell_type": "code",
      "source": [
        "mylist[0] = \"linux\"\n",
        "print(mylist)"
      ],
      "metadata": {
        "colab": {
          "base_uri": "https://localhost:8080/"
        },
        "id": "elcCNlAaJARf",
        "outputId": "f082f38a-e79b-438c-ed62-4e97370ad56e"
      },
      "execution_count": null,
      "outputs": [
        {
          "output_type": "stream",
          "name": "stdout",
          "text": [
            "['linux', 'os', 'version']\n"
          ]
        }
      ]
    },
    {
      "cell_type": "code",
      "source": [
        "mylist[1:3] = [\"android\", \"nouget\"]\n",
        "print(mylist)"
      ],
      "metadata": {
        "colab": {
          "base_uri": "https://localhost:8080/"
        },
        "id": "_NfujmVWJj_k",
        "outputId": "a55a1a53-a497-44b2-90b1-211d3d521966"
      },
      "execution_count": null,
      "outputs": [
        {
          "output_type": "stream",
          "name": "stdout",
          "text": [
            "['linux', 'android', 'nouget']\n"
          ]
        }
      ]
    },
    {
      "cell_type": "code",
      "source": [
        "print(len(mylist))"
      ],
      "metadata": {
        "colab": {
          "base_uri": "https://localhost:8080/"
        },
        "id": "S0C_pi6sKQL7",
        "outputId": "5cf6383d-c9b4-4ee0-f28a-790baaa976ab"
      },
      "execution_count": null,
      "outputs": [
        {
          "output_type": "stream",
          "name": "stdout",
          "text": [
            "3\n"
          ]
        }
      ]
    },
    {
      "cell_type": "code",
      "source": [
        "mylist"
      ],
      "metadata": {
        "colab": {
          "base_uri": "https://localhost:8080/"
        },
        "id": "z465ZKkzKVXf",
        "outputId": "b22d95dc-b502-4555-fdf2-3262383981cb"
      },
      "execution_count": null,
      "outputs": [
        {
          "output_type": "execute_result",
          "data": {
            "text/plain": [
              "['linux', 'android', 'nouget']"
            ]
          },
          "metadata": {},
          "execution_count": 139
        }
      ]
    },
    {
      "cell_type": "code",
      "source": [
        "mylist2 = [\"pisang\", \"melon\", \"jeruk\", \"semangka\", \"anggur\", \"durian\"]\n",
        "mylist2[2:3] = [\"rambutan\"]\n",
        "print(mylist2)"
      ],
      "metadata": {
        "colab": {
          "base_uri": "https://localhost:8080/"
        },
        "id": "MUDgUEvIMtO0",
        "outputId": "1d88300b-4e8a-4936-8ed6-73eaec4916b4"
      },
      "execution_count": null,
      "outputs": [
        {
          "output_type": "stream",
          "name": "stdout",
          "text": [
            "['pisang', 'melon', 'rambutan', 'semangka', 'anggur', 'durian']\n"
          ]
        }
      ]
    },
    {
      "cell_type": "code",
      "source": [
        "print(len(mylist2))"
      ],
      "metadata": {
        "colab": {
          "base_uri": "https://localhost:8080/"
        },
        "id": "YhyblvCSNrPM",
        "outputId": "512a1b60-acf0-4251-c061-dc78759b5700"
      },
      "execution_count": null,
      "outputs": [
        {
          "output_type": "stream",
          "name": "stdout",
          "text": [
            "7\n"
          ]
        }
      ]
    },
    {
      "cell_type": "code",
      "source": [
        "mylist2 [2:3] = [\"jeruk\", \"ceri\"]\n",
        "print(mylist2)"
      ],
      "metadata": {
        "colab": {
          "base_uri": "https://localhost:8080/"
        },
        "id": "iWlFC3k5NUtq",
        "outputId": "001e3d01-fc07-4597-f3ba-30f86c71be17"
      },
      "execution_count": null,
      "outputs": [
        {
          "output_type": "stream",
          "name": "stdout",
          "text": [
            "['pisang', 'melon', 'jeruk', 'ceri', 'ceri', 'semangka', 'anggur', 'durian']\n"
          ]
        }
      ]
    },
    {
      "cell_type": "code",
      "source": [
        "print(len(mylist2))"
      ],
      "metadata": {
        "colab": {
          "base_uri": "https://localhost:8080/"
        },
        "id": "XlmxNdOqNxlx",
        "outputId": "d5695e9b-d51c-489f-b7cd-e3b91c028364"
      },
      "execution_count": null,
      "outputs": [
        {
          "output_type": "stream",
          "name": "stdout",
          "text": [
            "8\n"
          ]
        }
      ]
    },
    {
      "cell_type": "markdown",
      "source": [
        "jika kita memasukan lebih banyak item daripada yang kita ganti, item baru akan disisipkan di tempat yg kita tentukan, dan item yang tersisa. contoh"
      ],
      "metadata": {
        "id": "FIUX7YB1K9PZ"
      }
    },
    {
      "cell_type": "code",
      "source": [
        "thislist = [\"appel\", \"banana\", \"charry\"]\n",
        "thislist[1:2] = [\"blackcurrant\", \"watermalon\"]\n",
        "print(thislist)"
      ],
      "metadata": {
        "colab": {
          "base_uri": "https://localhost:8080/"
        },
        "id": "OGijTTGtLPWC",
        "outputId": "23c75dd4-c87a-4f21-d740-47643534857a"
      },
      "execution_count": null,
      "outputs": [
        {
          "output_type": "stream",
          "name": "stdout",
          "text": [
            "['appel', 'blackcurrant', 'watermalon', 'charry']\n"
          ]
        }
      ]
    },
    {
      "cell_type": "markdown",
      "source": [
        "jika kita memasukan lebih sedikit item daripada yg kita ganti, item baru akan di titipkan di tempat yg kita tentukan, dan item yg tersisa akan bergerak. contoh"
      ],
      "metadata": {
        "id": "M15pYPZZOfgp"
      }
    },
    {
      "cell_type": "code",
      "source": [
        "thislist = [\"appel\", \"banana\", \"charry\"]\n",
        "thislist[1:3] = [\"watermalon\"]\n",
        "print(thislist)"
      ],
      "metadata": {
        "colab": {
          "base_uri": "https://localhost:8080/"
        },
        "id": "6w_FuhKNO6_V",
        "outputId": "d099bafc-5c57-421a-e174-c944df6ecc1a"
      },
      "execution_count": null,
      "outputs": [
        {
          "output_type": "stream",
          "name": "stdout",
          "text": [
            "['appel', 'watermalon']\n"
          ]
        }
      ]
    },
    {
      "cell_type": "markdown",
      "source": [
        "# Add items to list"
      ],
      "metadata": {
        "id": "Fh8wPSpYPpdk"
      }
    },
    {
      "cell_type": "markdown",
      "source": [
        "append()"
      ],
      "metadata": {
        "id": "V3hEYBp-PuwO"
      }
    },
    {
      "cell_type": "code",
      "source": [
        "thislist = [\"apple\", \"banana\", \"charry\"]\n",
        "thislist.append(\"orange\")\n",
        "print(thislist)"
      ],
      "metadata": {
        "colab": {
          "base_uri": "https://localhost:8080/"
        },
        "id": "0y_k5VUOPwl7",
        "outputId": "8c822ed2-673c-4c9d-f87d-9e13dd45c96b"
      },
      "execution_count": null,
      "outputs": [
        {
          "output_type": "stream",
          "name": "stdout",
          "text": [
            "['apple', 'banana', 'charry', 'orange']\n"
          ]
        }
      ]
    },
    {
      "cell_type": "markdown",
      "source": [
        "insert()"
      ],
      "metadata": {
        "id": "isMTnliQQQWz"
      }
    },
    {
      "cell_type": "code",
      "source": [
        "thislist = [\"apple\", \"banana\", \"charry\"]\n",
        "thislist.insert(2, \"orange\")\n",
        "print(thislist)"
      ],
      "metadata": {
        "colab": {
          "base_uri": "https://localhost:8080/"
        },
        "id": "G4vkeTbNQOuC",
        "outputId": "f326f3db-4b4c-4814-e80b-47cd4e6aec09"
      },
      "execution_count": null,
      "outputs": [
        {
          "output_type": "stream",
          "name": "stdout",
          "text": [
            "['apple', 'banana', 'orange', 'charry']\n"
          ]
        }
      ]
    },
    {
      "cell_type": "markdown",
      "source": [
        "extend()"
      ],
      "metadata": {
        "id": "DsTdzg-7RCWN"
      }
    },
    {
      "cell_type": "code",
      "source": [
        "thislist = [\"apple\", \"banana\", \"charry\"]\n",
        "thistuple =(\"mango\", \"pineapple\", \"papaya\")\n",
        "thislist.extend(thistuple)\n",
        "print(thislist)"
      ],
      "metadata": {
        "colab": {
          "base_uri": "https://localhost:8080/"
        },
        "id": "G01i_RH1RB05",
        "outputId": "97f9c481-0283-4dec-ca51-e9633bc86839"
      },
      "execution_count": null,
      "outputs": [
        {
          "output_type": "stream",
          "name": "stdout",
          "text": [
            "['apple', 'banana', 'charry', 'mango', 'pineapple', 'papaya']\n"
          ]
        }
      ]
    },
    {
      "cell_type": "code",
      "source": [
        "thislist = [\"apple\", \"banana\", \"charry\"]\n",
        "tropical =[\"orange\", \"kiwi\"]\n",
        "thislist.extend(tropical)\n",
        "print(thislist)"
      ],
      "metadata": {
        "colab": {
          "base_uri": "https://localhost:8080/"
        },
        "id": "jbVLvPxgShB5",
        "outputId": "150f36ae-f4f4-43c3-c494-8110a823b19b"
      },
      "execution_count": null,
      "outputs": [
        {
          "output_type": "stream",
          "name": "stdout",
          "text": [
            "['apple', 'banana', 'charry', 'orange', 'kiwi']\n"
          ]
        }
      ]
    },
    {
      "cell_type": "markdown",
      "source": [
        "# Remove item from list"
      ],
      "metadata": {
        "id": "7ABhBgGJSXvQ"
      }
    },
    {
      "cell_type": "markdown",
      "source": [
        "remove()"
      ],
      "metadata": {
        "id": "pFsHxpxpTNTe"
      }
    },
    {
      "cell_type": "code",
      "source": [
        "thislist = [\"apple\", \"banana\", \"charry\"]\n",
        "thislist.remove(\"banana\")\n",
        "print(thislist)"
      ],
      "metadata": {
        "colab": {
          "base_uri": "https://localhost:8080/"
        },
        "id": "dScEtmygTPkz",
        "outputId": "9474cd8d-ae99-428d-94fb-e4da02629ff0"
      },
      "execution_count": null,
      "outputs": [
        {
          "output_type": "stream",
          "name": "stdout",
          "text": [
            "['apple', 'charry']\n"
          ]
        }
      ]
    },
    {
      "cell_type": "markdown",
      "source": [
        "pop()"
      ],
      "metadata": {
        "id": "DIiL7HoHTij4"
      }
    },
    {
      "cell_type": "code",
      "source": [
        "thislist = [\"apple\", \"banana\", \"charry\"]\n",
        "thislist.pop(1)\n",
        "print(thislist)"
      ],
      "metadata": {
        "colab": {
          "base_uri": "https://localhost:8080/"
        },
        "id": "3XQ4l_xwTiIA",
        "outputId": "79852986-d9a3-47cb-deda-66d9c7223153"
      },
      "execution_count": null,
      "outputs": [
        {
          "output_type": "stream",
          "name": "stdout",
          "text": [
            "['apple', 'charry']\n"
          ]
        }
      ]
    },
    {
      "cell_type": "markdown",
      "source": [
        "del"
      ],
      "metadata": {
        "id": "Qj8CKxNFTuuC"
      }
    },
    {
      "cell_type": "code",
      "source": [
        "thislist = [\"apple\", \"banana\", \"charry\"]\n",
        "del thislist[0]\n",
        "print(thislist)"
      ],
      "metadata": {
        "colab": {
          "base_uri": "https://localhost:8080/"
        },
        "id": "lfM3_jlHTvmi",
        "outputId": "91cb6431-2856-4d51-861c-6c6358f86c98"
      },
      "execution_count": null,
      "outputs": [
        {
          "output_type": "stream",
          "name": "stdout",
          "text": [
            "['banana', 'charry']\n"
          ]
        }
      ]
    },
    {
      "cell_type": "markdown",
      "source": [
        "clear"
      ],
      "metadata": {
        "id": "9ZKp5TwjUGkD"
      }
    },
    {
      "cell_type": "code",
      "source": [
        "thislist = [\"apple\", \"banana\", \"charry\"]\n",
        "thislist.clear()\n",
        "print(thislist)"
      ],
      "metadata": {
        "colab": {
          "base_uri": "https://localhost:8080/"
        },
        "id": "u7sjgzbhUFj6",
        "outputId": "aeb1c453-c2e6-447d-85c1-49cd163d90f3"
      },
      "execution_count": null,
      "outputs": [
        {
          "output_type": "stream",
          "name": "stdout",
          "text": [
            "[]\n"
          ]
        }
      ]
    },
    {
      "cell_type": "markdown",
      "source": [
        "# Loop in List"
      ],
      "metadata": {
        "id": "vaAwDByh4bA1"
      }
    },
    {
      "cell_type": "markdown",
      "source": [
        "for loop"
      ],
      "metadata": {
        "id": "N3R-s_hb4h2x"
      }
    },
    {
      "cell_type": "code",
      "source": [
        "thislist = [\"Apple\", \"Banana\", \"Mango\"]\n",
        "for i in thislist:\n",
        "  print(i)"
      ],
      "metadata": {
        "colab": {
          "base_uri": "https://localhost:8080/"
        },
        "id": "8Wcspx_r4lpm",
        "outputId": "e90302f2-6f8c-4a03-8c00-7b24be3ac1ed"
      },
      "execution_count": 2,
      "outputs": [
        {
          "output_type": "stream",
          "name": "stdout",
          "text": [
            "Apple\n",
            "Banana\n",
            "Mango\n"
          ]
        }
      ]
    },
    {
      "cell_type": "code",
      "source": [
        "thislist = [\"Apple\", \"Banana\", \"Mango\"]\n",
        "for i in thislist:\n",
        "  if i == \"Apple\":\n",
        "    print(i)"
      ],
      "metadata": {
        "colab": {
          "base_uri": "https://localhost:8080/"
        },
        "id": "yt9WgVtK62c5",
        "outputId": "967e639e-97a7-40c0-9b5c-7861fd8f565c"
      },
      "execution_count": 14,
      "outputs": [
        {
          "output_type": "stream",
          "name": "stdout",
          "text": [
            "Apple\n"
          ]
        }
      ]
    },
    {
      "cell_type": "code",
      "source": [
        "thislist = [\"Apple\", \"Banana\", \"Mango\"]\n",
        "for i in range(len(thislist)):\n",
        "  print(thislist[i])"
      ],
      "metadata": {
        "colab": {
          "base_uri": "https://localhost:8080/"
        },
        "id": "Dn_i5ERV5KsE",
        "outputId": "30506938-c414-457c-b476-731146f1b04d"
      },
      "execution_count": 6,
      "outputs": [
        {
          "output_type": "stream",
          "name": "stdout",
          "text": [
            "Apple\n",
            "Banana\n",
            "Mango\n"
          ]
        }
      ]
    },
    {
      "cell_type": "code",
      "source": [
        "thislist = [\"Apple\", \"Banana\", \"Mango\"]\n",
        "for i in range(len(thislist)):\n",
        "  if thislist[i] == \"Banana\":\n",
        "    print(thislist[i])"
      ],
      "metadata": {
        "colab": {
          "base_uri": "https://localhost:8080/"
        },
        "id": "uYGsevOg6f5X",
        "outputId": "b3cb27ea-dd1b-4593-e285-1f2069339231"
      },
      "execution_count": 9,
      "outputs": [
        {
          "output_type": "stream",
          "name": "stdout",
          "text": [
            "Banana\n"
          ]
        }
      ]
    },
    {
      "cell_type": "markdown",
      "source": [
        "While"
      ],
      "metadata": {
        "id": "IujuAKqF8ORw"
      }
    },
    {
      "cell_type": "code",
      "source": [
        "thislist = [\"Apple\", \"Banana\", \"Mango\", \"Cheryy\", \"Blackcurrent\", \"Wattermelon\"]\n",
        "i = 0\n",
        "while i < len(thislist):\n",
        "  print(thislist[i])\n",
        "  i = i + 1\n"
      ],
      "metadata": {
        "colab": {
          "base_uri": "https://localhost:8080/"
        },
        "id": "fheeC6y-8QjJ",
        "outputId": "b69185ad-4a63-4cc5-8269-164a65ce33ec"
      },
      "execution_count": 9,
      "outputs": [
        {
          "output_type": "stream",
          "name": "stdout",
          "text": [
            "Apple\n",
            "Banana\n",
            "Mango\n",
            "Cheryy\n",
            "Blackcurrent\n",
            "Wattermelon\n"
          ]
        }
      ]
    },
    {
      "cell_type": "markdown",
      "source": [
        "list comprehension"
      ],
      "metadata": {
        "id": "uSLOaZWOC0nR"
      }
    },
    {
      "cell_type": "code",
      "source": [
        "thislist = [\"Apple\", \"Banana\", \"Mango\", \"Cheryy\", \"Blackcurrent\", \"Wattermelon\"]\n",
        "print([x for x in thislist])"
      ],
      "metadata": {
        "colab": {
          "base_uri": "https://localhost:8080/"
        },
        "id": "kIZiU0NKAvVM",
        "outputId": "56e96ccd-1645-4019-9bf5-7002546e2726"
      },
      "execution_count": 33,
      "outputs": [
        {
          "output_type": "stream",
          "name": "stdout",
          "text": [
            "['Apple', 'Mango', 'Cheryy', 'Blackcurrent', 'Wattermelon']\n"
          ]
        }
      ]
    },
    {
      "cell_type": "markdown",
      "source": [
        "# List Comprehension"
      ],
      "metadata": {
        "id": "Sa_L9XjJD03E"
      }
    },
    {
      "cell_type": "markdown",
      "source": [
        "newlist = [ exprssion for item in itrable if condition == True]"
      ],
      "metadata": {
        "id": "c0Ycz_WjE14H"
      }
    },
    {
      "cell_type": "code",
      "source": [
        "thislist = [\"apple\", \"banana\", \"mango\", \"cheryy\", \"kiwi\", \"wattermelon\"]\n",
        "\n",
        "newlist = [x for x in thislist if \"a\" in x]\n",
        "\n",
        "print(newlist)"
      ],
      "metadata": {
        "colab": {
          "base_uri": "https://localhost:8080/"
        },
        "id": "VX0IzCQFD0AY",
        "outputId": "261066f7-7198-438e-fae5-b4751d1c2f79"
      },
      "execution_count": 58,
      "outputs": [
        {
          "output_type": "stream",
          "name": "stdout",
          "text": [
            "['apple', 'banana', 'mango', 'wattermelon']\n"
          ]
        }
      ]
    },
    {
      "cell_type": "markdown",
      "source": [
        "menggunakan kondisi"
      ],
      "metadata": {
        "id": "GbW5np8GFagQ"
      }
    },
    {
      "cell_type": "code",
      "source": [
        "newlist = [x for x in thislist if x != \"apple\" ]\n",
        "print(newlist)"
      ],
      "metadata": {
        "colab": {
          "base_uri": "https://localhost:8080/"
        },
        "id": "C3HzFUKPFgdT",
        "outputId": "2480c44a-9ad9-4b3a-c5e8-3ae8a9adf90a"
      },
      "execution_count": 13,
      "outputs": [
        {
          "output_type": "stream",
          "name": "stdout",
          "text": [
            "['banana', 'mango', 'cheryy', 'kiwi', 'wattermelon']\n"
          ]
        }
      ]
    },
    {
      "cell_type": "markdown",
      "source": [
        "iteratif"
      ],
      "metadata": {
        "id": "hxZeehkKGDVN"
      }
    },
    {
      "cell_type": "code",
      "source": [
        "newlist = [x for x in range(10)]\n",
        "print(newlist)"
      ],
      "metadata": {
        "colab": {
          "base_uri": "https://localhost:8080/"
        },
        "id": "82gISTTiGCtA",
        "outputId": "35061f90-afd4-43a8-d19f-c8348694e67a"
      },
      "execution_count": 14,
      "outputs": [
        {
          "output_type": "stream",
          "name": "stdout",
          "text": [
            "[0, 1, 2, 3, 4, 5, 6, 7, 8, 9]\n"
          ]
        }
      ]
    },
    {
      "cell_type": "markdown",
      "source": [
        "expression"
      ],
      "metadata": {
        "id": "tsspUqhYH84U"
      }
    },
    {
      "cell_type": "code",
      "source": [
        "newlist = [x.upper() for x in thislist]\n",
        "print(newlist)"
      ],
      "metadata": {
        "colab": {
          "base_uri": "https://localhost:8080/"
        },
        "id": "d2FOnGrEH8MQ",
        "outputId": "dd231bd5-d865-4f1b-94dc-665ddec46222"
      },
      "execution_count": 20,
      "outputs": [
        {
          "output_type": "stream",
          "name": "stdout",
          "text": [
            "['APPLE', 'BANANA', 'MANGO', 'CHERYY', 'KIWI', 'WATTERMELON']\n"
          ]
        }
      ]
    },
    {
      "cell_type": "code",
      "source": [
        "newlist = [x.upper() for x in thislist if \"a\" in x]\n",
        "print(newlist)"
      ],
      "metadata": {
        "colab": {
          "base_uri": "https://localhost:8080/"
        },
        "id": "lO9qY54WIjLZ",
        "outputId": "1e8b674f-6ded-49ef-8465-356cb65bb9a2"
      },
      "execution_count": 21,
      "outputs": [
        {
          "output_type": "stream",
          "name": "stdout",
          "text": [
            "['APPLE', 'BANANA', 'MANGO', 'WATTERMELON']\n"
          ]
        }
      ]
    },
    {
      "cell_type": "markdown",
      "source": [
        "multipple condition"
      ],
      "metadata": {
        "id": "dAM3JCYbKkV4"
      }
    },
    {
      "cell_type": "code",
      "source": [
        "newlist = [x if x != \"banana\" else \"stawberry\" for x in thislist]\n",
        "print(newlist)"
      ],
      "metadata": {
        "colab": {
          "base_uri": "https://localhost:8080/"
        },
        "id": "hkIwls0IKotR",
        "outputId": "dc7f4c20-93e9-431f-9251-fdde4c5a64cc"
      },
      "execution_count": 59,
      "outputs": [
        {
          "output_type": "stream",
          "name": "stdout",
          "text": [
            "['apple', 'stawberry', 'mango', 'cheryy', 'kiwi', 'wattermelon']\n"
          ]
        }
      ]
    },
    {
      "cell_type": "code",
      "source": [
        "fruits = ['apple', 'mango', 'cheryy', 'kiwi', 'wattermelon']\n",
        "newlist = [x if x != \"banana\" else \"stawberry\" for x in fruits]\n",
        "print(newlist)\n",
        "# jadi code di atas akan menghasilkan output yg sama dengan variabel fruits\n",
        "# dalam kondisinya di sebutkan bahwa menggantikan nilai dengan \"banana\"\n",
        "# dan stawbery jika ada, dan jika tidak ada \"banana\" dalam thislist, maka\n",
        "# newlist akan identik/sama dengan variebel fruits"
      ],
      "metadata": {
        "colab": {
          "base_uri": "https://localhost:8080/"
        },
        "id": "2TVCeQVnOWr_",
        "outputId": "a5633189-83a4-4f41-ea7e-4683ed6a9ea9"
      },
      "execution_count": 60,
      "outputs": [
        {
          "output_type": "stream",
          "name": "stdout",
          "text": [
            "['apple', 'mango', 'cheryy', 'kiwi', 'wattermelon']\n"
          ]
        }
      ]
    },
    {
      "cell_type": "markdown",
      "source": [
        "# List Sorting"
      ],
      "metadata": {
        "id": "4U6L7TLQP9yn"
      }
    },
    {
      "cell_type": "markdown",
      "source": [
        "sort ascending(menaik)"
      ],
      "metadata": {
        "id": "0XDYl_c0Rxgl"
      }
    },
    {
      "cell_type": "code",
      "source": [
        "thislist = [\"apple\", \"orange\", \"mango\", \"kiwi\", \"pineapple\"]\n",
        "thislist.sort()\n",
        "print(thislist)"
      ],
      "metadata": {
        "colab": {
          "base_uri": "https://localhost:8080/"
        },
        "id": "k0yijfnjP9D7",
        "outputId": "50a1a921-4a55-468d-85b4-72f000a1ae93"
      },
      "execution_count": 62,
      "outputs": [
        {
          "output_type": "stream",
          "name": "stdout",
          "text": [
            "['apple', 'kiwi', 'mango', 'orange', 'pineapple']\n"
          ]
        }
      ]
    },
    {
      "cell_type": "markdown",
      "source": [
        "jadi penggunaan ascending(naik) dalam kasus alphabet/alpha numerik itu susunanya menaik / dari abjad yg paling awal menuju ke abjad paling belakang"
      ],
      "metadata": {
        "id": "ovK6eS0ySKTm"
      }
    },
    {
      "cell_type": "code",
      "source": [
        "thislist = [200, 150, 90, 70, 40, 25, 10]\n",
        "thislist.sort()\n",
        "print(thislist)"
      ],
      "metadata": {
        "colab": {
          "base_uri": "https://localhost:8080/"
        },
        "id": "Rv0yDiRYSb_2",
        "outputId": "482d5a39-e5e3-4086-e6c6-67f860eebfd0"
      },
      "execution_count": 63,
      "outputs": [
        {
          "output_type": "stream",
          "name": "stdout",
          "text": [
            "[10, 25, 40, 70, 90, 150, 200]\n"
          ]
        }
      ]
    },
    {
      "cell_type": "markdown",
      "source": [
        "jadi penggunaan discending dalam kasus numerik/angka itu susunanya menaik / dari angka yg paling kecil menuju ke angka paling besar"
      ],
      "metadata": {
        "id": "6LkBON8mSv5w"
      }
    },
    {
      "cell_type": "markdown",
      "source": [
        "sort discending"
      ],
      "metadata": {
        "id": "yavpq4mfT1Gv"
      }
    },
    {
      "cell_type": "code",
      "source": [
        "thislist = [\"apple\", \"orange\", \"mango\", \"kiwi\", \"pineapple\"]\n",
        "thislist.sort(reverse = True)\n",
        "print(thislist)"
      ],
      "metadata": {
        "colab": {
          "base_uri": "https://localhost:8080/"
        },
        "id": "YW7bp_96T3VU",
        "outputId": "7122b432-5baa-41b1-dac8-d057556692fe"
      },
      "execution_count": 67,
      "outputs": [
        {
          "output_type": "stream",
          "name": "stdout",
          "text": [
            "['pineapple', 'orange', 'mango', 'kiwi', 'apple']\n"
          ]
        }
      ]
    },
    {
      "cell_type": "markdown",
      "source": [
        "jadi penggunaan discending dalam kasus alphabet/alpha numerik itu susunanya menurun / dari abjad yg paling belakang menuju ke abjad paling awal"
      ],
      "metadata": {
        "id": "CYaxpp1zUvRl"
      }
    },
    {
      "cell_type": "code",
      "source": [
        "thislist = [200, 150, 90, 70, 40, 25, 10]\n",
        "thislist.sort(reverse = True)\n",
        "print(thislist)"
      ],
      "metadata": {
        "colab": {
          "base_uri": "https://localhost:8080/"
        },
        "id": "-G6urjC_WFPK",
        "outputId": "4f800fd9-32d1-4887-dec6-f283eac9ae1a"
      },
      "execution_count": 68,
      "outputs": [
        {
          "output_type": "stream",
          "name": "stdout",
          "text": [
            "[200, 150, 90, 70, 40, 25, 10]\n"
          ]
        }
      ]
    },
    {
      "cell_type": "markdown",
      "source": [
        "jadi penggunaan discending dalam kasus numerik(angka) itu susunanya menurun / dari angka yg paling besar menuju ke angka paling kecil"
      ],
      "metadata": {
        "id": "hS2POfz2WNMJ"
      }
    },
    {
      "cell_type": "markdown",
      "source": [
        "# Copy list"
      ],
      "metadata": {
        "id": "MaulWZT2XY3T"
      }
    },
    {
      "cell_type": "code",
      "source": [
        "thislist = [\"wine\", \"pear\", \"longan\"]\n",
        "mylist = thislist.copy()\n",
        "print(mylist)"
      ],
      "metadata": {
        "colab": {
          "base_uri": "https://localhost:8080/"
        },
        "id": "U1ERZjKhXbvp",
        "outputId": "e347d8e4-986e-46b6-ac84-0d84af18adf3"
      },
      "execution_count": 74,
      "outputs": [
        {
          "output_type": "stream",
          "name": "stdout",
          "text": [
            "['wine', 'pear', 'longan']\n"
          ]
        }
      ]
    },
    {
      "cell_type": "markdown",
      "source": [
        "# Joint List"
      ],
      "metadata": {
        "id": "XoELXuRLZZqX"
      }
    },
    {
      "cell_type": "markdown",
      "source": [
        "Using plus(+)"
      ],
      "metadata": {
        "id": "Xn1AoAA2ZjFi"
      }
    },
    {
      "cell_type": "code",
      "source": [
        "list1 = [\"a\", \"l\", \"d\", \"i\"]\n",
        "list2 = [1, 2, 3, 4, 5]\n",
        "\n",
        "list3 = list1 + list2\n",
        "print(list3)"
      ],
      "metadata": {
        "colab": {
          "base_uri": "https://localhost:8080/"
        },
        "id": "clFf-RUxYMqb",
        "outputId": "7a96ca7f-ad52-43fe-ce9a-67e319ded8e7"
      },
      "execution_count": 75,
      "outputs": [
        {
          "output_type": "stream",
          "name": "stdout",
          "text": [
            "['a', 'l', 'd', 'i', 1, 2, 3, 4, 5]\n"
          ]
        }
      ]
    },
    {
      "cell_type": "markdown",
      "source": [
        "Itreasi(perulangan)"
      ],
      "metadata": {
        "id": "hbs1mLgXaCtd"
      }
    },
    {
      "cell_type": "code",
      "source": [
        "list1 = [\"a\", \"l\", \"d\", \"i\"]\n",
        "list2 = [1, 2, 3, 4, 5]\n",
        "\n",
        "for x in list1:\n",
        "  list2.append(x)\n",
        "\n",
        "print(list2)"
      ],
      "metadata": {
        "colab": {
          "base_uri": "https://localhost:8080/"
        },
        "id": "GeLQM2xQYZEt",
        "outputId": "e5201b5e-5bb8-4577-c534-6fac771f40d3"
      },
      "execution_count": 91,
      "outputs": [
        {
          "output_type": "stream",
          "name": "stdout",
          "text": [
            "[1, 2, 3, 4, 5, 'a', 'l', 'd', 'i']\n"
          ]
        }
      ]
    },
    {
      "cell_type": "code",
      "source": [
        "list1 = [\"a\", \"l\", \"d\", \"i\"]\n",
        "list2 = [1, 2, 3, 4, 5]\n",
        "\n",
        "for x in list1:\n",
        "  list2.append(x)\n",
        "  print(list2)"
      ],
      "metadata": {
        "colab": {
          "base_uri": "https://localhost:8080/"
        },
        "id": "-rHwU95pb2TV",
        "outputId": "86812d71-8a4d-44aa-fb15-33ea9ff36251"
      },
      "execution_count": 95,
      "outputs": [
        {
          "output_type": "stream",
          "name": "stdout",
          "text": [
            "[1, 2, 3, 4, 5, 'a']\n",
            "[1, 2, 3, 4, 5, 'a', 'l']\n",
            "[1, 2, 3, 4, 5, 'a', 'l', 'd']\n",
            "[1, 2, 3, 4, 5, 'a', 'l', 'd', 'i']\n"
          ]
        }
      ]
    },
    {
      "cell_type": "code",
      "source": [
        "list1 = [\"a\", \"l\", \"d\", \"i\"]\n",
        "list2 = [1, 2, 3, 4, 5]\n",
        "\n",
        "for x in list2:\n",
        "  list1.append(x)\n",
        "\n",
        "print(list1)"
      ],
      "metadata": {
        "colab": {
          "base_uri": "https://localhost:8080/"
        },
        "id": "VM2gzpM3bAZg",
        "outputId": "29f529ed-6026-437a-c10d-899e69a59567"
      },
      "execution_count": 96,
      "outputs": [
        {
          "output_type": "stream",
          "name": "stdout",
          "text": [
            "['a', 'l', 'd', 'i', 1, 2, 3, 4, 5]\n"
          ]
        }
      ]
    },
    {
      "cell_type": "markdown",
      "source": [
        "extend"
      ],
      "metadata": {
        "id": "LtZvRM7RcN4-"
      }
    },
    {
      "cell_type": "code",
      "source": [
        "list1 = [\"a\", \"l\", \"d\", \"i\"]\n",
        "list2 = [1, 2, 3, 4, 5]\n",
        "\n",
        "list1.extend(list2)\n",
        "print(list1)"
      ],
      "metadata": {
        "colab": {
          "base_uri": "https://localhost:8080/"
        },
        "id": "UWAIpn8AcQFM",
        "outputId": "23341eaa-48a0-4b67-a271-999fb7215e7f"
      },
      "execution_count": 98,
      "outputs": [
        {
          "output_type": "stream",
          "name": "stdout",
          "text": [
            "['a', 'l', 'd', 'i', 1, 2, 3, 4, 5]\n"
          ]
        }
      ]
    }
  ]
}