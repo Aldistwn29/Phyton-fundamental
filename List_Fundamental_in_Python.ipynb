{
  "nbformat": 4,
  "nbformat_minor": 0,
  "metadata": {
    "colab": {
      "provenance": [],
      "authorship_tag": "ABX9TyMK56R4d0yPvfeiH/5M1jdn",
      "include_colab_link": true
    },
    "kernelspec": {
      "name": "python3",
      "display_name": "Python 3"
    },
    "language_info": {
      "name": "python"
    }
  },
  "cells": [
    {
      "cell_type": "markdown",
      "metadata": {
        "id": "view-in-github",
        "colab_type": "text"
      },
      "source": [
        "<a href=\"https://colab.research.google.com/github/Aldistwn29/Phyton-fundamental/blob/main/List_Fundamental_in_Python.ipynb\" target=\"_parent\"><img src=\"https://colab.research.google.com/assets/colab-badge.svg\" alt=\"Open In Colab\"/></a>"
      ]
    },
    {
      "cell_type": "markdown",
      "source": [
        "# Python List"
      ],
      "metadata": {
        "id": "zQQfuJQI7Xe4"
      }
    },
    {
      "cell_type": "code",
      "execution_count": null,
      "metadata": {
        "id": "LHW64ZccsW4_"
      },
      "outputs": [],
      "source": [
        "mylist = [\"Frasa\",\"Rara\",\"Fauziah\"]"
      ]
    },
    {
      "cell_type": "markdown",
      "source": [
        "# Allow duplicates"
      ],
      "metadata": {
        "id": "ZrcxRbRB7cfL"
      }
    },
    {
      "cell_type": "code",
      "source": [
        "mylist = [\"myskill\", \"learning\", \"portal\", \"myskill\", \"student\"]\n",
        "print(mylist)"
      ],
      "metadata": {
        "colab": {
          "base_uri": "https://localhost:8080/"
        },
        "id": "LXvT2kH-7n6w",
        "outputId": "613690a0-fe7f-4f90-c905-c144591e1f68"
      },
      "execution_count": null,
      "outputs": [
        {
          "output_type": "stream",
          "name": "stdout",
          "text": [
            "['myskill', 'learning', 'portal', 'myskill', 'student']\n"
          ]
        }
      ]
    },
    {
      "cell_type": "markdown",
      "source": [
        "# List lengeth"
      ],
      "metadata": {
        "id": "fJArplMZ8N9U"
      }
    },
    {
      "cell_type": "code",
      "source": [
        "print(len(mylist))"
      ],
      "metadata": {
        "colab": {
          "base_uri": "https://localhost:8080/"
        },
        "id": "3GloVRlL8Rbs",
        "outputId": "11d8e586-aec9-44cc-980b-24d363893822"
      },
      "execution_count": null,
      "outputs": [
        {
          "output_type": "stream",
          "name": "stdout",
          "text": [
            "5\n"
          ]
        }
      ]
    },
    {
      "cell_type": "markdown",
      "source": [
        "# any datatype in list"
      ],
      "metadata": {
        "id": "xkOj2iIgAWXv"
      }
    },
    {
      "cell_type": "code",
      "source": [
        "list1 = [\"A\", \"B\", \"C\"]\n",
        "list2 = [1, 2, 3, 4, 5]\n",
        "list3 = [True, False, True, False]"
      ],
      "metadata": {
        "id": "VxEhgxtfAeNE"
      },
      "execution_count": null,
      "outputs": []
    },
    {
      "cell_type": "code",
      "source": [
        "lists = [\"myskill\", 25, False, 22, \"student\"]"
      ],
      "metadata": {
        "id": "iGmKoIBwA2oW"
      },
      "execution_count": null,
      "outputs": []
    },
    {
      "cell_type": "markdown",
      "source": [
        "# type"
      ],
      "metadata": {
        "id": "Xqn6Nr10BE2F"
      }
    },
    {
      "cell_type": "code",
      "source": [
        "print(type(lists))"
      ],
      "metadata": {
        "colab": {
          "base_uri": "https://localhost:8080/"
        },
        "id": "UCPLC6NWBGqB",
        "outputId": "c8d1a6ed-04ea-4cdb-dfe3-1e12b8dbf76c"
      },
      "execution_count": null,
      "outputs": [
        {
          "output_type": "stream",
          "name": "stdout",
          "text": [
            "<class 'list'>\n"
          ]
        }
      ]
    },
    {
      "cell_type": "markdown",
      "source": [
        "# list konstruktor"
      ],
      "metadata": {
        "id": "9ENGPeBNDTTD"
      }
    },
    {
      "cell_type": "code",
      "source": [
        "mylist = list((\"apps\", \"os\", \"version\")) #hrs menggunakan double kurung siku\n",
        "print(list)"
      ],
      "metadata": {
        "colab": {
          "base_uri": "https://localhost:8080/"
        },
        "id": "PaF0Zul8Dg2_",
        "outputId": "5a97b2c3-609d-4c14-82f1-62a0b56881bc"
      },
      "execution_count": 133,
      "outputs": [
        {
          "output_type": "stream",
          "name": "stdout",
          "text": [
            "<class 'list'>\n"
          ]
        }
      ]
    },
    {
      "cell_type": "markdown",
      "source": [
        "# Modification of list"
      ],
      "metadata": {
        "id": "1ltkC363EHSg"
      }
    },
    {
      "cell_type": "markdown",
      "source": [
        "# index"
      ],
      "metadata": {
        "id": "HxZg6bwgENHp"
      }
    },
    {
      "cell_type": "code",
      "source": [
        "print(mylist[0])"
      ],
      "metadata": {
        "colab": {
          "base_uri": "https://localhost:8080/"
        },
        "id": "xBP66POdEUED",
        "outputId": "bfcd3a4c-ff83-4a20-8de9-f8a93c9b9832"
      },
      "execution_count": 79,
      "outputs": [
        {
          "output_type": "stream",
          "name": "stdout",
          "text": [
            "apps\n"
          ]
        }
      ]
    },
    {
      "cell_type": "markdown",
      "source": [
        "# Negative index"
      ],
      "metadata": {
        "id": "_QQYg6iGEgio"
      }
    },
    {
      "cell_type": "code",
      "source": [
        "print(mylist[-1])"
      ],
      "metadata": {
        "colab": {
          "base_uri": "https://localhost:8080/"
        },
        "id": "61AmW5xJElo8",
        "outputId": "a3440def-7213-4bd4-cf3b-dc6df56f86fc"
      },
      "execution_count": 80,
      "outputs": [
        {
          "output_type": "stream",
          "name": "stdout",
          "text": [
            "version\n"
          ]
        }
      ]
    },
    {
      "cell_type": "markdown",
      "source": [
        "# index range"
      ],
      "metadata": {
        "id": "QsGQaofbFHsD"
      }
    },
    {
      "cell_type": "code",
      "source": [
        "print(mylist[1:3])"
      ],
      "metadata": {
        "colab": {
          "base_uri": "https://localhost:8080/"
        },
        "id": "RJb2Rv8rFLPA",
        "outputId": "b1e71e1a-6731-4be1-cc75-bf7f74796e12"
      },
      "execution_count": 81,
      "outputs": [
        {
          "output_type": "stream",
          "name": "stdout",
          "text": [
            "['os', 'version']\n"
          ]
        }
      ]
    },
    {
      "cell_type": "code",
      "source": [
        "print(mylist[:2])"
      ],
      "metadata": {
        "colab": {
          "base_uri": "https://localhost:8080/"
        },
        "id": "2ri4t8DhFct2",
        "outputId": "7517ee46-074b-4e66-abff-a979419c69d6"
      },
      "execution_count": 82,
      "outputs": [
        {
          "output_type": "stream",
          "name": "stdout",
          "text": [
            "['apps', 'os']\n"
          ]
        }
      ]
    },
    {
      "cell_type": "code",
      "source": [
        "print(mylist[1:])"
      ],
      "metadata": {
        "colab": {
          "base_uri": "https://localhost:8080/"
        },
        "id": "zyjRIkKGFwVM",
        "outputId": "555fff5f-026c-49ac-ac42-a7a3b82f940f"
      },
      "execution_count": 83,
      "outputs": [
        {
          "output_type": "stream",
          "name": "stdout",
          "text": [
            "['os', 'version']\n"
          ]
        }
      ]
    },
    {
      "cell_type": "markdown",
      "source": [
        "# change element value"
      ],
      "metadata": {
        "id": "flk7zHRAGdSn"
      }
    },
    {
      "cell_type": "code",
      "source": [
        "mylist[0] = \"linux\"\n",
        "print(mylist)"
      ],
      "metadata": {
        "colab": {
          "base_uri": "https://localhost:8080/"
        },
        "id": "elcCNlAaJARf",
        "outputId": "f082f38a-e79b-438c-ed62-4e97370ad56e"
      },
      "execution_count": 135,
      "outputs": [
        {
          "output_type": "stream",
          "name": "stdout",
          "text": [
            "['linux', 'os', 'version']\n"
          ]
        }
      ]
    },
    {
      "cell_type": "code",
      "source": [
        "mylist[1:3] = [\"android\", \"nouget\"]\n",
        "print(mylist)"
      ],
      "metadata": {
        "colab": {
          "base_uri": "https://localhost:8080/"
        },
        "id": "_NfujmVWJj_k",
        "outputId": "a55a1a53-a497-44b2-90b1-211d3d521966"
      },
      "execution_count": 136,
      "outputs": [
        {
          "output_type": "stream",
          "name": "stdout",
          "text": [
            "['linux', 'android', 'nouget']\n"
          ]
        }
      ]
    },
    {
      "cell_type": "code",
      "source": [
        "print(len(mylist))"
      ],
      "metadata": {
        "colab": {
          "base_uri": "https://localhost:8080/"
        },
        "id": "S0C_pi6sKQL7",
        "outputId": "5cf6383d-c9b4-4ee0-f28a-790baaa976ab"
      },
      "execution_count": 137,
      "outputs": [
        {
          "output_type": "stream",
          "name": "stdout",
          "text": [
            "3\n"
          ]
        }
      ]
    },
    {
      "cell_type": "code",
      "source": [
        "mylist"
      ],
      "metadata": {
        "colab": {
          "base_uri": "https://localhost:8080/"
        },
        "id": "z465ZKkzKVXf",
        "outputId": "b22d95dc-b502-4555-fdf2-3262383981cb"
      },
      "execution_count": 139,
      "outputs": [
        {
          "output_type": "execute_result",
          "data": {
            "text/plain": [
              "['linux', 'android', 'nouget']"
            ]
          },
          "metadata": {},
          "execution_count": 139
        }
      ]
    },
    {
      "cell_type": "code",
      "source": [
        "mylist2 = [\"pisang\", \"melon\", \"jeruk\", \"semangka\", \"anggur\", \"durian\"]\n",
        "mylist2[2:3] = [\"rambutan\"]\n",
        "print(mylist2)"
      ],
      "metadata": {
        "colab": {
          "base_uri": "https://localhost:8080/"
        },
        "id": "MUDgUEvIMtO0",
        "outputId": "1d88300b-4e8a-4936-8ed6-73eaec4916b4"
      },
      "execution_count": 141,
      "outputs": [
        {
          "output_type": "stream",
          "name": "stdout",
          "text": [
            "['pisang', 'melon', 'rambutan', 'semangka', 'anggur', 'durian']\n"
          ]
        }
      ]
    },
    {
      "cell_type": "code",
      "source": [
        "print(len(mylist2))"
      ],
      "metadata": {
        "colab": {
          "base_uri": "https://localhost:8080/"
        },
        "id": "YhyblvCSNrPM",
        "outputId": "512a1b60-acf0-4251-c061-dc78759b5700"
      },
      "execution_count": 143,
      "outputs": [
        {
          "output_type": "stream",
          "name": "stdout",
          "text": [
            "7\n"
          ]
        }
      ]
    },
    {
      "cell_type": "code",
      "source": [
        "mylist2 [2:3] = [\"jeruk\", \"ceri\"]\n",
        "print(mylist2)"
      ],
      "metadata": {
        "colab": {
          "base_uri": "https://localhost:8080/"
        },
        "id": "iWlFC3k5NUtq",
        "outputId": "001e3d01-fc07-4597-f3ba-30f86c71be17"
      },
      "execution_count": 145,
      "outputs": [
        {
          "output_type": "stream",
          "name": "stdout",
          "text": [
            "['pisang', 'melon', 'jeruk', 'ceri', 'ceri', 'semangka', 'anggur', 'durian']\n"
          ]
        }
      ]
    },
    {
      "cell_type": "code",
      "source": [
        "print(len(mylist2))"
      ],
      "metadata": {
        "colab": {
          "base_uri": "https://localhost:8080/"
        },
        "id": "XlmxNdOqNxlx",
        "outputId": "d5695e9b-d51c-489f-b7cd-e3b91c028364"
      },
      "execution_count": 146,
      "outputs": [
        {
          "output_type": "stream",
          "name": "stdout",
          "text": [
            "8\n"
          ]
        }
      ]
    },
    {
      "cell_type": "markdown",
      "source": [
        "jika kita memasukan lebih banyak item daripada yang kita ganti, item baru akan disisipkan di tempat yg kita tentukan, dan item yang tersisa. contoh"
      ],
      "metadata": {
        "id": "FIUX7YB1K9PZ"
      }
    },
    {
      "cell_type": "code",
      "source": [
        "thislist = [\"appel\", \"banana\", \"charry\"]\n",
        "thislist[1:2] = [\"blackcurrant\", \"watermalon\"]\n",
        "print(thislist)"
      ],
      "metadata": {
        "colab": {
          "base_uri": "https://localhost:8080/"
        },
        "id": "OGijTTGtLPWC",
        "outputId": "23c75dd4-c87a-4f21-d740-47643534857a"
      },
      "execution_count": 153,
      "outputs": [
        {
          "output_type": "stream",
          "name": "stdout",
          "text": [
            "['appel', 'blackcurrant', 'watermalon', 'charry']\n"
          ]
        }
      ]
    },
    {
      "cell_type": "markdown",
      "source": [
        "jika kita memasukan lebih sedikit item daripada yg kita ganti, item baru akan di titipkan di tempat yg kita tentukan, dan item yg tersisa akan bergerak. contoh"
      ],
      "metadata": {
        "id": "M15pYPZZOfgp"
      }
    },
    {
      "cell_type": "code",
      "source": [
        "thislist = [\"appel\", \"banana\", \"charry\"]\n",
        "thislist[1:3] = [\"watermalon\"]\n",
        "print(thislist)"
      ],
      "metadata": {
        "colab": {
          "base_uri": "https://localhost:8080/"
        },
        "id": "6w_FuhKNO6_V",
        "outputId": "d099bafc-5c57-421a-e174-c944df6ecc1a"
      },
      "execution_count": 152,
      "outputs": [
        {
          "output_type": "stream",
          "name": "stdout",
          "text": [
            "['appel', 'watermalon']\n"
          ]
        }
      ]
    },
    {
      "cell_type": "markdown",
      "source": [
        "# Add items to list"
      ],
      "metadata": {
        "id": "Fh8wPSpYPpdk"
      }
    },
    {
      "cell_type": "markdown",
      "source": [
        "append()"
      ],
      "metadata": {
        "id": "V3hEYBp-PuwO"
      }
    },
    {
      "cell_type": "code",
      "source": [
        "thislist = [\"apple\", \"banana\", \"charry\"]\n",
        "thislist.append(\"orange\")\n",
        "print(thislist)"
      ],
      "metadata": {
        "colab": {
          "base_uri": "https://localhost:8080/"
        },
        "id": "0y_k5VUOPwl7",
        "outputId": "8c822ed2-673c-4c9d-f87d-9e13dd45c96b"
      },
      "execution_count": 154,
      "outputs": [
        {
          "output_type": "stream",
          "name": "stdout",
          "text": [
            "['apple', 'banana', 'charry', 'orange']\n"
          ]
        }
      ]
    },
    {
      "cell_type": "markdown",
      "source": [
        "insert()"
      ],
      "metadata": {
        "id": "isMTnliQQQWz"
      }
    },
    {
      "cell_type": "code",
      "source": [
        "thislist = [\"apple\", \"banana\", \"charry\"]\n",
        "thislist.insert(2, \"orange\")\n",
        "print(thislist)"
      ],
      "metadata": {
        "colab": {
          "base_uri": "https://localhost:8080/"
        },
        "id": "G4vkeTbNQOuC",
        "outputId": "f326f3db-4b4c-4814-e80b-47cd4e6aec09"
      },
      "execution_count": 156,
      "outputs": [
        {
          "output_type": "stream",
          "name": "stdout",
          "text": [
            "['apple', 'banana', 'orange', 'charry']\n"
          ]
        }
      ]
    },
    {
      "cell_type": "markdown",
      "source": [
        "extend()"
      ],
      "metadata": {
        "id": "DsTdzg-7RCWN"
      }
    },
    {
      "cell_type": "code",
      "source": [
        "thislist = [\"apple\", \"banana\", \"charry\"]\n",
        "thistuple =(\"mango\", \"pineapple\", \"papaya\")\n",
        "thislist.extend(thistuple)\n",
        "print(thislist)"
      ],
      "metadata": {
        "colab": {
          "base_uri": "https://localhost:8080/"
        },
        "id": "G01i_RH1RB05",
        "outputId": "97f9c481-0283-4dec-ca51-e9633bc86839"
      },
      "execution_count": 158,
      "outputs": [
        {
          "output_type": "stream",
          "name": "stdout",
          "text": [
            "['apple', 'banana', 'charry', 'mango', 'pineapple', 'papaya']\n"
          ]
        }
      ]
    },
    {
      "cell_type": "code",
      "source": [
        "thislist = [\"apple\", \"banana\", \"charry\"]\n",
        "tropical =[\"orange\", \"kiwi\"]\n",
        "thislist.extend(tropical)\n",
        "print(thislist)"
      ],
      "metadata": {
        "colab": {
          "base_uri": "https://localhost:8080/"
        },
        "id": "jbVLvPxgShB5",
        "outputId": "150f36ae-f4f4-43c3-c494-8110a823b19b"
      },
      "execution_count": 160,
      "outputs": [
        {
          "output_type": "stream",
          "name": "stdout",
          "text": [
            "['apple', 'banana', 'charry', 'orange', 'kiwi']\n"
          ]
        }
      ]
    },
    {
      "cell_type": "markdown",
      "source": [
        "# Remove item from list"
      ],
      "metadata": {
        "id": "7ABhBgGJSXvQ"
      }
    },
    {
      "cell_type": "markdown",
      "source": [
        "remove()"
      ],
      "metadata": {
        "id": "pFsHxpxpTNTe"
      }
    },
    {
      "cell_type": "code",
      "source": [
        "thislist = [\"apple\", \"banana\", \"charry\"]\n",
        "thislist.remove(\"banana\")\n",
        "print(thislist)"
      ],
      "metadata": {
        "colab": {
          "base_uri": "https://localhost:8080/"
        },
        "id": "dScEtmygTPkz",
        "outputId": "9474cd8d-ae99-428d-94fb-e4da02629ff0"
      },
      "execution_count": 163,
      "outputs": [
        {
          "output_type": "stream",
          "name": "stdout",
          "text": [
            "['apple', 'charry']\n"
          ]
        }
      ]
    },
    {
      "cell_type": "markdown",
      "source": [
        "pop()"
      ],
      "metadata": {
        "id": "DIiL7HoHTij4"
      }
    },
    {
      "cell_type": "code",
      "source": [
        "thislist = [\"apple\", \"banana\", \"charry\"]\n",
        "thislist.pop(1)\n",
        "print(thislist)"
      ],
      "metadata": {
        "colab": {
          "base_uri": "https://localhost:8080/"
        },
        "id": "3XQ4l_xwTiIA",
        "outputId": "79852986-d9a3-47cb-deda-66d9c7223153"
      },
      "execution_count": 164,
      "outputs": [
        {
          "output_type": "stream",
          "name": "stdout",
          "text": [
            "['apple', 'charry']\n"
          ]
        }
      ]
    },
    {
      "cell_type": "markdown",
      "source": [
        "del"
      ],
      "metadata": {
        "id": "Qj8CKxNFTuuC"
      }
    },
    {
      "cell_type": "code",
      "source": [
        "thislist = [\"apple\", \"banana\", \"charry\"]\n",
        "del thislist[0]\n",
        "print(thislist)"
      ],
      "metadata": {
        "colab": {
          "base_uri": "https://localhost:8080/"
        },
        "id": "lfM3_jlHTvmi",
        "outputId": "91cb6431-2856-4d51-861c-6c6358f86c98"
      },
      "execution_count": 166,
      "outputs": [
        {
          "output_type": "stream",
          "name": "stdout",
          "text": [
            "['banana', 'charry']\n"
          ]
        }
      ]
    },
    {
      "cell_type": "markdown",
      "source": [
        "clear"
      ],
      "metadata": {
        "id": "9ZKp5TwjUGkD"
      }
    },
    {
      "cell_type": "code",
      "source": [
        "thislist = [\"apple\", \"banana\", \"charry\"]\n",
        "thislist.clear()\n",
        "print(thislist)"
      ],
      "metadata": {
        "colab": {
          "base_uri": "https://localhost:8080/"
        },
        "id": "u7sjgzbhUFj6",
        "outputId": "aeb1c453-c2e6-447d-85c1-49cd163d90f3"
      },
      "execution_count": 168,
      "outputs": [
        {
          "output_type": "stream",
          "name": "stdout",
          "text": [
            "[]\n"
          ]
        }
      ]
    }
  ]
}