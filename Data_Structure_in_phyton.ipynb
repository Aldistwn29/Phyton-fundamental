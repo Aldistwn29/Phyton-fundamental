{
  "nbformat": 4,
  "nbformat_minor": 0,
  "metadata": {
    "colab": {
      "provenance": [],
      "authorship_tag": "ABX9TyMOYORzrMMMUSJGAfTSXfaC",
      "include_colab_link": true
    },
    "kernelspec": {
      "name": "python3",
      "display_name": "Python 3"
    },
    "language_info": {
      "name": "python"
    }
  },
  "cells": [
    {
      "cell_type": "markdown",
      "metadata": {
        "id": "view-in-github",
        "colab_type": "text"
      },
      "source": [
        "<a href=\"https://colab.research.google.com/github/Aldistwn29/Phyton-fundamental/blob/main/Data_Structure_in_phyton.ipynb\" target=\"_parent\"><img src=\"https://colab.research.google.com/assets/colab-badge.svg\" alt=\"Open In Colab\"/></a>"
      ]
    },
    {
      "cell_type": "markdown",
      "source": [
        "# Linked List"
      ],
      "metadata": {
        "id": "TwllW-AP8TOs"
      }
    },
    {
      "cell_type": "code",
      "execution_count": null,
      "metadata": {
        "colab": {
          "base_uri": "https://localhost:8080/"
        },
        "id": "U1repVVN8ITp",
        "outputId": "a4897337-3b57-4d9c-cc1c-8c716113fcf9"
      },
      "outputs": [
        {
          "output_type": "stream",
          "name": "stdout",
          "text": [
            "['Aldi', 'Febri', 'Ryan']\n",
            "penambahkan element:  ['Engkus', 'Euis', 'Aldi', 'Febri', 'Ryan', 'Wulan', 'Daffi', 'Asika']\n",
            "\n",
            "Pengahpusan Element:  ['Engkus', 'Euis', 'Aldi', 'Febri', 'Ryan', 'Daffi', 'Asika']\n",
            "\n"
          ]
        }
      ],
      "source": [
        "linked_list = ['Aldi', 'Febri', 'Ryan']\n",
        "print(linked_list)\n",
        "\n",
        "# Menambahkan Element\n",
        "linked_list.append(\"Daffi\")\n",
        "linked_list.append(\"Asika\")\n",
        "linked_list.insert(3,\"Wulan\")\n",
        "linked_list.insert(0,\"Engkus\")\n",
        "linked_list.insert(1, \"Euis\")\n",
        "print(\"penambahkan element: \",linked_list)\n",
        "print()\n",
        "\n",
        "# Menghapus element (remove)\n",
        "linked_list.remove(\"Wulan\")\n",
        "print(\"Pengahpusan Element: \",linked_list)\n",
        "print()"
      ]
    },
    {
      "cell_type": "markdown",
      "source": [
        "# Stack"
      ],
      "metadata": {
        "id": "7X_7sZ9qC45F"
      }
    },
    {
      "cell_type": "code",
      "source": [
        "stack = ['Aldi', 'Febri', 'Ryan']\n",
        "print(stack)\n",
        "\n",
        "# Pushing Element\n",
        "stack.append(\"Daffi\")\n",
        "stack.append(\"Asika\")\n",
        "print(\"Element setelah di Push: \",stack)\n",
        "print()\n",
        "\n",
        "# printing top\n",
        "print(stack[-1])\n",
        "print()\n",
        "\n",
        "# popping element\n",
        "stack.pop()\n",
        "print(\"Element setelah di pop: \",stack)"
      ],
      "metadata": {
        "colab": {
          "base_uri": "https://localhost:8080/"
        },
        "id": "14TKUNg3C-NQ",
        "outputId": "29e7ddbc-4f22-4704-b7c3-3851ca2a916c"
      },
      "execution_count": null,
      "outputs": [
        {
          "output_type": "stream",
          "name": "stdout",
          "text": [
            "['Aldi', 'Febri', 'Ryan']\n",
            "Element setelah di Push:  ['Aldi', 'Febri', 'Ryan', 'Daffi', 'Asika']\n",
            "\n",
            "Asika\n",
            "\n",
            "Element setelah di pop:  ['Aldi', 'Febri', 'Ryan', 'Daffi']\n"
          ]
        }
      ]
    },
    {
      "cell_type": "markdown",
      "source": [
        "# Queue"
      ],
      "metadata": {
        "id": "wlAhUVSyK3tD"
      }
    },
    {
      "cell_type": "code",
      "source": [
        "queue = ['Aldi', 'Febri', 'Ryan']\n",
        "print(queue)\n",
        "print()\n",
        "\n",
        "# pushing element\n",
        "queue.append(\"Daffi\")\n",
        "queue.append(\"Asika\")\n",
        "print(\"Element setelah di Push: \",queue)\n",
        "print()\n",
        "\n",
        "# printing head\n",
        "print(queue[0])\n",
        "\n",
        "# printing tail\n",
        "n = len(queue)\n",
        "print(queue[-1])\n",
        "print()\n",
        "\n",
        "# poping element\n",
        "queue.remove(queue[0])\n",
        "print(queue)"
      ],
      "metadata": {
        "colab": {
          "base_uri": "https://localhost:8080/"
        },
        "id": "lB1h7sviK7ud",
        "outputId": "2af62326-1265-4cbd-b835-287fe29228cd"
      },
      "execution_count": null,
      "outputs": [
        {
          "output_type": "stream",
          "name": "stdout",
          "text": [
            "['Aldi', 'Febri', 'Ryan']\n",
            "\n",
            "Element setelah di Push:  ['Aldi', 'Febri', 'Ryan', 'Daffi', 'Asika']\n",
            "\n",
            "Aldi\n",
            "Asika\n",
            "\n",
            "['Febri', 'Ryan', 'Daffi', 'Asika']\n"
          ]
        }
      ]
    },
    {
      "cell_type": "markdown",
      "source": [
        "# Tree"
      ],
      "metadata": {
        "id": "xEW8aUbbRDdd"
      }
    },
    {
      "cell_type": "code",
      "source": [
        "class node:\n",
        "  def __init__(self,ele):\n",
        "    self.ele = ele\n",
        "    self.left = None\n",
        "    self.right = None\n",
        "\n",
        "def preorder(self):\n",
        "  if self:\n",
        "    print(self.ele)\n",
        "    preorder(self.left)\n",
        "    preorder(self.right)\n",
        "\n",
        "n = node(\"Engkus\")\n",
        "n.left = node(\"Ryan\")\n",
        "n.right = node(\"Febry\")\n",
        "preorder(n)"
      ],
      "metadata": {
        "colab": {
          "base_uri": "https://localhost:8080/"
        },
        "id": "1euvPAbQRGjg",
        "outputId": "e1444c57-21d9-43c8-872d-89477465435d"
      },
      "execution_count": null,
      "outputs": [
        {
          "output_type": "stream",
          "name": "stdout",
          "text": [
            "Engkus\n",
            "Ryan\n",
            "Febry\n"
          ]
        }
      ]
    },
    {
      "cell_type": "markdown",
      "source": [
        "# Grap"
      ],
      "metadata": {
        "id": "fWl7JrhNeL8w"
      }
    },
    {
      "cell_type": "code",
      "source": [
        "class adjnode:\n",
        "  def __init__(self, val):\n",
        "    self.val = val\n",
        "    self.next = None\n",
        "\n",
        "class graph:\n",
        "  def __init__(self, vertices):\n",
        "    self.v = vertices\n",
        "    self.ele = [None]*self.v\n",
        "\n",
        "  def edge(self, src, dest):\n",
        "    node = adjnode(dest)\n",
        "    node.next = self.ele[src]\n",
        "    self.ele[src] = node\n",
        "\n",
        "    node = adjnode(src)\n",
        "    node.next = self.ele[dest]\n",
        "    self.ele[dest] = node\n",
        "\n",
        "  def __rpr__(self):\n",
        "    for i in range(self.v):\n",
        "      print(\"Adjacency list of vertex {}\\n head\".format(i), end=\"\")\n",
        "      temp = self.ele[i]\n",
        "      while temp:\n",
        "        print(\" -> {}\".format(temp.val), end=\"\")\n",
        "        temp = temp.next\n",
        "\n",
        "\n",
        "\n",
        "g = graph(4)\n",
        "g.edge(0, 2)\n",
        "g.edge(1, 3)\n",
        "g.edge(3, 2)\n",
        "g.edge(0, 3)\n",
        "g.__rpr__()"
      ],
      "metadata": {
        "colab": {
          "base_uri": "https://localhost:8080/"
        },
        "id": "eEG57CJtePpa",
        "outputId": "75608d0c-e2e2-4316-b2ec-69e136ce5478"
      },
      "execution_count": 18,
      "outputs": [
        {
          "output_type": "stream",
          "name": "stdout",
          "text": [
            "Adjacency list of vertex 0\n",
            " head -> 3 -> 2Adjacency list of vertex 1\n",
            " head -> 3Adjacency list of vertex 2\n",
            " head -> 3 -> 0Adjacency list of vertex 3\n",
            " head -> 0 -> 2 -> 1"
          ]
        }
      ]
    },
    {
      "cell_type": "markdown",
      "source": [
        "# Hashmaps"
      ],
      "metadata": {
        "id": "90Gu22mFz7PN"
      }
    },
    {
      "cell_type": "code",
      "source": [
        "def printdic(d):\n",
        "  for key in d:\n",
        "    print(key, \"->\", d[key])\n",
        "\n",
        "hashmaps = {0: \"Ryan\", 1: \"Febri\", 2: \"Aldi\"}\n",
        "printdic(hashmaps)\n",
        "print()\n",
        "\n",
        "hashmaps[3] = \"Daffi\"\n",
        "printdic(hashmaps)\n",
        "print()\n",
        "\n",
        "hashmaps.popitem()\n",
        "printdic(hashmaps)"
      ],
      "metadata": {
        "colab": {
          "base_uri": "https://localhost:8080/"
        },
        "id": "w2Nz0JQLkBV8",
        "outputId": "a043f290-4d84-40b6-e1da-5ff74a47b826"
      },
      "execution_count": 27,
      "outputs": [
        {
          "output_type": "stream",
          "name": "stdout",
          "text": [
            "0 -> Ryan\n",
            "1 -> Febri\n",
            "2 -> Aldi\n",
            "\n",
            "0 -> Ryan\n",
            "1 -> Febri\n",
            "2 -> Aldi\n",
            "3 -> Daffi\n",
            "\n",
            "0 -> Ryan\n",
            "1 -> Febri\n",
            "2 -> Aldi\n"
          ]
        }
      ]
    }
  ]
}