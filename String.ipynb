{
  "nbformat": 4,
  "nbformat_minor": 0,
  "metadata": {
    "colab": {
      "provenance": [],
      "authorship_tag": "ABX9TyOVg1MzSupGbopaQSiZX8ZV",
      "include_colab_link": true
    },
    "kernelspec": {
      "name": "python3",
      "display_name": "Python 3"
    },
    "language_info": {
      "name": "python"
    }
  },
  "cells": [
    {
      "cell_type": "markdown",
      "metadata": {
        "id": "view-in-github",
        "colab_type": "text"
      },
      "source": [
        "<a href=\"https://colab.research.google.com/github/Aldistwn29/Phyton-fundamental/blob/main/String.ipynb\" target=\"_parent\"><img src=\"https://colab.research.google.com/assets/colab-badge.svg\" alt=\"Open In Colab\"/></a>"
      ]
    },
    {
      "cell_type": "markdown",
      "source": [
        "# What is String?"
      ],
      "metadata": {
        "id": "adbFn3qE4kVB"
      }
    },
    {
      "cell_type": "code",
      "execution_count": 1,
      "metadata": {
        "colab": {
          "base_uri": "https://localhost:8080/",
          "height": 36
        },
        "id": "LVVrX9w24gd1",
        "outputId": "5b975dc4-3990-41cb-e619-8cdc256f7e70"
      },
      "outputs": [
        {
          "output_type": "execute_result",
          "data": {
            "text/plain": [
              "'Myskill'"
            ],
            "application/vnd.google.colaboratory.intrinsic+json": {
              "type": "string"
            }
          },
          "metadata": {},
          "execution_count": 1
        }
      ],
      "source": [
        "'Myskill' or \"Myskill\""
      ]
    },
    {
      "cell_type": "code",
      "source": [
        "print(\"Myskill providing course\"[12])"
      ],
      "metadata": {
        "colab": {
          "base_uri": "https://localhost:8080/"
        },
        "id": "Be7j67eW6zTN",
        "outputId": "62c8b519-ae5e-4241-bd8b-28bda26014ea"
      },
      "execution_count": 8,
      "outputs": [
        {
          "output_type": "stream",
          "name": "stdout",
          "text": [
            "i\n"
          ]
        }
      ]
    },
    {
      "cell_type": "markdown",
      "source": [
        "# Create String"
      ],
      "metadata": {
        "id": "JJ2EVVtj79Kq"
      }
    },
    {
      "cell_type": "code",
      "source": [
        "# Creating a String\n",
        "# with single Quetes\n",
        "String1 = 'Welcome to Myskill'\n",
        "print(\"String with the use of single Quotes\")\n",
        "print(String1)\n",
        "\n",
        "# Creatin a String\n",
        "# with double Quetes\n",
        "String =\"i'm Imron\"\n",
        "print(\"\\nString with the use of single Quotes\")\n",
        "print(String1)\n",
        "\n",
        "# Creating a String\n",
        "# with triple Quetes\n",
        "String1 = '''i'M Myskill Student And i Delovop \"Skill\"'''\n",
        "print(\"\\nString with the use of Tripel Quotes\")\n",
        "print(String1)\n",
        "\n",
        "# Creating String with triple\n",
        "# Quetes allows multiple lines\n",
        "String1 = '''My skill\n",
        "              For\n",
        "              Life'''\n",
        "print(\"\\nCreating a multiline String \")\n",
        "print(String1)"
      ],
      "metadata": {
        "colab": {
          "base_uri": "https://localhost:8080/"
        },
        "id": "SdCqpdnB8DuU",
        "outputId": "de0a4b3c-778b-4680-923a-074a6c588d0d"
      },
      "execution_count": 15,
      "outputs": [
        {
          "output_type": "stream",
          "name": "stdout",
          "text": [
            "String with the use of single Quotes\n",
            "Welcome to Myskill\n",
            "\n",
            "String with the use of single Quotes\n",
            "Welcome to Myskill\n",
            "\n",
            "String with the use of Tripel Quotes\n",
            "i'M Myskill Student And i Delovop \"Skill\"\n",
            "\n",
            "Creating a multiline String \n",
            "My skill\n",
            "              For\n",
            "              Life\n"
          ]
        }
      ]
    },
    {
      "cell_type": "markdown",
      "source": [
        "# Access Character in Python String"
      ],
      "metadata": {
        "id": "G3jseMXeAX4U"
      }
    },
    {
      "cell_type": "code",
      "source": [
        "String1 = \"Myskill\"\n",
        "print(\"initial String: \")\n",
        "print(String1)\n",
        "\n",
        "# Printing Frist Character\n",
        "print(\"\\nFrist Character of String is: \")\n",
        "print(String1[0])\n",
        "\n",
        "# Printing Last Character\n",
        "print(\"\\nLast Character of String is: \")\n",
        "print(String1[-1])"
      ],
      "metadata": {
        "colab": {
          "base_uri": "https://localhost:8080/"
        },
        "id": "O8UCEzgd_rp7",
        "outputId": "cf1d5dfa-65cd-48ef-d252-e454e105ba5f"
      },
      "execution_count": 20,
      "outputs": [
        {
          "output_type": "stream",
          "name": "stdout",
          "text": [
            "initial String: \n",
            "Myskill\n",
            "\n",
            "Frist Character of String is: \n",
            "M\n",
            "\n",
            "Last Character of String is: \n",
            "l\n"
          ]
        }
      ]
    },
    {
      "cell_type": "markdown",
      "source": [
        "# Reverse String"
      ],
      "metadata": {
        "id": "HKtI1_O8Eht0"
      }
    },
    {
      "cell_type": "markdown",
      "source": [
        "Dengan Mengakses karakter Dari Sebuah String, kita juga dapat membalikannya. kita dapat Membalikan skrg dengan menulis [::-1} dan sekarang akan di balik"
      ],
      "metadata": {
        "id": "wD7tNb52EoFu"
      }
    },
    {
      "cell_type": "code",
      "source": [
        "# program to revers a string\n",
        "msk = \"aldisetiawan\"\n",
        "print(msk[::-1])"
      ],
      "metadata": {
        "colab": {
          "base_uri": "https://localhost:8080/"
        },
        "id": "_IWDoCtGFUTk",
        "outputId": "1879aadc-a1ce-4f85-8d97-e1491bad601c"
      },
      "execution_count": 25,
      "outputs": [
        {
          "output_type": "stream",
          "name": "stdout",
          "text": [
            "nawaitesidla\n"
          ]
        }
      ]
    },
    {
      "cell_type": "code",
      "source": [
        "msk = \"aldisetiawan\"\n",
        "\n",
        "# Reverse the string using  reversed and join function\n",
        "msk = \"\".join(reversed(msk))\n",
        "\n",
        "print(msk)"
      ],
      "metadata": {
        "colab": {
          "base_uri": "https://localhost:8080/"
        },
        "id": "syl2qAvaF1bG",
        "outputId": "4cd84bdb-51e0-4956-fa55-14475e71eaa2"
      },
      "execution_count": 27,
      "outputs": [
        {
          "output_type": "stream",
          "name": "stdout",
          "text": [
            "nawaitesidla\n"
          ]
        }
      ]
    },
    {
      "cell_type": "markdown",
      "source": [
        "# String Slicing"
      ],
      "metadata": {
        "id": "qHKQu0dfGl2p"
      }
    },
    {
      "cell_type": "markdown",
      "source": [
        "untuk mengakses beberbagai karakter dalam String, Metode slicing dilakukan dengan menggunakan operator Slicing(titik dua)"
      ],
      "metadata": {
        "id": "AhX44rYKGv9s"
      }
    },
    {
      "cell_type": "code",
      "source": [
        "# creating a String\n",
        "String1 = \"Myskill\"\n",
        "print(\"initial String: \")\n",
        "print(String1)\n",
        "\n",
        "# printing 3rd to 7rd character\n",
        "print(\"\\nSlicing from 3-7: \")\n",
        "print(String1[3:7])\n",
        "\n",
        "# printing character betwen\n",
        "# 3rd and 2rd last character\n",
        "print(\"\\nSlicing character betwen\" + \"3rd and 2rd last character\")\n",
        "print(String1[3:-1])"
      ],
      "metadata": {
        "colab": {
          "base_uri": "https://localhost:8080/"
        },
        "id": "UPjX21m2HQB9",
        "outputId": "30022c4f-b395-48dc-efb9-ecf89ca61ffb"
      },
      "execution_count": 55,
      "outputs": [
        {
          "output_type": "stream",
          "name": "stdout",
          "text": [
            "initial String: \n",
            "Myskill\n",
            "\n",
            "Slicing from 3-7: \n",
            "kill\n",
            "\n",
            "Slicing character betwen3rd and 2rd last character\n",
            "kil\n"
          ]
        }
      ]
    },
    {
      "cell_type": "markdown",
      "source": [
        "# Delete and Update String"
      ],
      "metadata": {
        "id": "R9a5P6iOJl16"
      }
    },
    {
      "cell_type": "markdown",
      "source": [
        "# Update Character"
      ],
      "metadata": {
        "id": "NNa8CXh9Jti3"
      }
    },
    {
      "cell_type": "code",
      "source": [
        "# Phyton Program to Update\n",
        "# character of a string\n",
        "String1 = \"Hello i'm myskill student\"\n",
        "print(\"initial String: \")\n",
        "print(String1)\n",
        "\n",
        "# Update a character of the String\n",
        "## As phyton String are immutable, they don't support item updation directly\n",
        "### There are following two ways\n",
        "#1\n",
        "list1 = list(String1)\n",
        "list1[3] = 'p'\n",
        "String2 = \"\".join(list1)\n",
        "print(\"Updating character at 3rd index: \")\n",
        "print(String2)\n",
        "\n",
        "#2\n",
        "String3 = String1[0:5] + 'w' + String1[5:]\n",
        "print(String3)"
      ],
      "metadata": {
        "colab": {
          "base_uri": "https://localhost:8080/"
        },
        "id": "dt2KD2fjGqex",
        "outputId": "9f67020c-cda9-46bb-a679-75fb4c4e66bd"
      },
      "execution_count": 50,
      "outputs": [
        {
          "output_type": "stream",
          "name": "stdout",
          "text": [
            "initial String: \n",
            "Hello i'm myskill student\n",
            "Updating character at 3rd index: \n",
            "Helpo i'm myskill student\n",
            "Hellow i'm myskill student\n"
          ]
        }
      ]
    },
    {
      "cell_type": "markdown",
      "source": [
        "# Update Entire String"
      ],
      "metadata": {
        "id": "0h1qwvR5OIK8"
      }
    },
    {
      "cell_type": "code",
      "source": [
        "String1 = \"Hello i'm Aldi\"\n",
        "print(\"initial String: \")\n",
        "print(String1)\n",
        "\n",
        "# Update a string\n",
        "String1 = \"Welcome to myskill\"\n",
        "print(\"Update String: \")\n",
        "print(String1)"
      ],
      "metadata": {
        "colab": {
          "base_uri": "https://localhost:8080/"
        },
        "id": "BgFWQtkOOY5R",
        "outputId": "3777b189-63ee-4080-a2e9-202983f0bc4c"
      },
      "execution_count": 56,
      "outputs": [
        {
          "output_type": "stream",
          "name": "stdout",
          "text": [
            "initial String: \n",
            "Hello i'm Aldi\n",
            "Update String: \n",
            "Welcome to myskill\n"
          ]
        }
      ]
    },
    {
      "cell_type": "markdown",
      "source": [
        "# Delete Character"
      ],
      "metadata": {
        "id": "1-XgabrPPTc8"
      }
    },
    {
      "cell_type": "code",
      "source": [
        "String1 = \"Hello, welcome to myskill\"\n",
        "print(\"initial String: \")\n",
        "print(String1)\n",
        "\n",
        "# Deleting a character of the string\n",
        "String1 = String1[0:2] + String1[3:]\n",
        "print(\"\\nDeleting character at 2nd index: \")\n",
        "print(String1)"
      ],
      "metadata": {
        "colab": {
          "base_uri": "https://localhost:8080/"
        },
        "id": "K17bcFEJPXn4",
        "outputId": "e07de6db-beeb-4d9e-87e0-ea1e520d0848"
      },
      "execution_count": 60,
      "outputs": [
        {
          "output_type": "stream",
          "name": "stdout",
          "text": [
            "initial String: \n",
            "Hello, welcome to myskill\n",
            "\n",
            "Deleting character at 2nd index: \n",
            "Helo, welcome to myskill\n"
          ]
        }
      ]
    },
    {
      "cell_type": "markdown",
      "source": [
        "# Deleting Entrie String"
      ],
      "metadata": {
        "id": "I5Lp1iVbQlsG"
      }
    },
    {
      "cell_type": "code",
      "source": [
        "String1 = \"Welcome to Myskill\"\n",
        "print(\"initial String: \")\n",
        "print(String1)\n",
        "\n",
        "# Deleting a String\n",
        "# with the use of del\n",
        "del String1\n",
        "print(\"\\nDeleting Entire String: \")\n",
        "print(String1)"
      ],
      "metadata": {
        "colab": {
          "base_uri": "https://localhost:8080/",
          "height": 290
        },
        "id": "KxnqKdh2QqWS",
        "outputId": "4a00054c-f149-4a01-c1f9-fbac18cede63"
      },
      "execution_count": 61,
      "outputs": [
        {
          "output_type": "stream",
          "name": "stdout",
          "text": [
            "initial String: \n",
            "Welcome to Myskill\n",
            "\n",
            "Deleting Entire String: \n"
          ]
        },
        {
          "output_type": "error",
          "ename": "NameError",
          "evalue": "ignored",
          "traceback": [
            "\u001b[0;31m---------------------------------------------------------------------------\u001b[0m",
            "\u001b[0;31mNameError\u001b[0m                                 Traceback (most recent call last)",
            "\u001b[0;32m<ipython-input-61-923acd899698>\u001b[0m in \u001b[0;36m<cell line: 9>\u001b[0;34m()\u001b[0m\n\u001b[1;32m      7\u001b[0m \u001b[0;32mdel\u001b[0m \u001b[0mString1\u001b[0m\u001b[0;34m\u001b[0m\u001b[0;34m\u001b[0m\u001b[0m\n\u001b[1;32m      8\u001b[0m \u001b[0mprint\u001b[0m\u001b[0;34m(\u001b[0m\u001b[0;34m\"\\nDeleting Entire String: \"\u001b[0m\u001b[0;34m)\u001b[0m\u001b[0;34m\u001b[0m\u001b[0;34m\u001b[0m\u001b[0m\n\u001b[0;32m----> 9\u001b[0;31m \u001b[0mprint\u001b[0m\u001b[0;34m(\u001b[0m\u001b[0mString1\u001b[0m\u001b[0;34m)\u001b[0m\u001b[0;34m\u001b[0m\u001b[0;34m\u001b[0m\u001b[0m\n\u001b[0m",
            "\u001b[0;31mNameError\u001b[0m: name 'String1' is not defined"
          ]
        }
      ]
    }
  ]
}