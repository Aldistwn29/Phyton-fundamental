{
  "nbformat": 4,
  "nbformat_minor": 0,
  "metadata": {
    "colab": {
      "provenance": [],
      "authorship_tag": "ABX9TyPfVTJCTRxaU50SMsnpp7bX",
      "include_colab_link": true
    },
    "kernelspec": {
      "name": "python3",
      "display_name": "Python 3"
    },
    "language_info": {
      "name": "python"
    }
  },
  "cells": [
    {
      "cell_type": "markdown",
      "metadata": {
        "id": "view-in-github",
        "colab_type": "text"
      },
      "source": [
        "<a href=\"https://colab.research.google.com/github/Aldistwn29/Phyton-fundamental/blob/main/Syntax.ipynb\" target=\"_parent\"><img src=\"https://colab.research.google.com/assets/colab-badge.svg\" alt=\"Open In Colab\"/></a>"
      ]
    },
    {
      "cell_type": "code",
      "execution_count": null,
      "metadata": {
        "id": "TLUGqEHwDF8B"
      },
      "outputs": [],
      "source": [
        "# set the midpoint\n",
        "midpoint = 5"
      ]
    },
    {
      "cell_type": "code",
      "source": [
        "# make the empty Lists\n",
        "lower = [] ; upper = []"
      ],
      "metadata": {
        "id": "HkRb9dsAERTq"
      },
      "execution_count": null,
      "outputs": []
    },
    {
      "cell_type": "code",
      "source": [
        "# split the numbers into lower and upper\n",
        "for i in range(10):\n",
        "  if(i < midpoint):\n",
        "      lower.append(i)\n",
        "  else:\n",
        "      upper.append(i)\n",
        "\n",
        "print(\"lower\", lower)\n",
        "print(\"upper\", upper)"
      ],
      "metadata": {
        "colab": {
          "base_uri": "https://localhost:8080/"
        },
        "id": "V8ZEe20pDcja",
        "outputId": "5540256e-369a-4efb-8168-7219a8b6e2de"
      },
      "execution_count": null,
      "outputs": [
        {
          "output_type": "stream",
          "name": "stdout",
          "text": [
            "lower [0, 1, 2, 3, 4]\n",
            "upper [5, 6, 7, 8, 9]\n"
          ]
        }
      ]
    }
  ]
}